{
 "cells": [
  {
   "cell_type": "markdown",
   "metadata": {
    "id": "qdD-0HNReOjP"
   },
   "source": [
    "# Supervised Learning Models\n",
    "\n",
    "### Fiona Fang"
   ]
  },
  {
   "cell_type": "markdown",
   "metadata": {
    "id": "gtScQKDeeO0G"
   },
   "source": [
    "# Part 1: Regression on California Test Scores\n",
    "\n"
   ]
  },
  {
   "cell_type": "markdown",
   "metadata": {
    "id": "XP7VLGZ4fMO5"
   },
   "source": [
    "## 1. Find the url for the California Test Score Data Set"
   ]
  },
  {
   "cell_type": "code",
   "execution_count": 1,
   "metadata": {
    "id": "96P_NgdFeoGM"
   },
   "outputs": [],
   "source": [
    "#Import Python Libraries\n",
    "import pandas as pd\n",
    "import numpy as np\n",
    "import matplotlib as mpl\n",
    "import seaborn as sns\n"
   ]
  },
  {
   "cell_type": "code",
   "execution_count": 2,
   "metadata": {},
   "outputs": [],
   "source": [
    "import warnings\n",
    "warnings.filterwarnings('ignore')\n"
   ]
  },
  {
   "cell_type": "code",
   "execution_count": 3,
   "metadata": {
    "id": "yPvg3CCefWHY"
   },
   "outputs": [],
   "source": [
    "#Read csv file\n",
    "df = pd.read_csv(\"https://vincentarelbundock.github.io/Rdatasets/csv/Ecdat/Caschool.csv\")\n"
   ]
  },
  {
   "cell_type": "code",
   "execution_count": 4,
   "metadata": {
    "colab": {
     "base_uri": "https://localhost:8080/",
     "height": 382
    },
    "id": "QPTL0qqrfkgd",
    "outputId": "3b849333-b17e-4f26-9c03-67a20ed144e6"
   },
   "outputs": [
    {
     "data": {
      "text/html": [
       "<div>\n",
       "<style scoped>\n",
       "    .dataframe tbody tr th:only-of-type {\n",
       "        vertical-align: middle;\n",
       "    }\n",
       "\n",
       "    .dataframe tbody tr th {\n",
       "        vertical-align: top;\n",
       "    }\n",
       "\n",
       "    .dataframe thead th {\n",
       "        text-align: right;\n",
       "    }\n",
       "</style>\n",
       "<table border=\"1\" class=\"dataframe\">\n",
       "  <thead>\n",
       "    <tr style=\"text-align: right;\">\n",
       "      <th></th>\n",
       "      <th>rownames</th>\n",
       "      <th>distcod</th>\n",
       "      <th>county</th>\n",
       "      <th>district</th>\n",
       "      <th>grspan</th>\n",
       "      <th>enrltot</th>\n",
       "      <th>teachers</th>\n",
       "      <th>calwpct</th>\n",
       "      <th>mealpct</th>\n",
       "      <th>computer</th>\n",
       "      <th>testscr</th>\n",
       "      <th>compstu</th>\n",
       "      <th>expnstu</th>\n",
       "      <th>str</th>\n",
       "      <th>avginc</th>\n",
       "      <th>elpct</th>\n",
       "      <th>readscr</th>\n",
       "      <th>mathscr</th>\n",
       "    </tr>\n",
       "  </thead>\n",
       "  <tbody>\n",
       "    <tr>\n",
       "      <th>0</th>\n",
       "      <td>1</td>\n",
       "      <td>75119</td>\n",
       "      <td>Alameda</td>\n",
       "      <td>Sunol Glen Unified</td>\n",
       "      <td>KK-08</td>\n",
       "      <td>195</td>\n",
       "      <td>10.900000</td>\n",
       "      <td>0.510200</td>\n",
       "      <td>2.040800</td>\n",
       "      <td>67</td>\n",
       "      <td>690.799988</td>\n",
       "      <td>0.343590</td>\n",
       "      <td>6384.911133</td>\n",
       "      <td>17.889910</td>\n",
       "      <td>22.690001</td>\n",
       "      <td>0.000000</td>\n",
       "      <td>691.599976</td>\n",
       "      <td>690.000000</td>\n",
       "    </tr>\n",
       "    <tr>\n",
       "      <th>1</th>\n",
       "      <td>2</td>\n",
       "      <td>61499</td>\n",
       "      <td>Butte</td>\n",
       "      <td>Manzanita Elementary</td>\n",
       "      <td>KK-08</td>\n",
       "      <td>240</td>\n",
       "      <td>11.150000</td>\n",
       "      <td>15.416700</td>\n",
       "      <td>47.916698</td>\n",
       "      <td>101</td>\n",
       "      <td>661.200012</td>\n",
       "      <td>0.420833</td>\n",
       "      <td>5099.380859</td>\n",
       "      <td>21.524664</td>\n",
       "      <td>9.824000</td>\n",
       "      <td>4.583333</td>\n",
       "      <td>660.500000</td>\n",
       "      <td>661.900024</td>\n",
       "    </tr>\n",
       "    <tr>\n",
       "      <th>2</th>\n",
       "      <td>3</td>\n",
       "      <td>61549</td>\n",
       "      <td>Butte</td>\n",
       "      <td>Thermalito Union Elementary</td>\n",
       "      <td>KK-08</td>\n",
       "      <td>1550</td>\n",
       "      <td>82.900002</td>\n",
       "      <td>55.032299</td>\n",
       "      <td>76.322601</td>\n",
       "      <td>169</td>\n",
       "      <td>643.599976</td>\n",
       "      <td>0.109032</td>\n",
       "      <td>5501.954590</td>\n",
       "      <td>18.697226</td>\n",
       "      <td>8.978000</td>\n",
       "      <td>30.000002</td>\n",
       "      <td>636.299988</td>\n",
       "      <td>650.900024</td>\n",
       "    </tr>\n",
       "    <tr>\n",
       "      <th>3</th>\n",
       "      <td>4</td>\n",
       "      <td>61457</td>\n",
       "      <td>Butte</td>\n",
       "      <td>Golden Feather Union Elementary</td>\n",
       "      <td>KK-08</td>\n",
       "      <td>243</td>\n",
       "      <td>14.000000</td>\n",
       "      <td>36.475399</td>\n",
       "      <td>77.049202</td>\n",
       "      <td>85</td>\n",
       "      <td>647.700012</td>\n",
       "      <td>0.349794</td>\n",
       "      <td>7101.831055</td>\n",
       "      <td>17.357143</td>\n",
       "      <td>8.978000</td>\n",
       "      <td>0.000000</td>\n",
       "      <td>651.900024</td>\n",
       "      <td>643.500000</td>\n",
       "    </tr>\n",
       "    <tr>\n",
       "      <th>4</th>\n",
       "      <td>5</td>\n",
       "      <td>61523</td>\n",
       "      <td>Butte</td>\n",
       "      <td>Palermo Union Elementary</td>\n",
       "      <td>KK-08</td>\n",
       "      <td>1335</td>\n",
       "      <td>71.500000</td>\n",
       "      <td>33.108601</td>\n",
       "      <td>78.427002</td>\n",
       "      <td>171</td>\n",
       "      <td>640.849976</td>\n",
       "      <td>0.128090</td>\n",
       "      <td>5235.987793</td>\n",
       "      <td>18.671329</td>\n",
       "      <td>9.080333</td>\n",
       "      <td>13.857677</td>\n",
       "      <td>641.799988</td>\n",
       "      <td>639.900024</td>\n",
       "    </tr>\n",
       "  </tbody>\n",
       "</table>\n",
       "</div>"
      ],
      "text/plain": [
       "   rownames  distcod   county                         district grspan  \\\n",
       "0         1    75119  Alameda               Sunol Glen Unified  KK-08   \n",
       "1         2    61499    Butte             Manzanita Elementary  KK-08   \n",
       "2         3    61549    Butte      Thermalito Union Elementary  KK-08   \n",
       "3         4    61457    Butte  Golden Feather Union Elementary  KK-08   \n",
       "4         5    61523    Butte         Palermo Union Elementary  KK-08   \n",
       "\n",
       "   enrltot   teachers    calwpct    mealpct  computer     testscr   compstu  \\\n",
       "0      195  10.900000   0.510200   2.040800        67  690.799988  0.343590   \n",
       "1      240  11.150000  15.416700  47.916698       101  661.200012  0.420833   \n",
       "2     1550  82.900002  55.032299  76.322601       169  643.599976  0.109032   \n",
       "3      243  14.000000  36.475399  77.049202        85  647.700012  0.349794   \n",
       "4     1335  71.500000  33.108601  78.427002       171  640.849976  0.128090   \n",
       "\n",
       "       expnstu        str     avginc      elpct     readscr     mathscr  \n",
       "0  6384.911133  17.889910  22.690001   0.000000  691.599976  690.000000  \n",
       "1  5099.380859  21.524664   9.824000   4.583333  660.500000  661.900024  \n",
       "2  5501.954590  18.697226   8.978000  30.000002  636.299988  650.900024  \n",
       "3  7101.831055  17.357143   8.978000   0.000000  651.900024  643.500000  \n",
       "4  5235.987793  18.671329   9.080333  13.857677  641.799988  639.900024  "
      ]
     },
     "execution_count": 4,
     "metadata": {},
     "output_type": "execute_result"
    }
   ],
   "source": [
    "# List first 5 records\n",
    "df.head(5)\n"
   ]
  },
  {
   "cell_type": "markdown",
   "metadata": {
    "id": "7Y64oaxSeoxe"
   },
   "source": [
    "## 1.1 Visualize the univariate distribution of the target feature and each of the three continuous explanatory variables that you think are likely to have a relationship with the target feature"
   ]
  },
  {
   "cell_type": "code",
   "execution_count": 5,
   "metadata": {
    "colab": {
     "base_uri": "https://localhost:8080/"
    },
    "id": "TlT5y5Nvf0ok",
    "outputId": "3f18cb29-fd6b-42e7-967e-22eb6a98dd92"
   },
   "outputs": [
    {
     "data": {
      "text/plain": [
       "rownames      int64\n",
       "distcod       int64\n",
       "county       object\n",
       "district     object\n",
       "grspan       object\n",
       "enrltot       int64\n",
       "teachers    float64\n",
       "calwpct     float64\n",
       "mealpct     float64\n",
       "computer      int64\n",
       "testscr     float64\n",
       "compstu     float64\n",
       "expnstu     float64\n",
       "str         float64\n",
       "avginc      float64\n",
       "elpct       float64\n",
       "readscr     float64\n",
       "mathscr     float64\n",
       "dtype: object"
      ]
     },
     "execution_count": 5,
     "metadata": {},
     "output_type": "execute_result"
    }
   ],
   "source": [
    "#Check types for all the columns\n",
    "df.dtypes\n"
   ]
  },
  {
   "cell_type": "markdown",
   "metadata": {},
   "source": [
    "Univariate distribution of the target feature testscr:"
   ]
  },
  {
   "cell_type": "code",
   "execution_count": 6,
   "metadata": {
    "colab": {
     "base_uri": "https://localhost:8080/",
     "height": 467
    },
    "id": "8YJ0who2hb29",
    "outputId": "3415b313-243a-47ac-eb7c-25ebebb96176"
   },
   "outputs": [
    {
     "data": {
      "text/plain": [
       "Text(0, 0.5, 'Count')"
      ]
     },
     "execution_count": 6,
     "metadata": {},
     "output_type": "execute_result"
    },
    {
     "data": {
      "image/png": "[encoded data removed]",
      "text/plain": [
       "<Figure size 640x480 with 1 Axes>"
      ]
     },
     "metadata": {},
     "output_type": "display_data"
    }
   ],
   "source": [
    "# Create a histogram using testscr column\n",
    "from matplotlib import pyplot as plt\n",
    "\n",
    "df['testscr'].hist()\n",
    "plt.xlabel('Average test score')\n",
    "plt.ylabel('Count')\n"
   ]
  },
  {
   "cell_type": "markdown",
   "metadata": {
    "id": "bMLQQRkK8y5q"
   },
   "source": [
    "Three continuous variables I choose are avginc, str, and mealpct.\n",
    "\n",
    "The variable avginc measures the district average income.\n"
   ]
  },
  {
   "cell_type": "code",
   "execution_count": 7,
   "metadata": {
    "colab": {
     "base_uri": "https://localhost:8080/",
     "height": 467
    },
    "id": "TamrslQaCapV",
    "outputId": "4cff2683-a5d7-452f-f502-e2c5ec45120b"
   },
   "outputs": [
    {
     "data": {
      "text/plain": [
       "Text(0, 0.5, 'Count')"
      ]
     },
     "execution_count": 7,
     "metadata": {},
     "output_type": "execute_result"
    },
    {
     "data": {
      "image/png": "[encoded data removed]",
      "text/plain": [
       "<Figure size 640x480 with 1 Axes>"
      ]
     },
     "metadata": {},
     "output_type": "display_data"
    }
   ],
   "source": [
    "# Create a histogram using avginc column\n",
    "df['avginc'].hist()\n",
    "plt.xlabel('District average income')\n",
    "plt.ylabel('Count')\n"
   ]
  },
  {
   "cell_type": "markdown",
   "metadata": {
    "id": "tvzXNxFQ9Yzc"
   },
   "source": [
    "The variable str measures the student teacher ratio."
   ]
  },
  {
   "cell_type": "code",
   "execution_count": 8,
   "metadata": {
    "colab": {
     "base_uri": "https://localhost:8080/",
     "height": 467
    },
    "id": "zKwXiBz26kGj",
    "outputId": "54c948d8-4d50-4b7f-a31c-2aa397bd391b"
   },
   "outputs": [
    {
     "data": {
      "text/plain": [
       "Text(0, 0.5, 'Count')"
      ]
     },
     "execution_count": 8,
     "metadata": {},
     "output_type": "execute_result"
    },
    {
     "data": {
      "image/png": "[encoded data removed]",
      "text/plain": [
       "<Figure size 640x480 with 1 Axes>"
      ]
     },
     "metadata": {},
     "output_type": "display_data"
    }
   ],
   "source": [
    "# Create a histogram using str column\n",
    "df['str'].hist()\n",
    "plt.xlabel('Student teacher ratio')\n",
    "plt.ylabel('Count')\n"
   ]
  },
  {
   "cell_type": "markdown",
   "metadata": {
    "id": "jQSEQXTP9sHT"
   },
   "source": [
    "The variable mealpct measures the percent qualifying for reduced-price lunch."
   ]
  },
  {
   "cell_type": "code",
   "execution_count": 9,
   "metadata": {
    "colab": {
     "base_uri": "https://localhost:8080/",
     "height": 467
    },
    "id": "saeppRUbCF0T",
    "outputId": "9ff53251-cb39-4548-af5a-e30bef33697d"
   },
   "outputs": [
    {
     "data": {
      "text/plain": [
       "Text(0, 0.5, 'Count')"
      ]
     },
     "execution_count": 9,
     "metadata": {},
     "output_type": "execute_result"
    },
    {
     "data": {
      "image/png": "[encoded data removed]",
      "text/plain": [
       "<Figure size 640x480 with 1 Axes>"
      ]
     },
     "metadata": {},
     "output_type": "display_data"
    }
   ],
   "source": [
    "# Create a histogram using mealpct column\n",
    "df['mealpct'].hist()\n",
    "plt.xlabel('Percent qualifying for reduced-price lunch')\n",
    "plt.ylabel('Count')\n"
   ]
  },
  {
   "cell_type": "markdown",
   "metadata": {
    "id": "_l4eVefee2sa"
   },
   "source": [
    "## 1.2 Visualize the dependency of the target on each feature from 1.1\n"
   ]
  },
  {
   "cell_type": "code",
   "execution_count": 10,
   "metadata": {
    "colab": {
     "base_uri": "https://localhost:8080/",
     "height": 472
    },
    "id": "Csna8p0KIiHc",
    "outputId": "f15af919-cc34-4718-901e-40dc84c82fdc"
   },
   "outputs": [
    {
     "data": {
      "image/png": "[encoded data removed]",
      "text/plain": [
       "<Figure size 640x480 with 1 Axes>"
      ]
     },
     "metadata": {},
     "output_type": "display_data"
    }
   ],
   "source": [
    "# Create a scatterplot using avginc and testscr column\n",
    "sns.regplot(x='avginc', y='testscr', data=df)\n",
    "plt.title(\"District Average Income and Average Test Score\")\n",
    "plt.xlabel(\"District average income\")\n",
    "plt.ylabel(\"Average test score\")\n",
    "plt.show()\n"
   ]
  },
  {
   "cell_type": "code",
   "execution_count": 11,
   "metadata": {
    "colab": {
     "base_uri": "https://localhost:8080/",
     "height": 472
    },
    "id": "MQ0YcCmiIPIV",
    "outputId": "cf270f96-7b89-40e2-c1a6-46c9b56a6da1"
   },
   "outputs": [
    {
     "data": {
      "image/png": "[encoded data removed]",
      "text/plain": [
       "<Figure size 640x480 with 1 Axes>"
      ]
     },
     "metadata": {},
     "output_type": "display_data"
    }
   ],
   "source": [
    "# Create a scatterplot using str and testscr column\n",
    "sns.regplot(x='str', y='testscr', data=df)\n",
    "plt.title(\"Student Teacher Ratio and and Average Test Score\")\n",
    "plt.xlabel(\"Student teacher ratio\")\n",
    "plt.ylabel(\"Average test score\")\n",
    "plt.show()\n"
   ]
  },
  {
   "cell_type": "code",
   "execution_count": 12,
   "metadata": {
    "colab": {
     "base_uri": "https://localhost:8080/",
     "height": 472
    },
    "id": "rFkFoXyVH0xK",
    "outputId": "6dbddeed-e3bd-4559-f06d-c93ab84da681"
   },
   "outputs": [
    {
     "data": {
      "image/png": "[encoded data removed]",
      "text/plain": [
       "<Figure size 640x480 with 1 Axes>"
      ]
     },
     "metadata": {},
     "output_type": "display_data"
    }
   ],
   "source": [
    "# Create a scatterplot using mealpct and testscr column\n",
    "sns.regplot(x='mealpct', y='testscr', data=df)\n",
    "plt.title(\"Percent Qualifying for Reduced-price Lunch and Average Test Score\")\n",
    "plt.xlabel(\"Percent qualifying for reduced-price lunch\")\n",
    "plt.ylabel(\"Average test score\")\n",
    "plt.show()\n"
   ]
  },
  {
   "cell_type": "markdown",
   "metadata": {
    "id": "0oXENXtae20a"
   },
   "source": [
    "## 1.3 Split data in training and test set. Build models that evaluate the relationship between all available X variables in the California test dataset and the target variable. Evaluate KNN for regression, Linear Regression (OLS), Ridge, and Lasso using cross-validation with the default parameters. Does scaling the data with the StandardScaler help?"
   ]
  },
  {
   "cell_type": "code",
   "execution_count": 13,
   "metadata": {
    "colab": {
     "base_uri": "https://localhost:8080/"
    },
    "id": "BtHcG5GrYsdI",
    "outputId": "269d9116-0b52-4401-f7a9-3dfc245d9cfb"
   },
   "outputs": [
    {
     "data": {
      "text/plain": [
       "rownames      int64\n",
       "distcod       int64\n",
       "county       object\n",
       "district     object\n",
       "grspan       object\n",
       "enrltot       int64\n",
       "teachers    float64\n",
       "calwpct     float64\n",
       "mealpct     float64\n",
       "computer      int64\n",
       "testscr     float64\n",
       "compstu     float64\n",
       "expnstu     float64\n",
       "str         float64\n",
       "avginc      float64\n",
       "elpct       float64\n",
       "readscr     float64\n",
       "mathscr     float64\n",
       "dtype: object"
      ]
     },
     "execution_count": 13,
     "metadata": {},
     "output_type": "execute_result"
    }
   ],
   "source": [
    "#Check types for all the columns\n",
    "df.dtypes\n"
   ]
  },
  {
   "cell_type": "code",
   "execution_count": 14,
   "metadata": {
    "colab": {
     "base_uri": "https://localhost:8080/",
     "height": 206
    },
    "id": "GBfc6ISm_UeU",
    "outputId": "0f75218c-f325-4188-b175-d5c07d793303"
   },
   "outputs": [
    {
     "data": {
      "text/html": [
       "<div>\n",
       "<style scoped>\n",
       "    .dataframe tbody tr th:only-of-type {\n",
       "        vertical-align: middle;\n",
       "    }\n",
       "\n",
       "    .dataframe tbody tr th {\n",
       "        vertical-align: top;\n",
       "    }\n",
       "\n",
       "    .dataframe thead th {\n",
       "        text-align: right;\n",
       "    }\n",
       "</style>\n",
       "<table border=\"1\" class=\"dataframe\">\n",
       "  <thead>\n",
       "    <tr style=\"text-align: right;\">\n",
       "      <th></th>\n",
       "      <th>enrltot</th>\n",
       "      <th>teachers</th>\n",
       "      <th>calwpct</th>\n",
       "      <th>mealpct</th>\n",
       "      <th>computer</th>\n",
       "      <th>testscr</th>\n",
       "      <th>compstu</th>\n",
       "      <th>expnstu</th>\n",
       "      <th>str</th>\n",
       "      <th>avginc</th>\n",
       "      <th>elpct</th>\n",
       "    </tr>\n",
       "  </thead>\n",
       "  <tbody>\n",
       "    <tr>\n",
       "      <th>0</th>\n",
       "      <td>195</td>\n",
       "      <td>10.900000</td>\n",
       "      <td>0.510200</td>\n",
       "      <td>2.040800</td>\n",
       "      <td>67</td>\n",
       "      <td>690.799988</td>\n",
       "      <td>0.343590</td>\n",
       "      <td>6384.911133</td>\n",
       "      <td>17.889910</td>\n",
       "      <td>22.690001</td>\n",
       "      <td>0.000000</td>\n",
       "    </tr>\n",
       "    <tr>\n",
       "      <th>1</th>\n",
       "      <td>240</td>\n",
       "      <td>11.150000</td>\n",
       "      <td>15.416700</td>\n",
       "      <td>47.916698</td>\n",
       "      <td>101</td>\n",
       "      <td>661.200012</td>\n",
       "      <td>0.420833</td>\n",
       "      <td>5099.380859</td>\n",
       "      <td>21.524664</td>\n",
       "      <td>9.824000</td>\n",
       "      <td>4.583333</td>\n",
       "    </tr>\n",
       "    <tr>\n",
       "      <th>2</th>\n",
       "      <td>1550</td>\n",
       "      <td>82.900002</td>\n",
       "      <td>55.032299</td>\n",
       "      <td>76.322601</td>\n",
       "      <td>169</td>\n",
       "      <td>643.599976</td>\n",
       "      <td>0.109032</td>\n",
       "      <td>5501.954590</td>\n",
       "      <td>18.697226</td>\n",
       "      <td>8.978000</td>\n",
       "      <td>30.000002</td>\n",
       "    </tr>\n",
       "    <tr>\n",
       "      <th>3</th>\n",
       "      <td>243</td>\n",
       "      <td>14.000000</td>\n",
       "      <td>36.475399</td>\n",
       "      <td>77.049202</td>\n",
       "      <td>85</td>\n",
       "      <td>647.700012</td>\n",
       "      <td>0.349794</td>\n",
       "      <td>7101.831055</td>\n",
       "      <td>17.357143</td>\n",
       "      <td>8.978000</td>\n",
       "      <td>0.000000</td>\n",
       "    </tr>\n",
       "    <tr>\n",
       "      <th>4</th>\n",
       "      <td>1335</td>\n",
       "      <td>71.500000</td>\n",
       "      <td>33.108601</td>\n",
       "      <td>78.427002</td>\n",
       "      <td>171</td>\n",
       "      <td>640.849976</td>\n",
       "      <td>0.128090</td>\n",
       "      <td>5235.987793</td>\n",
       "      <td>18.671329</td>\n",
       "      <td>9.080333</td>\n",
       "      <td>13.857677</td>\n",
       "    </tr>\n",
       "  </tbody>\n",
       "</table>\n",
       "</div>"
      ],
      "text/plain": [
       "   enrltot   teachers    calwpct    mealpct  computer     testscr   compstu  \\\n",
       "0      195  10.900000   0.510200   2.040800        67  690.799988  0.343590   \n",
       "1      240  11.150000  15.416700  47.916698       101  661.200012  0.420833   \n",
       "2     1550  82.900002  55.032299  76.322601       169  643.599976  0.109032   \n",
       "3      243  14.000000  36.475399  77.049202        85  647.700012  0.349794   \n",
       "4     1335  71.500000  33.108601  78.427002       171  640.849976  0.128090   \n",
       "\n",
       "       expnstu        str     avginc      elpct  \n",
       "0  6384.911133  17.889910  22.690001   0.000000  \n",
       "1  5099.380859  21.524664   9.824000   4.583333  \n",
       "2  5501.954590  18.697226   8.978000  30.000002  \n",
       "3  7101.831055  17.357143   8.978000   0.000000  \n",
       "4  5235.987793  18.671329   9.080333  13.857677  "
      ]
     },
     "execution_count": 14,
     "metadata": {},
     "output_type": "execute_result"
    }
   ],
   "source": [
    "# Delete extra variable that is not continuous and is not used in the analysis\n",
    "df = df.drop(['distcod','county','district','grspan','rownames'], axis=1)\n",
    "\n",
    "# Delete readscr and mathscr variables because they are used to generate the dependent variable\n",
    "df = df.drop(['readscr','mathscr'], axis=1)\n",
    "\n",
    "df.head(5)\n"
   ]
  },
  {
   "cell_type": "code",
   "execution_count": 15,
   "metadata": {
    "colab": {
     "base_uri": "https://localhost:8080/",
     "height": 313
    },
    "id": "k5r2_fksYyC_",
    "outputId": "24eb4c56-7a49-4312-85d5-35742912395f"
   },
   "outputs": [
    {
     "name": "stdout",
     "output_type": "stream",
     "text": [
      "0    690.799988\n",
      "1    661.200012\n",
      "2    643.599976\n",
      "3    647.700012\n",
      "4    640.849976\n",
      "Name: testscr, dtype: float64\n"
     ]
    },
    {
     "data": {
      "text/html": [
       "<div>\n",
       "<style scoped>\n",
       "    .dataframe tbody tr th:only-of-type {\n",
       "        vertical-align: middle;\n",
       "    }\n",
       "\n",
       "    .dataframe tbody tr th {\n",
       "        vertical-align: top;\n",
       "    }\n",
       "\n",
       "    .dataframe thead th {\n",
       "        text-align: right;\n",
       "    }\n",
       "</style>\n",
       "<table border=\"1\" class=\"dataframe\">\n",
       "  <thead>\n",
       "    <tr style=\"text-align: right;\">\n",
       "      <th></th>\n",
       "      <th>enrltot</th>\n",
       "      <th>teachers</th>\n",
       "      <th>calwpct</th>\n",
       "      <th>mealpct</th>\n",
       "      <th>computer</th>\n",
       "      <th>compstu</th>\n",
       "      <th>expnstu</th>\n",
       "      <th>str</th>\n",
       "      <th>avginc</th>\n",
       "      <th>elpct</th>\n",
       "    </tr>\n",
       "  </thead>\n",
       "  <tbody>\n",
       "    <tr>\n",
       "      <th>0</th>\n",
       "      <td>195</td>\n",
       "      <td>10.900000</td>\n",
       "      <td>0.510200</td>\n",
       "      <td>2.040800</td>\n",
       "      <td>67</td>\n",
       "      <td>0.343590</td>\n",
       "      <td>6384.911133</td>\n",
       "      <td>17.889910</td>\n",
       "      <td>22.690001</td>\n",
       "      <td>0.000000</td>\n",
       "    </tr>\n",
       "    <tr>\n",
       "      <th>1</th>\n",
       "      <td>240</td>\n",
       "      <td>11.150000</td>\n",
       "      <td>15.416700</td>\n",
       "      <td>47.916698</td>\n",
       "      <td>101</td>\n",
       "      <td>0.420833</td>\n",
       "      <td>5099.380859</td>\n",
       "      <td>21.524664</td>\n",
       "      <td>9.824000</td>\n",
       "      <td>4.583333</td>\n",
       "    </tr>\n",
       "    <tr>\n",
       "      <th>2</th>\n",
       "      <td>1550</td>\n",
       "      <td>82.900002</td>\n",
       "      <td>55.032299</td>\n",
       "      <td>76.322601</td>\n",
       "      <td>169</td>\n",
       "      <td>0.109032</td>\n",
       "      <td>5501.954590</td>\n",
       "      <td>18.697226</td>\n",
       "      <td>8.978000</td>\n",
       "      <td>30.000002</td>\n",
       "    </tr>\n",
       "    <tr>\n",
       "      <th>3</th>\n",
       "      <td>243</td>\n",
       "      <td>14.000000</td>\n",
       "      <td>36.475399</td>\n",
       "      <td>77.049202</td>\n",
       "      <td>85</td>\n",
       "      <td>0.349794</td>\n",
       "      <td>7101.831055</td>\n",
       "      <td>17.357143</td>\n",
       "      <td>8.978000</td>\n",
       "      <td>0.000000</td>\n",
       "    </tr>\n",
       "    <tr>\n",
       "      <th>4</th>\n",
       "      <td>1335</td>\n",
       "      <td>71.500000</td>\n",
       "      <td>33.108601</td>\n",
       "      <td>78.427002</td>\n",
       "      <td>171</td>\n",
       "      <td>0.128090</td>\n",
       "      <td>5235.987793</td>\n",
       "      <td>18.671329</td>\n",
       "      <td>9.080333</td>\n",
       "      <td>13.857677</td>\n",
       "    </tr>\n",
       "  </tbody>\n",
       "</table>\n",
       "</div>"
      ],
      "text/plain": [
       "   enrltot   teachers    calwpct    mealpct  computer   compstu      expnstu  \\\n",
       "0      195  10.900000   0.510200   2.040800        67  0.343590  6384.911133   \n",
       "1      240  11.150000  15.416700  47.916698       101  0.420833  5099.380859   \n",
       "2     1550  82.900002  55.032299  76.322601       169  0.109032  5501.954590   \n",
       "3      243  14.000000  36.475399  77.049202        85  0.349794  7101.831055   \n",
       "4     1335  71.500000  33.108601  78.427002       171  0.128090  5235.987793   \n",
       "\n",
       "         str     avginc      elpct  \n",
       "0  17.889910  22.690001   0.000000  \n",
       "1  21.524664   9.824000   4.583333  \n",
       "2  18.697226   8.978000  30.000002  \n",
       "3  17.357143   8.978000   0.000000  \n",
       "4  18.671329   9.080333  13.857677  "
      ]
     },
     "execution_count": 15,
     "metadata": {},
     "output_type": "execute_result"
    }
   ],
   "source": [
    "# Change variable names to X, y to create train/test split\n",
    "y = df['testscr']\n",
    "X = df.loc[:, df.columns != 'testscr']\n",
    "\n",
    "print(y[0:5])\n",
    "X.head(5)\n"
   ]
  },
  {
   "cell_type": "code",
   "execution_count": 16,
   "metadata": {
    "colab": {
     "base_uri": "https://localhost:8080/",
     "height": 206
    },
    "id": "I6-vvEK5ZiY-",
    "outputId": "1293a849-4e25-4386-b116-a2a3f1268d19"
   },
   "outputs": [
    {
     "data": {
      "text/html": [
       "<div>\n",
       "<style scoped>\n",
       "    .dataframe tbody tr th:only-of-type {\n",
       "        vertical-align: middle;\n",
       "    }\n",
       "\n",
       "    .dataframe tbody tr th {\n",
       "        vertical-align: top;\n",
       "    }\n",
       "\n",
       "    .dataframe thead th {\n",
       "        text-align: right;\n",
       "    }\n",
       "</style>\n",
       "<table border=\"1\" class=\"dataframe\">\n",
       "  <thead>\n",
       "    <tr style=\"text-align: right;\">\n",
       "      <th></th>\n",
       "      <th>enrltot</th>\n",
       "      <th>teachers</th>\n",
       "      <th>calwpct</th>\n",
       "      <th>mealpct</th>\n",
       "      <th>computer</th>\n",
       "      <th>compstu</th>\n",
       "      <th>expnstu</th>\n",
       "      <th>str</th>\n",
       "      <th>avginc</th>\n",
       "      <th>elpct</th>\n",
       "    </tr>\n",
       "  </thead>\n",
       "  <tbody>\n",
       "    <tr>\n",
       "      <th>324</th>\n",
       "      <td>576</td>\n",
       "      <td>31.000000</td>\n",
       "      <td>3.9931</td>\n",
       "      <td>28.125000</td>\n",
       "      <td>92</td>\n",
       "      <td>0.159722</td>\n",
       "      <td>4907.392578</td>\n",
       "      <td>18.580645</td>\n",
       "      <td>11.116000</td>\n",
       "      <td>9.548612</td>\n",
       "    </tr>\n",
       "    <tr>\n",
       "      <th>267</th>\n",
       "      <td>895</td>\n",
       "      <td>47.580002</td>\n",
       "      <td>17.5532</td>\n",
       "      <td>42.446800</td>\n",
       "      <td>70</td>\n",
       "      <td>0.078212</td>\n",
       "      <td>5408.781738</td>\n",
       "      <td>18.810423</td>\n",
       "      <td>14.180000</td>\n",
       "      <td>1.899441</td>\n",
       "    </tr>\n",
       "    <tr>\n",
       "      <th>178</th>\n",
       "      <td>223</td>\n",
       "      <td>11.500000</td>\n",
       "      <td>1.7544</td>\n",
       "      <td>17.543900</td>\n",
       "      <td>60</td>\n",
       "      <td>0.269058</td>\n",
       "      <td>4980.294434</td>\n",
       "      <td>19.391304</td>\n",
       "      <td>18.625999</td>\n",
       "      <td>0.000000</td>\n",
       "    </tr>\n",
       "    <tr>\n",
       "      <th>262</th>\n",
       "      <td>2325</td>\n",
       "      <td>115.300003</td>\n",
       "      <td>2.8817</td>\n",
       "      <td>15.655900</td>\n",
       "      <td>302</td>\n",
       "      <td>0.129892</td>\n",
       "      <td>4890.986816</td>\n",
       "      <td>20.164787</td>\n",
       "      <td>21.110500</td>\n",
       "      <td>22.709679</td>\n",
       "    </tr>\n",
       "    <tr>\n",
       "      <th>102</th>\n",
       "      <td>610</td>\n",
       "      <td>30.980000</td>\n",
       "      <td>8.5246</td>\n",
       "      <td>56.065601</td>\n",
       "      <td>144</td>\n",
       "      <td>0.236066</td>\n",
       "      <td>4704.043945</td>\n",
       "      <td>19.690123</td>\n",
       "      <td>11.283000</td>\n",
       "      <td>3.442623</td>\n",
       "    </tr>\n",
       "  </tbody>\n",
       "</table>\n",
       "</div>"
      ],
      "text/plain": [
       "     enrltot    teachers  calwpct    mealpct  computer   compstu      expnstu  \\\n",
       "324      576   31.000000   3.9931  28.125000        92  0.159722  4907.392578   \n",
       "267      895   47.580002  17.5532  42.446800        70  0.078212  5408.781738   \n",
       "178      223   11.500000   1.7544  17.543900        60  0.269058  4980.294434   \n",
       "262     2325  115.300003   2.8817  15.655900       302  0.129892  4890.986816   \n",
       "102      610   30.980000   8.5246  56.065601       144  0.236066  4704.043945   \n",
       "\n",
       "           str     avginc      elpct  \n",
       "324  18.580645  11.116000   9.548612  \n",
       "267  18.810423  14.180000   1.899441  \n",
       "178  19.391304  18.625999   0.000000  \n",
       "262  20.164787  21.110500  22.709679  \n",
       "102  19.690123  11.283000   3.442623  "
      ]
     },
     "execution_count": 16,
     "metadata": {},
     "output_type": "execute_result"
    }
   ],
   "source": [
    "# Train test split\n",
    "from sklearn.model_selection import train_test_split\n",
    "\n",
    "# Use train_test_split(X,y) with default parameters\n",
    "# About default parameters: https://scikit-learn.org/stable/modules/generated/sklearn.model_selection.train_test_split.html\n",
    "X_train, X_test, y_train, y_test = train_test_split(X, y, test_size=None, train_size=None, shuffle=True, random_state=None, stratify=None)\n",
    "\n",
    "X_train.head(5)\n"
   ]
  },
  {
   "cell_type": "code",
   "execution_count": 17,
   "metadata": {
    "id": "G9wfN1ASaHMP"
   },
   "outputs": [],
   "source": [
    "# Scale the data\n",
    "from sklearn import preprocessing\n",
    "\n",
    "scaler = preprocessing.StandardScaler()\n",
    "scaler.fit(X_train)\n",
    "X_train_scaled = scaler.transform(X_train)\n",
    "X_test_scaled = scaler.transform(X_test)\n"
   ]
  },
  {
   "cell_type": "markdown",
   "metadata": {
    "id": "tF68QdaoJTe5"
   },
   "source": [
    "### KNN for regression"
   ]
  },
  {
   "cell_type": "markdown",
   "metadata": {},
   "source": [
    "#### Original train/test set for KNN:"
   ]
  },
  {
   "cell_type": "code",
   "execution_count": 18,
   "metadata": {
    "colab": {
     "base_uri": "https://localhost:8080/"
    },
    "id": "zaF8NZK8Zjs3",
    "outputId": "eed51e02-51ed-4f0d-d576-97afd118eafb"
   },
   "outputs": [
    {
     "name": "stdout",
     "output_type": "stream",
     "text": [
      "0.039009661947919216\n",
      "accuracy:0.04\n"
     ]
    }
   ],
   "source": [
    "from sklearn.neighbors import KNeighborsRegressor\n",
    "\n",
    "knn1 = KNeighborsRegressor()\n",
    "knn1.fit(X_train, y_train)\n",
    "\n",
    "#Print accuracy\n",
    "print(knn1.score(X_test, y_test))\n",
    "print(\"accuracy:{:.2f}\".format(knn1.score(X_test, y_test)))\n",
    "\n",
    "y_pred = knn1.predict(X_test)\n"
   ]
  },
  {
   "cell_type": "code",
   "execution_count": 19,
   "metadata": {
    "colab": {
     "base_uri": "https://localhost:8080/"
    },
    "id": "-KwMETOTJrK1",
    "outputId": "ea8c90c5-9f76-4db8-8feb-5054a90bbdd8"
   },
   "outputs": [
    {
     "data": {
      "text/plain": [
       "array([651.31000977, 668.29002686, 652.45998535, 659.44001465,\n",
       "       641.53000488, 657.62998047, 674.64998779, 645.53000488,\n",
       "       664.79001465, 654.58001709, 654.32999268, 664.65001221,\n",
       "       658.19998779, 650.29000244, 659.56999512, 637.02000732,\n",
       "       661.80998535, 641.52000732, 648.45001221, 654.10997314,\n",
       "       655.24998779, 650.33000488, 639.63000488, 648.29001465,\n",
       "       646.31000977, 652.88999023, 661.65001221, 649.10001221,\n",
       "       648.81998291, 650.98999023, 661.32999268, 661.34000244,\n",
       "       667.81999512, 665.05999756, 647.35001221, 662.35998535,\n",
       "       642.80001221, 653.70998535, 662.95998535, 664.23000488,\n",
       "       651.38000488, 649.24998779, 629.61002197, 652.87000732,\n",
       "       638.25998535, 665.47000732, 683.99998779, 665.47000732,\n",
       "       644.88000488, 663.57999268, 662.97000732, 647.07999268,\n",
       "       643.23999023, 659.29001465, 652.07999268, 651.97999268,\n",
       "       647.91998291, 671.55998535, 650.59000244, 641.59000244,\n",
       "       658.68999023, 657.51999512, 645.85999756, 654.84998779,\n",
       "       635.52998047, 644.46999512, 648.88000488, 655.69001465,\n",
       "       657.13997803, 659.36998291, 677.03999023, 654.07000732,\n",
       "       651.91000977, 655.08999023, 644.50999756, 645.30999756,\n",
       "       659.54998779, 658.49998779, 647.60001221, 648.7       ,\n",
       "       667.81999512, 658.20999756, 671.8300293 , 671.5       ,\n",
       "       662.95      , 664.72000732, 658.68999023, 662.81998291,\n",
       "       659.59001465, 659.25      , 658.11998291, 652.19000244,\n",
       "       661.96999512, 661.96999512, 668.60999756, 639.30998535,\n",
       "       653.67998047, 662.59998779, 656.85999756, 649.52000732,\n",
       "       653.39000244, 647.21998291, 649.69000244, 652.52000732,\n",
       "       656.32998047])"
      ]
     },
     "execution_count": 19,
     "metadata": {},
     "output_type": "execute_result"
    }
   ],
   "source": [
    "# view predictions for test data\n",
    "y_pred\n"
   ]
  },
  {
   "cell_type": "code",
   "execution_count": 20,
   "metadata": {
    "colab": {
     "base_uri": "https://localhost:8080/"
    },
    "id": "tsl7AmfSdLOb",
    "outputId": "56ae2513-7d77-4aec-f2aa-802c6d37b9df"
   },
   "outputs": [
    {
     "name": "stdout",
     "output_type": "stream",
     "text": [
      "KFold: -0.034750207071798524\n"
     ]
    }
   ],
   "source": [
    "# Use cross validation for model evaluation\n",
    "from sklearn.model_selection import cross_val_score\n",
    "from sklearn.model_selection import KFold\n",
    "\n",
    "kfold1 = KFold()\n",
    "print(\"KFold: \"+str(cross_val_score(knn1, X_train, y_train, cv=kfold1).mean()))\n"
   ]
  },
  {
   "cell_type": "markdown",
   "metadata": {},
   "source": [
    "#### After scaling the data:"
   ]
  },
  {
   "cell_type": "code",
   "execution_count": 21,
   "metadata": {},
   "outputs": [
    {
     "name": "stdout",
     "output_type": "stream",
     "text": [
      "0.7079141577706027\n",
      "accuracy:0.71\n"
     ]
    }
   ],
   "source": [
    "knn2 = KNeighborsRegressor()\n",
    "knn2.fit(X_train_scaled, y_train)\n",
    "\n",
    "print(knn2.score(X_test_scaled, y_test))\n",
    "print(\"accuracy:{:.2f}\".format(knn2.score(X_test_scaled, y_test)))\n",
    "\n",
    "y_pred = knn2.predict(X_test_scaled)\n"
   ]
  },
  {
   "cell_type": "code",
   "execution_count": 22,
   "metadata": {},
   "outputs": [
    {
     "name": "stdout",
     "output_type": "stream",
     "text": [
      "KFold: 0.7480877791353759\n"
     ]
    }
   ],
   "source": [
    "kfold2 = KFold()\n",
    "print(\"KFold: \"+str(cross_val_score(knn2, X_train_scaled, y_train, cv=kfold2).mean()))\n"
   ]
  },
  {
   "cell_type": "markdown",
   "metadata": {},
   "source": [
    "Here KNN for regression, scaling the data with the StandardScaler influences the result. The cross validation score has increased from -0.035 to 0.748, indicating an improvement in performance after scaling the data."
   ]
  },
  {
   "cell_type": "markdown",
   "metadata": {
    "id": "C11VKDLeNSUW"
   },
   "source": [
    "### Linear Regression (OLS)"
   ]
  },
  {
   "cell_type": "markdown",
   "metadata": {},
   "source": [
    "#### Original train/test set:"
   ]
  },
  {
   "cell_type": "code",
   "execution_count": 23,
   "metadata": {
    "colab": {
     "base_uri": "https://localhost:8080/"
    },
    "id": "GXuJ-JI0dLQ7",
    "outputId": "693de68b-c8f0-4274-c492-019915a5ef47"
   },
   "outputs": [
    {
     "name": "stdout",
     "output_type": "stream",
     "text": [
      "Training set score: 0.821\n",
      "Test set score: 0.767\n",
      "Cross validation Accuracy:0.789\n"
     ]
    }
   ],
   "source": [
    "from sklearn.linear_model import LinearRegression\n",
    "\n",
    "lr1 = LinearRegression()\n",
    "lr1.fit(X_train, y_train)\n",
    "\n",
    "print(\"Training set score: {:.3f}\".format(lr1.score(X_train, y_train)))\n",
    "print(\"Test set score: {:.3f}\".format(lr1.score(X_test, y_test)))\n",
    "print(\"Cross validation Accuracy:{:.3f}\".format(np.mean(cross_val_score(lr1, X_train, y_train, cv=10, scoring=\"r2\"))))\n"
   ]
  },
  {
   "cell_type": "markdown",
   "metadata": {},
   "source": [
    "#### After scaling the data:"
   ]
  },
  {
   "cell_type": "code",
   "execution_count": 24,
   "metadata": {
    "colab": {
     "base_uri": "https://localhost:8080/"
    },
    "id": "BsYb704taBlH",
    "outputId": "af40cb80-ba38-4f28-e0c8-77749c3b53db"
   },
   "outputs": [
    {
     "name": "stdout",
     "output_type": "stream",
     "text": [
      "Training set score: 0.821\n",
      "Test set score: 0.767\n",
      "Cross validation Accuracy:0.789\n"
     ]
    }
   ],
   "source": [
    "from sklearn.linear_model import LinearRegression\n",
    "\n",
    "lr2 = LinearRegression()\n",
    "lr2.fit(X_train_scaled, y_train)\n",
    "\n",
    "print(\"Training set score: {:.3f}\".format(lr2.score(X_train_scaled, y_train)))\n",
    "print(\"Test set score: {:.3f}\".format(lr2.score(X_test_scaled, y_test)))\n",
    "print(\"Cross validation Accuracy:{:.3f}\".format(np.mean(cross_val_score(lr2, X_train_scaled, y_train, cv=10, scoring=\"r2\"))))\n"
   ]
  },
  {
   "cell_type": "markdown",
   "metadata": {},
   "source": [
    "Here for linear regression, scaling the data with the StandardScaler does not influence the result. The cross validation score remains the same after scaling the data."
   ]
  },
  {
   "cell_type": "markdown",
   "metadata": {
    "id": "MQNOCuODNUXR"
   },
   "source": [
    "### Ridge"
   ]
  },
  {
   "cell_type": "markdown",
   "metadata": {},
   "source": [
    "#### Original train/test set:"
   ]
  },
  {
   "cell_type": "code",
   "execution_count": 25,
   "metadata": {
    "colab": {
     "base_uri": "https://localhost:8080/"
    },
    "id": "2WsntZaJNUm1",
    "outputId": "02e81a40-3744-4de0-c310-a3bb81f73228"
   },
   "outputs": [
    {
     "name": "stdout",
     "output_type": "stream",
     "text": [
      "Training set score: 0.821\n",
      "Test set score: 0.766\n",
      "Cross validation Accuracy:0.804\n"
     ]
    }
   ],
   "source": [
    "from sklearn.linear_model import Ridge\n",
    "\n",
    "ridge1 = Ridge().fit(X_train, y_train)\n",
    "print(\"Training set score: {:.3f}\".format(ridge1.score(X_train, y_train)))\n",
    "print(\"Test set score: {:.3f}\".format(ridge1.score(X_test, y_test)))\n",
    "\n",
    "kfold3 = KFold()\n",
    "print(\"Cross validation Accuracy:{:.3f}\".format(np.mean(\n",
    "    cross_val_score(ridge1, X_train, y_train, cv=kfold3))))\n"
   ]
  },
  {
   "cell_type": "markdown",
   "metadata": {},
   "source": [
    "#### After scaling the data:"
   ]
  },
  {
   "cell_type": "code",
   "execution_count": 26,
   "metadata": {},
   "outputs": [
    {
     "name": "stdout",
     "output_type": "stream",
     "text": [
      "Training set score: 0.821\n",
      "Test set score: 0.768\n",
      "Cross validation Accuracy:0.805\n"
     ]
    }
   ],
   "source": [
    "ridge2 = Ridge().fit(X_train_scaled, y_train)\n",
    "print(\"Training set score: {:.3f}\".format(ridge2.score(X_train_scaled, y_train)))\n",
    "print(\"Test set score: {:.3f}\".format(ridge2.score(X_test_scaled, y_test)))\n",
    "\n",
    "kfold4 = KFold()\n",
    "print(\"Cross validation Accuracy:{:.3f}\".format(np.mean(\n",
    "    cross_val_score(ridge2, X_train_scaled, y_train, cv=kfold4))))\n"
   ]
  },
  {
   "cell_type": "markdown",
   "metadata": {},
   "source": [
    "Here for ridge regression, scaling the data with the StandardScaler influences the result, but the influence is very little. The cross validation score increases from 0.804 to 0.805. The test set score increases from 0.766 to 0.768 with the training set score remaining same."
   ]
  },
  {
   "cell_type": "markdown",
   "metadata": {
    "id": "hAXDXE1yNZf3"
   },
   "source": [
    "### Lasso"
   ]
  },
  {
   "cell_type": "markdown",
   "metadata": {},
   "source": [
    "#### Original train/test set:"
   ]
  },
  {
   "cell_type": "code",
   "execution_count": 35,
   "metadata": {
    "colab": {
     "base_uri": "https://localhost:8080/"
    },
    "id": "9xnIXHGhNYzU",
    "outputId": "8bf6ed17-d3e2-482c-d327-702eb7c73feb"
   },
   "outputs": [
    {
     "name": "stdout",
     "output_type": "stream",
     "text": [
      "Training set score: 0.821\n",
      "Test set score: 0.766\n",
      "Number of features used: 8\n",
      "lasso.coef_: [-0.00071534  0.00160193 -0.09468978 -0.37588176  0.00479737  0.\n",
      "  0.00265782  0.          0.58421184 -0.20452036]\n"
     ]
    }
   ],
   "source": [
    "from sklearn.linear_model import Lasso\n",
    "\n",
    "lasso1 = Lasso().fit(X_train, y_train)\n",
    "\n",
    "print(\"Training set score: {:.3f}\".format(lasso1.score(X_train, y_train)))\n",
    "print(\"Test set score: {:.3f}\".format(lasso1.score(X_test, y_test)))\n",
    "print(\"Number of features used: {}\".format(np.sum(lasso1.coef_ != 0)))\n",
    "\n",
    "print(\"lasso.coef_: {}\".format(lasso1.coef_))\n"
   ]
  },
  {
   "cell_type": "code",
   "execution_count": 37,
   "metadata": {
    "colab": {
     "base_uri": "https://localhost:8080/"
    },
    "id": "_FZcLfvsncnr",
    "outputId": "207a2661-2812-4fe5-e8e2-80f7eeca06ea"
   },
   "outputs": [
    {
     "name": "stdout",
     "output_type": "stream",
     "text": [
      "Cross validation Accuracy:0.806\n"
     ]
    }
   ],
   "source": [
    "kfold5 = KFold()\n",
    "print(\"Cross validation Accuracy:{:.3f}\".format(np.mean(cross_val_score(lasso1, X_train, y_train, cv=kfold5))))\n"
   ]
  },
  {
   "cell_type": "markdown",
   "metadata": {},
   "source": [
    "#### After scaling the data:"
   ]
  },
  {
   "cell_type": "code",
   "execution_count": 42,
   "metadata": {},
   "outputs": [
    {
     "name": "stdout",
     "output_type": "stream",
     "text": [
      "Training set score: 0.813\n",
      "Test set score: 0.775\n",
      "Number of features used: 6\n",
      "lasso.coef_: [ -0.          -0.          -0.15379516 -10.3931787   -0.\n",
      "   0.38904523   0.70241341  -0.           4.39502989  -3.10579116]\n"
     ]
    }
   ],
   "source": [
    "lasso2 = Lasso().fit(X_train_scaled, y_train)\n",
    "\n",
    "print(\"Training set score: {:.3f}\".format(lasso2.score(X_train_scaled, y_train)))\n",
    "print(\"Test set score: {:.3f}\".format(lasso2.score(X_test_scaled, y_test)))\n",
    "print(\"Number of features used: {}\".format(np.sum(lasso2.coef_ != 0)))\n",
    "\n",
    "print(\"lasso.coef_: {}\".format(lasso2.coef_))\n"
   ]
  },
  {
   "cell_type": "code",
   "execution_count": 43,
   "metadata": {},
   "outputs": [
    {
     "name": "stdout",
     "output_type": "stream",
     "text": [
      "Cross validation Accuracy:0.800\n"
     ]
    }
   ],
   "source": [
    "kfold6 = KFold()\n",
    "print(\"Cross validation Accuracy:{:.3f}\".format(np.mean(cross_val_score(lasso2, X_train_scaled, y_train, cv=kfold6))))\n"
   ]
  },
  {
   "cell_type": "markdown",
   "metadata": {},
   "source": [
    "Here for lasso regression, scaling the data with the StandardScaler influences the result, but the influence is very small. The cross validation score decreases from 0.806 to 0.800. The test set score increases from 0.766 to 0.775."
   ]
  },
  {
   "cell_type": "markdown",
   "metadata": {},
   "source": [
    "In conclusion, for KNN, scaling the data with the StandardScaler helps increase the cross validation score.\n",
    "\n",
    "For linear regression, scaling the data with the StandardScaler does not influence the result.\n",
    "\n",
    "For ridge regression and lasso regression, scaling the data with the StandardScaler has some influence, but the influence is very little. "
   ]
  },
  {
   "cell_type": "markdown",
   "metadata": {
    "id": "F9qf52R_e28Z"
   },
   "source": [
    "## 1.4 Tune the parameters of the models where possible using GridSearchCV. Do the results improve?"
   ]
  },
  {
   "cell_type": "markdown",
   "metadata": {
    "id": "N8jemrVZUKGe"
   },
   "source": [
    "### KNN for regression"
   ]
  },
  {
   "cell_type": "code",
   "execution_count": 54,
   "metadata": {
    "colab": {
     "base_uri": "https://localhost:8080/"
    },
    "id": "nMJFy8FwZMw0",
    "outputId": "8c31ef5e-a58a-484f-a01e-4a4967b28701"
   },
   "outputs": [
    {
     "name": "stdout",
     "output_type": "stream",
     "text": [
      "best mean cross-validation score: 0.742\n",
      "best parameters: {'n_neighbors': 13}\n",
      "test-set score: 0.725\n"
     ]
    }
   ],
   "source": [
    "from sklearn.model_selection import GridSearchCV\n",
    "\n",
    "param_grid = {'n_neighbors': [1,3,5,7,9,10,11,13] }\n",
    "\n",
    "grid = GridSearchCV(KNeighborsRegressor(), param_grid=param_grid, cv=10)\n",
    "grid.fit(X_train_scaled, y_train)\n",
    "\n",
    "print(\"best mean cross-validation score: {:.3f}\".format(grid.best_score_))\n",
    "print(\"best parameters: {}\".format(grid.best_params_))\n",
    "print(\"test-set score: {:.3f}\".format(grid.score(X_test_scaled, y_test)))\n"
   ]
  },
  {
   "cell_type": "code",
   "execution_count": 55,
   "metadata": {
    "colab": {
     "base_uri": "https://localhost:8080/"
    },
    "id": "B5OLSmif4G5A",
    "outputId": "4470d30b-16dd-4f4b-bcd5-021648b8dcad"
   },
   "outputs": [
    {
     "name": "stdout",
     "output_type": "stream",
     "text": [
      "0.7248460234637262\n"
     ]
    }
   ],
   "source": [
    "knn3 = KNeighborsRegressor(n_neighbors=13)\n",
    "knn3.fit(X_train_scaled, y_train)\n",
    "\n",
    "print(knn3.score(X_test_scaled, y_test))\n"
   ]
  },
  {
   "cell_type": "code",
   "execution_count": 56,
   "metadata": {
    "colab": {
     "base_uri": "https://localhost:8080/"
    },
    "id": "4ILbXhdl5Eoe",
    "outputId": "962c324a-36a6-4203-d043-ab6c64c55060"
   },
   "outputs": [
    {
     "name": "stdout",
     "output_type": "stream",
     "text": [
      "KFold: 0.7486476582595673\n"
     ]
    }
   ],
   "source": [
    "kfold7 = KFold()\n",
    "print(\"KFold: \"+str(cross_val_score(KNeighborsRegressor(n_neighbors=13), X_train_scaled, y_train, cv=kfold7).mean()))\n"
   ]
  },
  {
   "cell_type": "markdown",
   "metadata": {
    "id": "60ZnUM9V5XRz"
   },
   "source": [
    "For KNN, after using GridSearchCV to tune the parameter, the cross validation score does not improve a lot. The cross validation score increases from 0.748 to 0.749."
   ]
  },
  {
   "cell_type": "markdown",
   "metadata": {},
   "source": [
    "### Linear Regression (OLS)"
   ]
  },
  {
   "cell_type": "markdown",
   "metadata": {},
   "source": [
    "Linear regression does not have tunable parameters."
   ]
  },
  {
   "cell_type": "markdown",
   "metadata": {
    "id": "FBpneLUA4IGF"
   },
   "source": [
    "### Ridge"
   ]
  },
  {
   "cell_type": "code",
   "execution_count": 57,
   "metadata": {
    "colab": {
     "base_uri": "https://localhost:8080/"
    },
    "id": "RgyZ1J7Nb1yc",
    "outputId": "1f2b2532-aae2-4469-ef98-3459d544920b"
   },
   "outputs": [
    {
     "name": "stdout",
     "output_type": "stream",
     "text": [
      "best mean cross-validation score: 0.792\n",
      "best parameters: {'alpha': 10}\n",
      "test-set score: 0.768\n"
     ]
    }
   ],
   "source": [
    "param_grid2 = {'alpha': [0.1,1,10,50,100]  }\n",
    "\n",
    "grid2 = GridSearchCV(Ridge(), param_grid=param_grid2, cv=10)\n",
    "\n",
    "grid2.fit(X_train_scaled, y_train)\n",
    "\n",
    "print(\"best mean cross-validation score: {:.3f}\".format(grid2.best_score_))\n",
    "print(\"best parameters: {}\".format(grid2.best_params_))\n",
    "print(\"test-set score: {:.3f}\".format(grid2.score(X_test_scaled, y_test)))\n"
   ]
  },
  {
   "cell_type": "code",
   "execution_count": 58,
   "metadata": {
    "colab": {
     "base_uri": "https://localhost:8080/"
    },
    "id": "mTnzQD2g71uM",
    "outputId": "9c739998-53a7-47b3-9244-3796aa06ad3b"
   },
   "outputs": [
    {
     "name": "stdout",
     "output_type": "stream",
     "text": [
      "Training set score: 0.821\n",
      "Test set score: 0.768\n",
      "ridge.coef_: [-0.786458   -0.26149266 -1.59397782 -8.84878611  0.89340405  0.67962592\n",
      "  1.43696418 -0.03532179  4.89255227 -4.19122793]\n"
     ]
    }
   ],
   "source": [
    "ridge3 = Ridge(alpha=10).fit(X_train_scaled, y_train)\n",
    "print(\"Training set score: {:.3f}\".format(ridge3.score(X_train_scaled, y_train)))\n",
    "print(\"Test set score: {:.3f}\".format(ridge3.score(X_test_scaled, y_test)))\n",
    "\n",
    "print(\"ridge.coef_: {}\".format(ridge3.coef_))\n"
   ]
  },
  {
   "cell_type": "code",
   "execution_count": 59,
   "metadata": {},
   "outputs": [
    {
     "name": "stdout",
     "output_type": "stream",
     "text": [
      "Cross validation Accuracy:0.806\n"
     ]
    }
   ],
   "source": [
    "kfold8 = KFold()\n",
    "print(\"Cross validation Accuracy:{:.3f}\".format(np.mean(\n",
    "    cross_val_score(Ridge(alpha=10), X_train_scaled, y_train, cv=kfold8))))\n"
   ]
  },
  {
   "cell_type": "markdown",
   "metadata": {
    "id": "Rz_9qJqR702x"
   },
   "source": [
    "For ridge regression, after using GridSearchCV to tune the parameter, the cross validation score does not improve a lot. The cross validation score increases from 0.805 to 0.806."
   ]
  },
  {
   "cell_type": "markdown",
   "metadata": {
    "id": "dvqL0Xwq4LF6"
   },
   "source": [
    "### Lasso"
   ]
  },
  {
   "cell_type": "code",
   "execution_count": 60,
   "metadata": {
    "colab": {
     "base_uri": "https://localhost:8080/"
    },
    "id": "WG2HVzWe4Nn3",
    "outputId": "d332671c-aeac-4d6f-ddad-65e0efa43b8a"
   },
   "outputs": [
    {
     "name": "stdout",
     "output_type": "stream",
     "text": [
      "best mean cross-validation score: 0.792\n",
      "best parameters: {'alpha': 0.1}\n",
      "test-set score: 0.770\n"
     ]
    }
   ],
   "source": [
    "param_grid3 = {'alpha': [0.1,1,10,50,100] }\n",
    "\n",
    "grid3 = GridSearchCV(Lasso(), param_grid=param_grid3, cv=10)\n",
    "\n",
    "grid3.fit(X_train_scaled, y_train)\n",
    "\n",
    "print(\"best mean cross-validation score: {:.3f}\".format(grid3.best_score_))\n",
    "print(\"best parameters: {}\".format(grid3.best_params_))\n",
    "print(\"test-set score: {:.3f}\".format(grid3.score(X_test_scaled, y_test)))\n"
   ]
  },
  {
   "cell_type": "code",
   "execution_count": 61,
   "metadata": {
    "colab": {
     "base_uri": "https://localhost:8080/"
    },
    "id": "xisi9fsyEvme",
    "outputId": "9fc9cc4e-8c18-4913-cd45-2f9f61043a7f",
    "scrolled": true
   },
   "outputs": [
    {
     "name": "stdout",
     "output_type": "stream",
     "text": [
      "Training set score: 0.821\n",
      "Test set score: 0.770\n",
      "Number of features used: 7\n",
      "lasso.coef_: [-0.18265505 -0.         -1.03490901 -9.84015481  0.          0.80292107\n",
      "  1.38826014 -0.          4.72571811 -3.79707283]\n"
     ]
    }
   ],
   "source": [
    "lasso = Lasso(alpha=0.1).fit(X_train_scaled, y_train)\n",
    "print(\"Training set score: {:.3f}\".format(lasso.score(X_train_scaled, y_train)))\n",
    "print(\"Test set score: {:.3f}\".format(lasso.score(X_test_scaled, y_test)))\n",
    "print(\"Number of features used: {}\".format(np.sum(lasso.coef_ != 0)))\n",
    "\n",
    "print(\"lasso.coef_: {}\".format(lasso.coef_))\n"
   ]
  },
  {
   "cell_type": "code",
   "execution_count": 62,
   "metadata": {
    "colab": {
     "base_uri": "https://localhost:8080/"
    },
    "id": "3NJ8RVJj4Nvo",
    "outputId": "9bbed63c-4396-4ba6-c697-6b8ecbb74aee"
   },
   "outputs": [
    {
     "name": "stdout",
     "output_type": "stream",
     "text": [
      "Cross validation Accuracy:0.805\n"
     ]
    }
   ],
   "source": [
    "kfold9 = KFold()\n",
    "print(\"Cross validation Accuracy:{:.3f}\".format(np.mean(\n",
    "    cross_val_score(Lasso(alpha=0.1), X_train_scaled, y_train, cv=kfold9))))\n"
   ]
  },
  {
   "cell_type": "markdown",
   "metadata": {
    "id": "xKCKtpXwFtFX"
   },
   "source": [
    "For lasso regression, after using GridSearchCV to tune the parameter, the cross validation score does not improve a lot. The cross validation score increases from 0.800 to 0.805."
   ]
  },
  {
   "cell_type": "markdown",
   "metadata": {},
   "source": [
    "In conclusion, after using GridSearchCV to tune the parameter, the results do not improve a lot for KNN, ridge regression, and lasso regression."
   ]
  },
  {
   "cell_type": "markdown",
   "metadata": {
    "id": "tEM0Rcpde3Ez"
   },
   "source": [
    "## 1.5 Compare the coefficients of your two best linear models (not knn), do they agree on which features are important?"
   ]
  },
  {
   "cell_type": "markdown",
   "metadata": {},
   "source": [
    "The best two model are the scaled ridge model with the tuned parameter and the scaled lasso model with the tuned paramter. "
   ]
  },
  {
   "cell_type": "code",
   "execution_count": 65,
   "metadata": {
    "id": "zHHhTajKiIIL"
   },
   "outputs": [
    {
     "name": "stdout",
     "output_type": "stream",
     "text": [
      "Ridge.coef_: [-0.786458   -0.26149266 -1.59397782 -8.84878611  0.89340405  0.67962592\n",
      "  1.43696418 -0.03532179  4.89255227 -4.19122793]\n",
      "Lasso.coef_: [-0.18265505 -0.         -1.03490901 -9.84015481  0.          0.80292107\n",
      "  1.38826014 -0.          4.72571811 -3.79707283]\n"
     ]
    }
   ],
   "source": [
    "ridge_best = Ridge(alpha=10)\n",
    "ridge_best.fit(X_train_scaled, y_train)\n",
    "print(\"Ridge.coef_: {}\".format(ridge_best.coef_))\n",
    "\n",
    "lasso_best = Lasso(alpha=0.1)\n",
    "lasso_best.fit(X_train_scaled, y_train)\n",
    "print(\"Lasso.coef_: {}\".format(lasso_best.coef_))\n"
   ]
  },
  {
   "cell_type": "code",
   "execution_count": 66,
   "metadata": {
    "id": "fDLNOAwyiINB"
   },
   "outputs": [
    {
     "data": {
      "text/html": [
       "<div>\n",
       "<style scoped>\n",
       "    .dataframe tbody tr th:only-of-type {\n",
       "        vertical-align: middle;\n",
       "    }\n",
       "\n",
       "    .dataframe tbody tr th {\n",
       "        vertical-align: top;\n",
       "    }\n",
       "\n",
       "    .dataframe thead th {\n",
       "        text-align: right;\n",
       "    }\n",
       "</style>\n",
       "<table border=\"1\" class=\"dataframe\">\n",
       "  <thead>\n",
       "    <tr style=\"text-align: right;\">\n",
       "      <th></th>\n",
       "      <th>Ridge</th>\n",
       "      <th>Lasso</th>\n",
       "    </tr>\n",
       "  </thead>\n",
       "  <tbody>\n",
       "    <tr>\n",
       "      <th>8</th>\n",
       "      <td>4.892552</td>\n",
       "      <td>4.725718</td>\n",
       "    </tr>\n",
       "    <tr>\n",
       "      <th>6</th>\n",
       "      <td>1.436964</td>\n",
       "      <td>1.388260</td>\n",
       "    </tr>\n",
       "    <tr>\n",
       "      <th>5</th>\n",
       "      <td>0.679626</td>\n",
       "      <td>0.802921</td>\n",
       "    </tr>\n",
       "    <tr>\n",
       "      <th>1</th>\n",
       "      <td>-0.261493</td>\n",
       "      <td>-0.000000</td>\n",
       "    </tr>\n",
       "    <tr>\n",
       "      <th>4</th>\n",
       "      <td>0.893404</td>\n",
       "      <td>0.000000</td>\n",
       "    </tr>\n",
       "    <tr>\n",
       "      <th>7</th>\n",
       "      <td>-0.035322</td>\n",
       "      <td>-0.000000</td>\n",
       "    </tr>\n",
       "    <tr>\n",
       "      <th>0</th>\n",
       "      <td>-0.786458</td>\n",
       "      <td>-0.182655</td>\n",
       "    </tr>\n",
       "    <tr>\n",
       "      <th>2</th>\n",
       "      <td>-1.593978</td>\n",
       "      <td>-1.034909</td>\n",
       "    </tr>\n",
       "    <tr>\n",
       "      <th>9</th>\n",
       "      <td>-4.191228</td>\n",
       "      <td>-3.797073</td>\n",
       "    </tr>\n",
       "    <tr>\n",
       "      <th>3</th>\n",
       "      <td>-8.848786</td>\n",
       "      <td>-9.840155</td>\n",
       "    </tr>\n",
       "  </tbody>\n",
       "</table>\n",
       "</div>"
      ],
      "text/plain": [
       "      Ridge     Lasso\n",
       "8  4.892552  4.725718\n",
       "6  1.436964  1.388260\n",
       "5  0.679626  0.802921\n",
       "1 -0.261493 -0.000000\n",
       "4  0.893404  0.000000\n",
       "7 -0.035322 -0.000000\n",
       "0 -0.786458 -0.182655\n",
       "2 -1.593978 -1.034909\n",
       "9 -4.191228 -3.797073\n",
       "3 -8.848786 -9.840155"
      ]
     },
     "execution_count": 66,
     "metadata": {},
     "output_type": "execute_result"
    }
   ],
   "source": [
    "coefficients = pd.DataFrame({'Ridge': ridge_best.coef_,'Lasso': lasso_best.coef_})\n",
    "coefficients.sort_values('Lasso', ascending = False)\n"
   ]
  },
  {
   "cell_type": "markdown",
   "metadata": {},
   "source": [
    "Important Features for Both Ridge and Lasso:\n",
    "1. Feature at index 3 is consistently important, with a negative coefficient around -8.85 (Ridge) and -9.84 (Lasso).\n",
    "2. Feature at index 9 is consistently important, with a negative coefficient around -4.19 (Ridge) and -3.80 (Lasso).\n",
    "3. Feature at index 8 is consistently important, with a positive coefficient around 4.89 (Ridge) and 4.73 (Lasso).\n",
    "\n",
    "Consistent Plus-Minus Signs: Features at indices 0, 2, 5, and 6 have consistent signs in both Ridge and Lasso, suggesting their importance in a similar direction.\n",
    "\n",
    "Differences Between Ridge and Lasso: Features at indices 1, 4, and 7 have non-zero coefficients in Ridge, but Lasso assigns them coefficients of 0. This indicates that, according to Lasso, these features may not be contributing significantly to the prediction."
   ]
  },
  {
   "cell_type": "markdown",
   "metadata": {
    "id": "kYFomlbLe3LE"
   },
   "source": [
    "## 1.6 Now that you have experimented with different models, discuss which final model you would choose to predict new data"
   ]
  },
  {
   "cell_type": "markdown",
   "metadata": {
    "id": "25pspJJWeekw"
   },
   "source": [
    "Both Ridge and Lasso perform better than other models. Ridge tends to produce larger magnitude coefficients, while Lasso tends to drive some coefficients exactly to zero, indicating features that are not contributing to the model. I prefer Lasso to figure out many features are not relevant, and then I can have a simpler model to predict new data. \n",
    "Using Lasso probably can help prevent overfitting.\n"
   ]
  },
  {
   "cell_type": "markdown",
   "metadata": {
    "id": "bbPMB_zHehT9"
   },
   "source": [
    "# Part 2: Classification on red and white wine characteristics"
   ]
  },
  {
   "cell_type": "code",
   "execution_count": 67,
   "metadata": {
    "id": "3MjSyOq8iV6C"
   },
   "outputs": [],
   "source": [
    "#Read csv file\n",
    "red = pd.read_csv(\"https://archive.ics.uci.edu/ml/machine-learning-databases/wine-quality/winequality-red.csv\", sep=';')\n",
    "white = pd.read_csv(\"https://archive.ics.uci.edu/ml/machine-learning-databases/wine-quality/winequality-white.csv\", sep=';')\n"
   ]
  },
  {
   "cell_type": "code",
   "execution_count": 68,
   "metadata": {},
   "outputs": [],
   "source": [
    "# Add \"winetype\" column and label values\n",
    "white['winetype'] = 0  # 0 for white wine\n",
    "red['winetype'] = 1    # 1 for red wine\n"
   ]
  },
  {
   "cell_type": "code",
   "execution_count": 69,
   "metadata": {},
   "outputs": [
    {
     "data": {
      "text/html": [
       "<div>\n",
       "<style scoped>\n",
       "    .dataframe tbody tr th:only-of-type {\n",
       "        vertical-align: middle;\n",
       "    }\n",
       "\n",
       "    .dataframe tbody tr th {\n",
       "        vertical-align: top;\n",
       "    }\n",
       "\n",
       "    .dataframe thead th {\n",
       "        text-align: right;\n",
       "    }\n",
       "</style>\n",
       "<table border=\"1\" class=\"dataframe\">\n",
       "  <thead>\n",
       "    <tr style=\"text-align: right;\">\n",
       "      <th></th>\n",
       "      <th>fixed acidity</th>\n",
       "      <th>volatile acidity</th>\n",
       "      <th>citric acid</th>\n",
       "      <th>residual sugar</th>\n",
       "      <th>chlorides</th>\n",
       "      <th>free sulfur dioxide</th>\n",
       "      <th>total sulfur dioxide</th>\n",
       "      <th>density</th>\n",
       "      <th>pH</th>\n",
       "      <th>sulphates</th>\n",
       "      <th>alcohol</th>\n",
       "      <th>quality</th>\n",
       "      <th>winetype</th>\n",
       "    </tr>\n",
       "  </thead>\n",
       "  <tbody>\n",
       "    <tr>\n",
       "      <th>0</th>\n",
       "      <td>7.0</td>\n",
       "      <td>0.27</td>\n",
       "      <td>0.36</td>\n",
       "      <td>20.7</td>\n",
       "      <td>0.045</td>\n",
       "      <td>45.0</td>\n",
       "      <td>170.0</td>\n",
       "      <td>1.0010</td>\n",
       "      <td>3.00</td>\n",
       "      <td>0.45</td>\n",
       "      <td>8.8</td>\n",
       "      <td>6</td>\n",
       "      <td>0</td>\n",
       "    </tr>\n",
       "    <tr>\n",
       "      <th>1</th>\n",
       "      <td>6.3</td>\n",
       "      <td>0.30</td>\n",
       "      <td>0.34</td>\n",
       "      <td>1.6</td>\n",
       "      <td>0.049</td>\n",
       "      <td>14.0</td>\n",
       "      <td>132.0</td>\n",
       "      <td>0.9940</td>\n",
       "      <td>3.30</td>\n",
       "      <td>0.49</td>\n",
       "      <td>9.5</td>\n",
       "      <td>6</td>\n",
       "      <td>0</td>\n",
       "    </tr>\n",
       "    <tr>\n",
       "      <th>2</th>\n",
       "      <td>8.1</td>\n",
       "      <td>0.28</td>\n",
       "      <td>0.40</td>\n",
       "      <td>6.9</td>\n",
       "      <td>0.050</td>\n",
       "      <td>30.0</td>\n",
       "      <td>97.0</td>\n",
       "      <td>0.9951</td>\n",
       "      <td>3.26</td>\n",
       "      <td>0.44</td>\n",
       "      <td>10.1</td>\n",
       "      <td>6</td>\n",
       "      <td>0</td>\n",
       "    </tr>\n",
       "    <tr>\n",
       "      <th>3</th>\n",
       "      <td>7.2</td>\n",
       "      <td>0.23</td>\n",
       "      <td>0.32</td>\n",
       "      <td>8.5</td>\n",
       "      <td>0.058</td>\n",
       "      <td>47.0</td>\n",
       "      <td>186.0</td>\n",
       "      <td>0.9956</td>\n",
       "      <td>3.19</td>\n",
       "      <td>0.40</td>\n",
       "      <td>9.9</td>\n",
       "      <td>6</td>\n",
       "      <td>0</td>\n",
       "    </tr>\n",
       "    <tr>\n",
       "      <th>4</th>\n",
       "      <td>7.2</td>\n",
       "      <td>0.23</td>\n",
       "      <td>0.32</td>\n",
       "      <td>8.5</td>\n",
       "      <td>0.058</td>\n",
       "      <td>47.0</td>\n",
       "      <td>186.0</td>\n",
       "      <td>0.9956</td>\n",
       "      <td>3.19</td>\n",
       "      <td>0.40</td>\n",
       "      <td>9.9</td>\n",
       "      <td>6</td>\n",
       "      <td>0</td>\n",
       "    </tr>\n",
       "  </tbody>\n",
       "</table>\n",
       "</div>"
      ],
      "text/plain": [
       "   fixed acidity  volatile acidity  citric acid  residual sugar  chlorides  \\\n",
       "0            7.0              0.27         0.36            20.7      0.045   \n",
       "1            6.3              0.30         0.34             1.6      0.049   \n",
       "2            8.1              0.28         0.40             6.9      0.050   \n",
       "3            7.2              0.23         0.32             8.5      0.058   \n",
       "4            7.2              0.23         0.32             8.5      0.058   \n",
       "\n",
       "   free sulfur dioxide  total sulfur dioxide  density    pH  sulphates  \\\n",
       "0                 45.0                 170.0   1.0010  3.00       0.45   \n",
       "1                 14.0                 132.0   0.9940  3.30       0.49   \n",
       "2                 30.0                  97.0   0.9951  3.26       0.44   \n",
       "3                 47.0                 186.0   0.9956  3.19       0.40   \n",
       "4                 47.0                 186.0   0.9956  3.19       0.40   \n",
       "\n",
       "   alcohol  quality  winetype  \n",
       "0      8.8        6         0  \n",
       "1      9.5        6         0  \n",
       "2     10.1        6         0  \n",
       "3      9.9        6         0  \n",
       "4      9.9        6         0  "
      ]
     },
     "execution_count": 69,
     "metadata": {},
     "output_type": "execute_result"
    }
   ],
   "source": [
    "# Combine both datasets into a single DataFrame\n",
    "wine = pd.concat([white, red], ignore_index=True)\n",
    "wine.head(5)\n"
   ]
  },
  {
   "cell_type": "markdown",
   "metadata": {
    "id": "4ww9mxy_ehbT"
   },
   "source": [
    "## 2.1 Visualize the univariate distribution of the target feature and each of the three explanatory variables that you think are likely to have a relationship with the target feature"
   ]
  },
  {
   "cell_type": "markdown",
   "metadata": {},
   "source": [
    "Univariate distribution of the target feature winetype:"
   ]
  },
  {
   "cell_type": "code",
   "execution_count": 70,
   "metadata": {},
   "outputs": [
    {
     "data": {
      "image/png": "[encoded data removed]",
      "text/plain": [
       "<Figure size 640x480 with 1 Axes>"
      ]
     },
     "metadata": {},
     "output_type": "display_data"
    }
   ],
   "source": [
    "# Create a countplot using winetype column\n",
    "sns.countplot(x='winetype', data=wine)\n",
    "plt.title('Distribution of Winetype')\n",
    "plt.xlabel('Wine type')\n",
    "plt.ylabel('Count')\n",
    "plt.show()\n"
   ]
  },
  {
   "cell_type": "markdown",
   "metadata": {},
   "source": [
    "Three continuous variables I choose are density, pH, and alcohol."
   ]
  },
  {
   "cell_type": "code",
   "execution_count": 71,
   "metadata": {},
   "outputs": [
    {
     "data": {
      "text/plain": [
       "Text(0, 0.5, 'Count')"
      ]
     },
     "execution_count": 71,
     "metadata": {},
     "output_type": "execute_result"
    },
    {
     "data": {
      "image/png": "[encoded data removed]",
      "text/plain": [
       "<Figure size 640x480 with 1 Axes>"
      ]
     },
     "metadata": {},
     "output_type": "display_data"
    }
   ],
   "source": [
    "# Create a histogram using density column\n",
    "wine['density'].hist()\n",
    "plt.xlabel('Density')\n",
    "plt.ylabel('Count')\n"
   ]
  },
  {
   "cell_type": "code",
   "execution_count": 72,
   "metadata": {},
   "outputs": [
    {
     "data": {
      "text/plain": [
       "Text(0, 0.5, 'Count')"
      ]
     },
     "execution_count": 72,
     "metadata": {},
     "output_type": "execute_result"
    },
    {
     "data": {
      "image/png": "[encoded data removed]",
      "text/plain": [
       "<Figure size 640x480 with 1 Axes>"
      ]
     },
     "metadata": {},
     "output_type": "display_data"
    }
   ],
   "source": [
    "# Create a histogram using pH column\n",
    "wine['pH'].hist()\n",
    "plt.xlabel('pH')\n",
    "plt.ylabel('Count')\n"
   ]
  },
  {
   "cell_type": "code",
   "execution_count": 73,
   "metadata": {},
   "outputs": [
    {
     "data": {
      "text/plain": [
       "Text(0, 0.5, 'Count')"
      ]
     },
     "execution_count": 73,
     "metadata": {},
     "output_type": "execute_result"
    },
    {
     "data": {
      "image/png": "[encoded data removed]",
      "text/plain": [
       "<Figure size 640x480 with 1 Axes>"
      ]
     },
     "metadata": {},
     "output_type": "display_data"
    }
   ],
   "source": [
    "# Create a histogram using alcohol column\n",
    "wine['alcohol'].hist()\n",
    "plt.xlabel('alcohol')\n",
    "plt.ylabel('Count')\n"
   ]
  },
  {
   "cell_type": "markdown",
   "metadata": {
    "id": "wp02bBR-ehmz"
   },
   "source": [
    "## 2.2 Split data into training and test set. Build models that evaluate the relationship between all available X variables in the dataset and the target variable. Evaluate Logistic Regression, Penalized Logistic Regression, and KNN for classification using cross-validation. How different are the results? How does scaling the data with StandardScaler influence the results?"
   ]
  },
  {
   "cell_type": "code",
   "execution_count": 74,
   "metadata": {},
   "outputs": [
    {
     "data": {
      "text/plain": [
       "fixed acidity           float64\n",
       "volatile acidity        float64\n",
       "citric acid             float64\n",
       "residual sugar          float64\n",
       "chlorides               float64\n",
       "free sulfur dioxide     float64\n",
       "total sulfur dioxide    float64\n",
       "density                 float64\n",
       "pH                      float64\n",
       "sulphates               float64\n",
       "alcohol                 float64\n",
       "quality                   int64\n",
       "winetype                  int64\n",
       "dtype: object"
      ]
     },
     "execution_count": 74,
     "metadata": {},
     "output_type": "execute_result"
    }
   ],
   "source": [
    "#Check types for all the columns\n",
    "wine.dtypes\n"
   ]
  },
  {
   "cell_type": "code",
   "execution_count": 75,
   "metadata": {},
   "outputs": [
    {
     "name": "stdout",
     "output_type": "stream",
     "text": [
      "0    0\n",
      "1    0\n",
      "2    0\n",
      "3    0\n",
      "4    0\n",
      "Name: winetype, dtype: int64\n"
     ]
    },
    {
     "data": {
      "text/html": [
       "<div>\n",
       "<style scoped>\n",
       "    .dataframe tbody tr th:only-of-type {\n",
       "        vertical-align: middle;\n",
       "    }\n",
       "\n",
       "    .dataframe tbody tr th {\n",
       "        vertical-align: top;\n",
       "    }\n",
       "\n",
       "    .dataframe thead th {\n",
       "        text-align: right;\n",
       "    }\n",
       "</style>\n",
       "<table border=\"1\" class=\"dataframe\">\n",
       "  <thead>\n",
       "    <tr style=\"text-align: right;\">\n",
       "      <th></th>\n",
       "      <th>fixed acidity</th>\n",
       "      <th>volatile acidity</th>\n",
       "      <th>citric acid</th>\n",
       "      <th>residual sugar</th>\n",
       "      <th>chlorides</th>\n",
       "      <th>free sulfur dioxide</th>\n",
       "      <th>total sulfur dioxide</th>\n",
       "      <th>density</th>\n",
       "      <th>pH</th>\n",
       "      <th>sulphates</th>\n",
       "      <th>alcohol</th>\n",
       "      <th>quality</th>\n",
       "    </tr>\n",
       "  </thead>\n",
       "  <tbody>\n",
       "    <tr>\n",
       "      <th>0</th>\n",
       "      <td>7.0</td>\n",
       "      <td>0.27</td>\n",
       "      <td>0.36</td>\n",
       "      <td>20.7</td>\n",
       "      <td>0.045</td>\n",
       "      <td>45.0</td>\n",
       "      <td>170.0</td>\n",
       "      <td>1.0010</td>\n",
       "      <td>3.00</td>\n",
       "      <td>0.45</td>\n",
       "      <td>8.8</td>\n",
       "      <td>6</td>\n",
       "    </tr>\n",
       "    <tr>\n",
       "      <th>1</th>\n",
       "      <td>6.3</td>\n",
       "      <td>0.30</td>\n",
       "      <td>0.34</td>\n",
       "      <td>1.6</td>\n",
       "      <td>0.049</td>\n",
       "      <td>14.0</td>\n",
       "      <td>132.0</td>\n",
       "      <td>0.9940</td>\n",
       "      <td>3.30</td>\n",
       "      <td>0.49</td>\n",
       "      <td>9.5</td>\n",
       "      <td>6</td>\n",
       "    </tr>\n",
       "    <tr>\n",
       "      <th>2</th>\n",
       "      <td>8.1</td>\n",
       "      <td>0.28</td>\n",
       "      <td>0.40</td>\n",
       "      <td>6.9</td>\n",
       "      <td>0.050</td>\n",
       "      <td>30.0</td>\n",
       "      <td>97.0</td>\n",
       "      <td>0.9951</td>\n",
       "      <td>3.26</td>\n",
       "      <td>0.44</td>\n",
       "      <td>10.1</td>\n",
       "      <td>6</td>\n",
       "    </tr>\n",
       "    <tr>\n",
       "      <th>3</th>\n",
       "      <td>7.2</td>\n",
       "      <td>0.23</td>\n",
       "      <td>0.32</td>\n",
       "      <td>8.5</td>\n",
       "      <td>0.058</td>\n",
       "      <td>47.0</td>\n",
       "      <td>186.0</td>\n",
       "      <td>0.9956</td>\n",
       "      <td>3.19</td>\n",
       "      <td>0.40</td>\n",
       "      <td>9.9</td>\n",
       "      <td>6</td>\n",
       "    </tr>\n",
       "    <tr>\n",
       "      <th>4</th>\n",
       "      <td>7.2</td>\n",
       "      <td>0.23</td>\n",
       "      <td>0.32</td>\n",
       "      <td>8.5</td>\n",
       "      <td>0.058</td>\n",
       "      <td>47.0</td>\n",
       "      <td>186.0</td>\n",
       "      <td>0.9956</td>\n",
       "      <td>3.19</td>\n",
       "      <td>0.40</td>\n",
       "      <td>9.9</td>\n",
       "      <td>6</td>\n",
       "    </tr>\n",
       "  </tbody>\n",
       "</table>\n",
       "</div>"
      ],
      "text/plain": [
       "   fixed acidity  volatile acidity  citric acid  residual sugar  chlorides  \\\n",
       "0            7.0              0.27         0.36            20.7      0.045   \n",
       "1            6.3              0.30         0.34             1.6      0.049   \n",
       "2            8.1              0.28         0.40             6.9      0.050   \n",
       "3            7.2              0.23         0.32             8.5      0.058   \n",
       "4            7.2              0.23         0.32             8.5      0.058   \n",
       "\n",
       "   free sulfur dioxide  total sulfur dioxide  density    pH  sulphates  \\\n",
       "0                 45.0                 170.0   1.0010  3.00       0.45   \n",
       "1                 14.0                 132.0   0.9940  3.30       0.49   \n",
       "2                 30.0                  97.0   0.9951  3.26       0.44   \n",
       "3                 47.0                 186.0   0.9956  3.19       0.40   \n",
       "4                 47.0                 186.0   0.9956  3.19       0.40   \n",
       "\n",
       "   alcohol  quality  \n",
       "0      8.8        6  \n",
       "1      9.5        6  \n",
       "2     10.1        6  \n",
       "3      9.9        6  \n",
       "4      9.9        6  "
      ]
     },
     "execution_count": 75,
     "metadata": {},
     "output_type": "execute_result"
    }
   ],
   "source": [
    "# Change variable names to X, y to create train/test split\n",
    "y2 = wine['winetype']\n",
    "X2 = wine.loc[:, wine.columns != 'winetype']\n",
    "\n",
    "print(y2[0:5])\n",
    "X2.head()\n"
   ]
  },
  {
   "cell_type": "code",
   "execution_count": 78,
   "metadata": {},
   "outputs": [
    {
     "data": {
      "text/html": [
       "<div>\n",
       "<style scoped>\n",
       "    .dataframe tbody tr th:only-of-type {\n",
       "        vertical-align: middle;\n",
       "    }\n",
       "\n",
       "    .dataframe tbody tr th {\n",
       "        vertical-align: top;\n",
       "    }\n",
       "\n",
       "    .dataframe thead th {\n",
       "        text-align: right;\n",
       "    }\n",
       "</style>\n",
       "<table border=\"1\" class=\"dataframe\">\n",
       "  <thead>\n",
       "    <tr style=\"text-align: right;\">\n",
       "      <th></th>\n",
       "      <th>fixed acidity</th>\n",
       "      <th>volatile acidity</th>\n",
       "      <th>citric acid</th>\n",
       "      <th>residual sugar</th>\n",
       "      <th>chlorides</th>\n",
       "      <th>free sulfur dioxide</th>\n",
       "      <th>total sulfur dioxide</th>\n",
       "      <th>density</th>\n",
       "      <th>pH</th>\n",
       "      <th>sulphates</th>\n",
       "      <th>alcohol</th>\n",
       "      <th>quality</th>\n",
       "    </tr>\n",
       "  </thead>\n",
       "  <tbody>\n",
       "    <tr>\n",
       "      <th>2482</th>\n",
       "      <td>6.2</td>\n",
       "      <td>0.260</td>\n",
       "      <td>0.37</td>\n",
       "      <td>7.1</td>\n",
       "      <td>0.047</td>\n",
       "      <td>54.0</td>\n",
       "      <td>201.0</td>\n",
       "      <td>0.99523</td>\n",
       "      <td>3.19</td>\n",
       "      <td>0.48</td>\n",
       "      <td>9.5</td>\n",
       "      <td>6</td>\n",
       "    </tr>\n",
       "    <tr>\n",
       "      <th>4211</th>\n",
       "      <td>7.1</td>\n",
       "      <td>0.380</td>\n",
       "      <td>0.42</td>\n",
       "      <td>11.8</td>\n",
       "      <td>0.041</td>\n",
       "      <td>32.0</td>\n",
       "      <td>193.0</td>\n",
       "      <td>0.99624</td>\n",
       "      <td>3.04</td>\n",
       "      <td>0.49</td>\n",
       "      <td>10.0</td>\n",
       "      <td>6</td>\n",
       "    </tr>\n",
       "    <tr>\n",
       "      <th>6475</th>\n",
       "      <td>6.2</td>\n",
       "      <td>0.700</td>\n",
       "      <td>0.15</td>\n",
       "      <td>5.1</td>\n",
       "      <td>0.076</td>\n",
       "      <td>13.0</td>\n",
       "      <td>27.0</td>\n",
       "      <td>0.99622</td>\n",
       "      <td>3.54</td>\n",
       "      <td>0.60</td>\n",
       "      <td>11.9</td>\n",
       "      <td>6</td>\n",
       "    </tr>\n",
       "    <tr>\n",
       "      <th>6180</th>\n",
       "      <td>7.9</td>\n",
       "      <td>0.765</td>\n",
       "      <td>0.00</td>\n",
       "      <td>2.0</td>\n",
       "      <td>0.084</td>\n",
       "      <td>9.0</td>\n",
       "      <td>22.0</td>\n",
       "      <td>0.99619</td>\n",
       "      <td>3.33</td>\n",
       "      <td>0.68</td>\n",
       "      <td>10.9</td>\n",
       "      <td>6</td>\n",
       "    </tr>\n",
       "    <tr>\n",
       "      <th>961</th>\n",
       "      <td>8.0</td>\n",
       "      <td>0.420</td>\n",
       "      <td>0.36</td>\n",
       "      <td>5.0</td>\n",
       "      <td>0.037</td>\n",
       "      <td>34.0</td>\n",
       "      <td>101.0</td>\n",
       "      <td>0.99200</td>\n",
       "      <td>3.13</td>\n",
       "      <td>0.57</td>\n",
       "      <td>12.3</td>\n",
       "      <td>7</td>\n",
       "    </tr>\n",
       "  </tbody>\n",
       "</table>\n",
       "</div>"
      ],
      "text/plain": [
       "      fixed acidity  volatile acidity  citric acid  residual sugar  chlorides  \\\n",
       "2482            6.2             0.260         0.37             7.1      0.047   \n",
       "4211            7.1             0.380         0.42            11.8      0.041   \n",
       "6475            6.2             0.700         0.15             5.1      0.076   \n",
       "6180            7.9             0.765         0.00             2.0      0.084   \n",
       "961             8.0             0.420         0.36             5.0      0.037   \n",
       "\n",
       "      free sulfur dioxide  total sulfur dioxide  density    pH  sulphates  \\\n",
       "2482                 54.0                 201.0  0.99523  3.19       0.48   \n",
       "4211                 32.0                 193.0  0.99624  3.04       0.49   \n",
       "6475                 13.0                  27.0  0.99622  3.54       0.60   \n",
       "6180                  9.0                  22.0  0.99619  3.33       0.68   \n",
       "961                  34.0                 101.0  0.99200  3.13       0.57   \n",
       "\n",
       "      alcohol  quality  \n",
       "2482      9.5        6  \n",
       "4211     10.0        6  \n",
       "6475     11.9        6  \n",
       "6180     10.9        6  \n",
       "961      12.3        7  "
      ]
     },
     "execution_count": 78,
     "metadata": {},
     "output_type": "execute_result"
    }
   ],
   "source": [
    "# Train test split\n",
    "X_train2, X_test2, y_train2, y_test2 = train_test_split(X2, y2)\n",
    "X_train2.head()\n"
   ]
  },
  {
   "cell_type": "code",
   "execution_count": 79,
   "metadata": {},
   "outputs": [],
   "source": [
    "# Scale the data\n",
    "scaler = preprocessing.StandardScaler()\n",
    "scaler.fit(X_train2)\n",
    "X_train_scaled2 = scaler.transform(X_train2)\n",
    "X_test_scaled2 = scaler.transform(X_test2)\n"
   ]
  },
  {
   "cell_type": "markdown",
   "metadata": {},
   "source": [
    "### Logistic Regression"
   ]
  },
  {
   "cell_type": "markdown",
   "metadata": {},
   "source": [
    "#### Original train/test set:"
   ]
  },
  {
   "cell_type": "code",
   "execution_count": 80,
   "metadata": {},
   "outputs": [
    {
     "name": "stdout",
     "output_type": "stream",
     "text": [
      "logreg.coef_: [[ 0.77140436 12.16309334 -2.09072415 -0.24349464  2.04613333  0.04293218\n",
      "  -0.06946581 -2.65047997  0.63843613 10.38396239 -0.73274694  0.07714608]]\n",
      "Training set score: 0.980\n",
      "Test set score: 0.986\n",
      "logreg.predict: [1 1 0 ... 0 0 0]\n"
     ]
    }
   ],
   "source": [
    "from sklearn.linear_model import LogisticRegression\n",
    "\n",
    "logreg = LogisticRegression(penalty=None).fit(X_train2, y_train2)\n",
    "\n",
    "print(\"logreg.coef_: {}\".format(logreg.coef_))\n",
    "print(\"Training set score: {:.3f}\".format(logreg.score(X_train2, y_train2)))\n",
    "print(\"Test set score: {:.3f}\".format(logreg.score(X_test2, y_test2)))\n",
    "\n",
    "predicted_vals = logreg.predict(X_test2) \n",
    "print(\"logreg.predict: {}\".format(predicted_vals))\n"
   ]
  },
  {
   "cell_type": "code",
   "execution_count": 81,
   "metadata": {},
   "outputs": [
    {
     "name": "stdout",
     "output_type": "stream",
     "text": [
      "Cross validation Accuracy:0.978\n"
     ]
    }
   ],
   "source": [
    "kfold10 = KFold()\n",
    "print(\"Cross validation Accuracy:{:.3f}\".format(np.mean(\n",
    "    cross_val_score(LogisticRegression(penalty=None), X_train2, y_train2, cv=kfold10))))\n"
   ]
  },
  {
   "cell_type": "markdown",
   "metadata": {},
   "source": [
    "#### After scaling the data: "
   ]
  },
  {
   "cell_type": "code",
   "execution_count": 82,
   "metadata": {},
   "outputs": [
    {
     "name": "stdout",
     "output_type": "stream",
     "text": [
      "logreg_scaled.coef_: [[-0.21197303  1.22391767 -0.33211702 -4.2572119   0.7766404   0.80560988\n",
      "  -2.77676398  4.74441375 -0.01493642  0.57542025  1.66202023  0.47207434]]\n",
      "Training set score: 0.995\n",
      "Test set score: 0.994\n",
      "logreg_scaled.predict: [1 0 0 ... 0 0 0]\n"
     ]
    }
   ],
   "source": [
    "logreg_scaled = LogisticRegression(penalty=None).fit(X_train_scaled2, y_train2)\n",
    "\n",
    "print(\"logreg_scaled.coef_: {}\".format(logreg_scaled.coef_))\n",
    "print(\"Training set score: {:.3f}\".format(logreg_scaled.score(X_train_scaled2, y_train2)))\n",
    "print(\"Test set score: {:.3f}\".format(logreg_scaled.score(X_test_scaled2, y_test2)))\n",
    "\n",
    "predicted_vals_scaled = logreg_scaled.predict(X_test_scaled2) \n",
    "print(\"logreg_scaled.predict: {}\".format(predicted_vals_scaled))\n"
   ]
  },
  {
   "cell_type": "code",
   "execution_count": 83,
   "metadata": {},
   "outputs": [
    {
     "name": "stdout",
     "output_type": "stream",
     "text": [
      "Cross validation Accuracy:0.993\n"
     ]
    }
   ],
   "source": [
    "kfold11 = KFold()\n",
    "print(\"Cross validation Accuracy:{:.3f}\".format(np.mean(\n",
    "    cross_val_score(logreg_scaled, X_train_scaled2, y_train2, cv=kfold11))))\n"
   ]
  },
  {
   "cell_type": "markdown",
   "metadata": {},
   "source": [
    "Here for ridge regression, scaling the data with the StandardScaler influences the result. The cross validation score increases from 0.978 to 0.993. "
   ]
  },
  {
   "cell_type": "markdown",
   "metadata": {},
   "source": [
    "### Penalized Logistic Regression: L2"
   ]
  },
  {
   "cell_type": "markdown",
   "metadata": {},
   "source": [
    "#### Original train/test set:"
   ]
  },
  {
   "cell_type": "code",
   "execution_count": 1,
   "metadata": {},
   "outputs": [
    {
     "ename": "NameError",
     "evalue": "name 'LogisticRegression' is not defined",
     "output_type": "error",
     "traceback": [
      "\u001b[0;31m---------------------------------------------------------------------------\u001b[0m",
      "\u001b[0;31mNameError\u001b[0m                                 Traceback (most recent call last)",
      "Cell \u001b[0;32mIn[1], line 2\u001b[0m\n\u001b[1;32m      1\u001b[0m \u001b[38;5;66;03m# Penalized Logistic Regression (L2 regularization)\u001b[39;00m\n\u001b[0;32m----> 2\u001b[0m logregl2 \u001b[38;5;241m=\u001b[39m LogisticRegression(penalty\u001b[38;5;241m=\u001b[39m\u001b[38;5;124m'\u001b[39m\u001b[38;5;124ml2\u001b[39m\u001b[38;5;124m'\u001b[39m)\u001b[38;5;241m.\u001b[39mfit(X_train2, y_train2)\n\u001b[1;32m      4\u001b[0m \u001b[38;5;28mprint\u001b[39m(\u001b[38;5;124m\"\u001b[39m\u001b[38;5;124mlogregl2.coef_: \u001b[39m\u001b[38;5;132;01m{}\u001b[39;00m\u001b[38;5;124m\"\u001b[39m\u001b[38;5;241m.\u001b[39mformat(logregl2\u001b[38;5;241m.\u001b[39mcoef_))\n\u001b[1;32m      5\u001b[0m \u001b[38;5;28mprint\u001b[39m(\u001b[38;5;124m\"\u001b[39m\u001b[38;5;124mTraining set score: \u001b[39m\u001b[38;5;132;01m{:.3f}\u001b[39;00m\u001b[38;5;124m\"\u001b[39m\u001b[38;5;241m.\u001b[39mformat(logregl2\u001b[38;5;241m.\u001b[39mscore(X_train2, y_train2)))\n",
      "\u001b[0;31mNameError\u001b[0m: name 'LogisticRegression' is not defined"
     ]
    }
   ],
   "source": [
    "# Penalized Logistic Regression (L2 regularization)\n",
    "logregl2 = LogisticRegression(penalty='l2').fit(X_train2, y_train2)\n",
    "\n",
    "print(\"logregl2.coef_: {}\".format(logregl2.coef_))\n",
    "print(\"Training set score: {:.3f}\".format(logregl2.score(X_train2, y_train2)))\n",
    "print(\"Test set score: {:.3f}\".format(logregl2.score(X_test2, y_test2)))\n",
    "\n",
    "predicted_vals = logregl2.predict(X_test2) \n",
    "print(\"logregl2.predict: {}\".format(predicted_vals))\n"
   ]
  },
  {
   "cell_type": "code",
   "execution_count": 85,
   "metadata": {},
   "outputs": [
    {
     "name": "stdout",
     "output_type": "stream",
     "text": [
      "Cross validation Accuracy:0.976\n"
     ]
    }
   ],
   "source": [
    "kfold12 = KFold()\n",
    "print(\"Cross validation Accuracy:{:.3f}\".format(np.mean(cross_val_score(logregl2, X_train2, y_train2, cv=kfold12))))\n"
   ]
  },
  {
   "cell_type": "markdown",
   "metadata": {},
   "source": [
    "#### After scaling the data:"
   ]
  },
  {
   "cell_type": "code",
   "execution_count": 86,
   "metadata": {
    "scrolled": true
   },
   "outputs": [
    {
     "name": "stdout",
     "output_type": "stream",
     "text": [
      "logregl2_scaled.coef_: [[ 0.35209301  1.29243333 -0.30791288 -3.04527972  0.83006207  0.52607095\n",
      "  -2.61029808  3.30748053  0.39855616  0.71811103  1.02323689  0.38440997]]\n",
      "Training set score: 0.994\n",
      "Test set score: 0.994\n",
      "logregl2_scaled.predict: [1 0 0 ... 0 0 0]\n"
     ]
    }
   ],
   "source": [
    "logregl2_scaled = LogisticRegression(penalty='l2').fit(X_train_scaled2, y_train2)\n",
    "\n",
    "print(\"logregl2_scaled.coef_: {}\".format(logregl2_scaled.coef_))\n",
    "print(\"Training set score: {:.3f}\".format(logregl2_scaled.score(X_train_scaled2, y_train2)))\n",
    "print(\"Test set score: {:.3f}\".format(logregl2_scaled.score(X_test_scaled2, y_test2)))\n",
    "\n",
    "predicted_vals = logregl2_scaled.predict(X_test_scaled2) \n",
    "print(\"logregl2_scaled.predict: {}\".format(predicted_vals))\n"
   ]
  },
  {
   "cell_type": "code",
   "execution_count": 120,
   "metadata": {},
   "outputs": [
    {
     "name": "stdout",
     "output_type": "stream",
     "text": [
      "Cross validation Accuracy:0.992\n"
     ]
    }
   ],
   "source": [
    "kfold13 = KFold()\n",
    "print(\"Cross validation Accuracy:{:.3f}\".format(np.mean(\n",
    "    cross_val_score(logregl2_scaled, X_train_scaled2, y_train2, cv=kfold13))))\n"
   ]
  },
  {
   "cell_type": "markdown",
   "metadata": {},
   "source": [
    "Here, scaling the data with the StandardScaler influences the result. The cross validation score increases from 0.976 to 0.992. "
   ]
  },
  {
   "cell_type": "markdown",
   "metadata": {},
   "source": [
    "### Penalized Logistic Regression: L1"
   ]
  },
  {
   "cell_type": "markdown",
   "metadata": {},
   "source": [
    "#### Original train/test set:"
   ]
  },
  {
   "cell_type": "code",
   "execution_count": 89,
   "metadata": {},
   "outputs": [
    {
     "name": "stdout",
     "output_type": "stream",
     "text": [
      "logregl1.coef_: [[ 0.74729971 10.75497434 -0.06834257 -0.14190043 16.88314591  0.03912598\n",
      "  -0.06094323 -7.33673226  3.07719198  9.19175816 -0.57250143  0.02800052]]\n",
      "Training set score: 0.984\n",
      "Test set score: 0.992\n",
      "logregl1.predict: [1 0 0 ... 0 0 0]\n"
     ]
    }
   ],
   "source": [
    "logregl1 = LogisticRegression(penalty='l1', solver='liblinear').fit(X_train2, y_train2)\n",
    "\n",
    "print(\"logregl1.coef_: {}\".format(logregl1.coef_))\n",
    "print(\"Training set score: {:.3f}\".format(logregl1.score(X_train2, y_train2)))\n",
    "print(\"Test set score: {:.3f}\".format(logregl1.score(X_test2, y_test2)))\n",
    "\n",
    "predicted_vals = logregl1.predict(X_test2) \n",
    "print(\"logregl1.predict: {}\".format(predicted_vals))\n"
   ]
  },
  {
   "cell_type": "code",
   "execution_count": 90,
   "metadata": {},
   "outputs": [
    {
     "name": "stdout",
     "output_type": "stream",
     "text": [
      "Cross validation Accuracy:0.985\n"
     ]
    }
   ],
   "source": [
    "kfold14 = KFold()\n",
    "print(\"Cross validation Accuracy:{:.3f}\".format(np.mean(cross_val_score(logregl1, X_train2, y_train2, cv=kfold14))))\n"
   ]
  },
  {
   "cell_type": "markdown",
   "metadata": {},
   "source": [
    "#### After scaling the data:"
   ]
  },
  {
   "cell_type": "code",
   "execution_count": 91,
   "metadata": {},
   "outputs": [
    {
     "name": "stdout",
     "output_type": "stream",
     "text": [
      "logregl1_scaled.coef_: [[ 0.          1.21531714 -0.30872634 -3.67824468  0.76661941  0.6373953\n",
      "  -2.63927506  4.1473875   0.12959904  0.59551953  1.38686276  0.42680109]]\n",
      "Training set score: 0.995\n",
      "Test set score: 0.995\n",
      "logregl1_scaled.predict: [1 0 0 ... 0 0 0]\n"
     ]
    }
   ],
   "source": [
    "logregl1_scaled = LogisticRegression(penalty='l1', solver='liblinear').fit(X_train_scaled2, y_train2)\n",
    "\n",
    "print(\"logregl1_scaled.coef_: {}\".format(logregl1_scaled.coef_))\n",
    "print(\"Training set score: {:.3f}\".format(logregl1_scaled.score(X_train_scaled2, y_train2)))\n",
    "print(\"Test set score: {:.3f}\".format(logregl1_scaled.score(X_test_scaled2, y_test2)))\n",
    "\n",
    "predicted_vals = logregl1_scaled.predict(X_test_scaled2) \n",
    "print(\"logregl1_scaled.predict: {}\".format(predicted_vals))\n"
   ]
  },
  {
   "cell_type": "code",
   "execution_count": 92,
   "metadata": {},
   "outputs": [
    {
     "name": "stdout",
     "output_type": "stream",
     "text": [
      "Cross validation Accuracy:0.993\n"
     ]
    }
   ],
   "source": [
    "kfold15 = KFold()\n",
    "print(\"Cross validation Accuracy:{:.3f}\".format(np.mean(\n",
    "    cross_val_score(logregl1_scaled, X_train_scaled2, y_train2, cv=kfold15))))\n"
   ]
  },
  {
   "cell_type": "markdown",
   "metadata": {},
   "source": [
    "Here, scaling the data with the StandardScaler influences the result. The cross validation score increases from 0.985 to 0.993.\n"
   ]
  },
  {
   "cell_type": "markdown",
   "metadata": {},
   "source": [
    "### KNN for Classification"
   ]
  },
  {
   "cell_type": "markdown",
   "metadata": {},
   "source": [
    "#### Original train/test set:"
   ]
  },
  {
   "cell_type": "code",
   "execution_count": 93,
   "metadata": {},
   "outputs": [
    {
     "name": "stdout",
     "output_type": "stream",
     "text": [
      "0.9427692307692308\n",
      "accuracy:0.943\n"
     ]
    }
   ],
   "source": [
    "from sklearn.neighbors import KNeighborsClassifier\n",
    "from sklearn.model_selection import StratifiedKFold\n",
    "\n",
    "knn_wine = KNeighborsClassifier()\n",
    "knn_wine.fit(X_train2, y_train2)\n",
    "\n",
    "print(knn_wine.score(X_test2, y_test2))\n",
    "print(\"accuracy:{:.3f}\".format(knn_wine.score(X_test2, y_test2)))\n",
    "\n",
    "y_pred = knn_wine.predict(X_test2)\n"
   ]
  },
  {
   "cell_type": "code",
   "execution_count": 94,
   "metadata": {},
   "outputs": [
    {
     "name": "stdout",
     "output_type": "stream",
     "text": [
      "StratifiedKFold: 0.9408889590901911\n"
     ]
    }
   ],
   "source": [
    "skfold1 = StratifiedKFold()\n",
    "print(\"StratifiedKFold: \"+str(cross_val_score(knn_wine, X_train2, y_train2, cv=skfold1).mean()))\n"
   ]
  },
  {
   "cell_type": "markdown",
   "metadata": {},
   "source": [
    "#### After scaling the data:"
   ]
  },
  {
   "cell_type": "code",
   "execution_count": 95,
   "metadata": {},
   "outputs": [
    {
     "name": "stdout",
     "output_type": "stream",
     "text": [
      "0.9932307692307693\n",
      "accuracy:0.993\n"
     ]
    }
   ],
   "source": [
    "knn_wine_scaled = KNeighborsClassifier()\n",
    "knn_wine_scaled.fit(X_train_scaled2, y_train2)\n",
    "\n",
    "print(knn_wine_scaled.score(X_test_scaled2, y_test2))\n",
    "print(\"accuracy:{:.3f}\".format(knn_wine_scaled.score(X_test_scaled2, y_test2)))\n",
    "\n",
    "y_pred = knn_wine_scaled.predict(X_test_scaled2)\n",
    "\n"
   ]
  },
  {
   "cell_type": "code",
   "execution_count": 96,
   "metadata": {},
   "outputs": [
    {
     "name": "stdout",
     "output_type": "stream",
     "text": [
      "StratifiedKFold: 0.9917898173011108\n"
     ]
    }
   ],
   "source": [
    "skfold2 = StratifiedKFold()\n",
    "print(\"StratifiedKFold: \"+str(cross_val_score(knn_wine_scaled, X_train_scaled2, y_train2, cv=skfold2).mean()))\n"
   ]
  },
  {
   "cell_type": "markdown",
   "metadata": {},
   "source": [
    "Scaling the data with StandardScaler influences the results. The cross validation score has increased from 0.941 to 0.992."
   ]
  },
  {
   "cell_type": "markdown",
   "metadata": {},
   "source": [
    "In conclusion, for logistic regression, penalized logistic regression, and KNN for classifier,  scaling the data with StandardScaler improves the results."
   ]
  },
  {
   "cell_type": "markdown",
   "metadata": {},
   "source": [
    "## 2.3 Tune the parameters where possible using GridSearchCV. Do the results improve?"
   ]
  },
  {
   "cell_type": "markdown",
   "metadata": {},
   "source": [
    "### Penalized Logistic Regression"
   ]
  },
  {
   "cell_type": "code",
   "execution_count": 97,
   "metadata": {},
   "outputs": [
    {
     "data": {
      "text/html": [
       "<style>#sk-container-id-1 {color: black;}#sk-container-id-1 pre{padding: 0;}#sk-container-id-1 div.sk-toggleable {background-color: white;}#sk-container-id-1 label.sk-toggleable__label {cursor: pointer;display: block;width: 100%;margin-bottom: 0;padding: 0.3em;box-sizing: border-box;text-align: center;}#sk-container-id-1 label.sk-toggleable__label-arrow:before {content: \"▸\";float: left;margin-right: 0.25em;color: #696969;}#sk-container-id-1 label.sk-toggleable__label-arrow:hover:before {color: black;}#sk-container-id-1 div.sk-estimator:hover label.sk-toggleable__label-arrow:before {color: black;}#sk-container-id-1 div.sk-toggleable__content {max-height: 0;max-width: 0;overflow: hidden;text-align: left;background-color: #f0f8ff;}#sk-container-id-1 div.sk-toggleable__content pre {margin: 0.2em;color: black;border-radius: 0.25em;background-color: #f0f8ff;}#sk-container-id-1 input.sk-toggleable__control:checked~div.sk-toggleable__content {max-height: 200px;max-width: 100%;overflow: auto;}#sk-container-id-1 input.sk-toggleable__control:checked~label.sk-toggleable__label-arrow:before {content: \"▾\";}#sk-container-id-1 div.sk-estimator input.sk-toggleable__control:checked~label.sk-toggleable__label {background-color: #d4ebff;}#sk-container-id-1 div.sk-label input.sk-toggleable__control:checked~label.sk-toggleable__label {background-color: #d4ebff;}#sk-container-id-1 input.sk-hidden--visually {border: 0;clip: rect(1px 1px 1px 1px);clip: rect(1px, 1px, 1px, 1px);height: 1px;margin: -1px;overflow: hidden;padding: 0;position: absolute;width: 1px;}#sk-container-id-1 div.sk-estimator {font-family: monospace;background-color: #f0f8ff;border: 1px dotted black;border-radius: 0.25em;box-sizing: border-box;margin-bottom: 0.5em;}#sk-container-id-1 div.sk-estimator:hover {background-color: #d4ebff;}#sk-container-id-1 div.sk-parallel-item::after {content: \"\";width: 100%;border-bottom: 1px solid gray;flex-grow: 1;}#sk-container-id-1 div.sk-label:hover label.sk-toggleable__label {background-color: #d4ebff;}#sk-container-id-1 div.sk-serial::before {content: \"\";position: absolute;border-left: 1px solid gray;box-sizing: border-box;top: 0;bottom: 0;left: 50%;z-index: 0;}#sk-container-id-1 div.sk-serial {display: flex;flex-direction: column;align-items: center;background-color: white;padding-right: 0.2em;padding-left: 0.2em;position: relative;}#sk-container-id-1 div.sk-item {position: relative;z-index: 1;}#sk-container-id-1 div.sk-parallel {display: flex;align-items: stretch;justify-content: center;background-color: white;position: relative;}#sk-container-id-1 div.sk-item::before, #sk-container-id-1 div.sk-parallel-item::before {content: \"\";position: absolute;border-left: 1px solid gray;box-sizing: border-box;top: 0;bottom: 0;left: 50%;z-index: -1;}#sk-container-id-1 div.sk-parallel-item {display: flex;flex-direction: column;z-index: 1;position: relative;background-color: white;}#sk-container-id-1 div.sk-parallel-item:first-child::after {align-self: flex-end;width: 50%;}#sk-container-id-1 div.sk-parallel-item:last-child::after {align-self: flex-start;width: 50%;}#sk-container-id-1 div.sk-parallel-item:only-child::after {width: 0;}#sk-container-id-1 div.sk-dashed-wrapped {border: 1px dashed gray;margin: 0 0.4em 0.5em 0.4em;box-sizing: border-box;padding-bottom: 0.4em;background-color: white;}#sk-container-id-1 div.sk-label label {font-family: monospace;font-weight: bold;display: inline-block;line-height: 1.2em;}#sk-container-id-1 div.sk-label-container {text-align: center;}#sk-container-id-1 div.sk-container {/* jupyter's `normalize.less` sets `[hidden] { display: none; }` but bootstrap.min.css set `[hidden] { display: none !important; }` so we also need the `!important` here to be able to override the default hidden behavior on the sphinx rendered scikit-learn.org. See: https://github.com/scikit-learn/scikit-learn/issues/21755 */display: inline-block !important;position: relative;}#sk-container-id-1 div.sk-text-repr-fallback {display: none;}</style><div id=\"sk-container-id-1\" class=\"sk-top-container\"><div class=\"sk-text-repr-fallback\"><pre>LogisticRegression(C=1, penalty=&#x27;l1&#x27;, solver=&#x27;liblinear&#x27;)</pre><b>In a Jupyter environment, please rerun this cell to show the HTML representation or trust the notebook. <br />On GitHub, the HTML representation is unable to render, please try loading this page with nbviewer.org.</b></div><div class=\"sk-container\" hidden><div class=\"sk-item\"><div class=\"sk-estimator sk-toggleable\"><input class=\"sk-toggleable__control sk-hidden--visually\" id=\"sk-estimator-id-1\" type=\"checkbox\" checked><label for=\"sk-estimator-id-1\" class=\"sk-toggleable__label sk-toggleable__label-arrow\">LogisticRegression</label><div class=\"sk-toggleable__content\"><pre>LogisticRegression(C=1, penalty=&#x27;l1&#x27;, solver=&#x27;liblinear&#x27;)</pre></div></div></div></div></div>"
      ],
      "text/plain": [
       "LogisticRegression(C=1, penalty='l1', solver='liblinear')"
      ]
     },
     "execution_count": 97,
     "metadata": {},
     "output_type": "execute_result"
    }
   ],
   "source": [
    "from sklearn.model_selection import GridSearchCV\n",
    "\n",
    "param_grid4 = {'C': [0.001, 0.01, 0.1, 1, 10, 100], 'penalty': ['l1', 'l2'],'solver': ['liblinear']}\n",
    "\n",
    "logreg = LogisticRegression()\n",
    "\n",
    "grid_search = GridSearchCV(LogisticRegression(), param_grid=param_grid4, cv=10)\n",
    "\n",
    "grid_search.fit(X_train_scaled2, y_train2)\n",
    "\n",
    "best_params = grid_search.best_params_\n",
    "best_logreg = LogisticRegression(**best_params)\n",
    "best_logreg.fit(X_test_scaled2, y_test2)\n",
    "\n"
   ]
  },
  {
   "cell_type": "code",
   "execution_count": 99,
   "metadata": {},
   "outputs": [
    {
     "name": "stdout",
     "output_type": "stream",
     "text": [
      "best parameters: {'C': 1, 'penalty': 'l1', 'solver': 'liblinear'}\n",
      "test-set score: 0.995\n",
      "best score: 0.993\n"
     ]
    }
   ],
   "source": [
    "grid={'C': [0.001, 0.01, 0.1, 1, 10, 100], 'penalty': ['l1', 'l2'],'solver': ['liblinear']} \n",
    "logreg=LogisticRegression()\n",
    "logreg_cv=GridSearchCV(logreg,grid)\n",
    "logreg_cv.fit(X_train_scaled2,y_train2)\n",
    "\n",
    "print(\"best parameters: {}\".format(logreg_cv.best_params_))\n",
    "print(\"test-set score: {:.3f}\".format(logreg_cv.score(X_test_scaled2, y_test2)))\n",
    "print(\"best score: {:.3f}\".format(logreg_cv.best_score_))\n"
   ]
  },
  {
   "cell_type": "code",
   "execution_count": 100,
   "metadata": {
    "scrolled": true
   },
   "outputs": [
    {
     "name": "stdout",
     "output_type": "stream",
     "text": [
      "logregl1_scaled.coef_: [[ 0.          1.21505147 -0.30870952 -3.6779694   0.76678295  0.63695818\n",
      "  -2.6392919   4.14728255  0.1292645   0.59545588  1.38735059  0.42685264]]\n",
      "Training set score: 0.995\n",
      "Test set score: 0.995\n",
      "logregl1_scaled.predict: [1 0 0 ... 0 0 0]\n"
     ]
    }
   ],
   "source": [
    "logregl1_scaled = LogisticRegression(C=1, penalty='l1', solver='liblinear').fit(X_train_scaled2, y_train2)\n",
    "\n",
    "print(\"logregl1_scaled.coef_: {}\".format(logregl1_scaled.coef_))\n",
    "print(\"Training set score: {:.3f}\".format(logregl1_scaled.score(X_train_scaled2, y_train2)))\n",
    "print(\"Test set score: {:.3f}\".format(logregl1_scaled.score(X_test_scaled2, y_test2)))\n",
    "\n",
    "predicted_vals = logregl1_scaled.predict(X_test_scaled2) \n",
    "print(\"logregl1_scaled.predict: {}\".format(predicted_vals))\n"
   ]
  },
  {
   "cell_type": "code",
   "execution_count": 105,
   "metadata": {},
   "outputs": [
    {
     "name": "stdout",
     "output_type": "stream",
     "text": [
      "Cross validation Accuracy:0.993\n"
     ]
    }
   ],
   "source": [
    "kfold16 = KFold()\n",
    "print(\"Cross validation Accuracy:{:.3f}\".format(np.mean(\n",
    "    cross_val_score(logregl1_scaled, X_train_scaled2, y_train2, cv=kfold16))))\n"
   ]
  },
  {
   "cell_type": "markdown",
   "metadata": {},
   "source": [
    "For penalized logistic regression, after using GridSearchCV to tune the parameter, the cross validation score remains the same (0.993 for L1 after scaling and here). "
   ]
  },
  {
   "cell_type": "markdown",
   "metadata": {},
   "source": [
    "### Logistic Regression"
   ]
  },
  {
   "cell_type": "code",
   "execution_count": 106,
   "metadata": {
    "scrolled": true
   },
   "outputs": [
    {
     "data": {
      "text/html": [
       "<style>#sk-container-id-3 {color: black;}#sk-container-id-3 pre{padding: 0;}#sk-container-id-3 div.sk-toggleable {background-color: white;}#sk-container-id-3 label.sk-toggleable__label {cursor: pointer;display: block;width: 100%;margin-bottom: 0;padding: 0.3em;box-sizing: border-box;text-align: center;}#sk-container-id-3 label.sk-toggleable__label-arrow:before {content: \"▸\";float: left;margin-right: 0.25em;color: #696969;}#sk-container-id-3 label.sk-toggleable__label-arrow:hover:before {color: black;}#sk-container-id-3 div.sk-estimator:hover label.sk-toggleable__label-arrow:before {color: black;}#sk-container-id-3 div.sk-toggleable__content {max-height: 0;max-width: 0;overflow: hidden;text-align: left;background-color: #f0f8ff;}#sk-container-id-3 div.sk-toggleable__content pre {margin: 0.2em;color: black;border-radius: 0.25em;background-color: #f0f8ff;}#sk-container-id-3 input.sk-toggleable__control:checked~div.sk-toggleable__content {max-height: 200px;max-width: 100%;overflow: auto;}#sk-container-id-3 input.sk-toggleable__control:checked~label.sk-toggleable__label-arrow:before {content: \"▾\";}#sk-container-id-3 div.sk-estimator input.sk-toggleable__control:checked~label.sk-toggleable__label {background-color: #d4ebff;}#sk-container-id-3 div.sk-label input.sk-toggleable__control:checked~label.sk-toggleable__label {background-color: #d4ebff;}#sk-container-id-3 input.sk-hidden--visually {border: 0;clip: rect(1px 1px 1px 1px);clip: rect(1px, 1px, 1px, 1px);height: 1px;margin: -1px;overflow: hidden;padding: 0;position: absolute;width: 1px;}#sk-container-id-3 div.sk-estimator {font-family: monospace;background-color: #f0f8ff;border: 1px dotted black;border-radius: 0.25em;box-sizing: border-box;margin-bottom: 0.5em;}#sk-container-id-3 div.sk-estimator:hover {background-color: #d4ebff;}#sk-container-id-3 div.sk-parallel-item::after {content: \"\";width: 100%;border-bottom: 1px solid gray;flex-grow: 1;}#sk-container-id-3 div.sk-label:hover label.sk-toggleable__label {background-color: #d4ebff;}#sk-container-id-3 div.sk-serial::before {content: \"\";position: absolute;border-left: 1px solid gray;box-sizing: border-box;top: 0;bottom: 0;left: 50%;z-index: 0;}#sk-container-id-3 div.sk-serial {display: flex;flex-direction: column;align-items: center;background-color: white;padding-right: 0.2em;padding-left: 0.2em;position: relative;}#sk-container-id-3 div.sk-item {position: relative;z-index: 1;}#sk-container-id-3 div.sk-parallel {display: flex;align-items: stretch;justify-content: center;background-color: white;position: relative;}#sk-container-id-3 div.sk-item::before, #sk-container-id-3 div.sk-parallel-item::before {content: \"\";position: absolute;border-left: 1px solid gray;box-sizing: border-box;top: 0;bottom: 0;left: 50%;z-index: -1;}#sk-container-id-3 div.sk-parallel-item {display: flex;flex-direction: column;z-index: 1;position: relative;background-color: white;}#sk-container-id-3 div.sk-parallel-item:first-child::after {align-self: flex-end;width: 50%;}#sk-container-id-3 div.sk-parallel-item:last-child::after {align-self: flex-start;width: 50%;}#sk-container-id-3 div.sk-parallel-item:only-child::after {width: 0;}#sk-container-id-3 div.sk-dashed-wrapped {border: 1px dashed gray;margin: 0 0.4em 0.5em 0.4em;box-sizing: border-box;padding-bottom: 0.4em;background-color: white;}#sk-container-id-3 div.sk-label label {font-family: monospace;font-weight: bold;display: inline-block;line-height: 1.2em;}#sk-container-id-3 div.sk-label-container {text-align: center;}#sk-container-id-3 div.sk-container {/* jupyter's `normalize.less` sets `[hidden] { display: none; }` but bootstrap.min.css set `[hidden] { display: none !important; }` so we also need the `!important` here to be able to override the default hidden behavior on the sphinx rendered scikit-learn.org. See: https://github.com/scikit-learn/scikit-learn/issues/21755 */display: inline-block !important;position: relative;}#sk-container-id-3 div.sk-text-repr-fallback {display: none;}</style><div id=\"sk-container-id-3\" class=\"sk-top-container\"><div class=\"sk-text-repr-fallback\"><pre>LogisticRegression(C=0.001, penalty=&#x27;none&#x27;)</pre><b>In a Jupyter environment, please rerun this cell to show the HTML representation or trust the notebook. <br />On GitHub, the HTML representation is unable to render, please try loading this page with nbviewer.org.</b></div><div class=\"sk-container\" hidden><div class=\"sk-item\"><div class=\"sk-estimator sk-toggleable\"><input class=\"sk-toggleable__control sk-hidden--visually\" id=\"sk-estimator-id-3\" type=\"checkbox\" checked><label for=\"sk-estimator-id-3\" class=\"sk-toggleable__label sk-toggleable__label-arrow\">LogisticRegression</label><div class=\"sk-toggleable__content\"><pre>LogisticRegression(C=0.001, penalty=&#x27;none&#x27;)</pre></div></div></div></div></div>"
      ],
      "text/plain": [
       "LogisticRegression(C=0.001, penalty='none')"
      ]
     },
     "execution_count": 106,
     "metadata": {},
     "output_type": "execute_result"
    }
   ],
   "source": [
    "param_grid5 = {'C': [0.001, 0.01, 0.1, 1, 10, 100], \"penalty\":[\"none\"]}\n",
    "\n",
    "logreg = LogisticRegression()\n",
    "\n",
    "grid_search = GridSearchCV(estimator=logreg, param_grid=param_grid5)\n",
    "\n",
    "grid_search.fit(X_train_scaled2, y_train2)\n",
    "\n",
    "best_params = grid_search.best_params_\n",
    "best_logreg = LogisticRegression(**best_params)\n",
    "best_logreg.fit(X_test_scaled2, y_test2)\n"
   ]
  },
  {
   "cell_type": "code",
   "execution_count": 107,
   "metadata": {},
   "outputs": [
    {
     "name": "stdout",
     "output_type": "stream",
     "text": [
      "best parameters: {'C': 0.001, 'penalty': 'none'}\n",
      "test-set score: 0.994\n",
      "best score: 0.993\n"
     ]
    }
   ],
   "source": [
    "grid={'C': [0.001, 0.01, 0.1, 1, 10, 100], \"penalty\":[\"none\"]}\n",
    "logreg=LogisticRegression()\n",
    "logreg_cv=GridSearchCV(logreg,grid)\n",
    "logreg_cv.fit(X_train_scaled2,y_train2)\n",
    "\n",
    "print(\"best parameters: {}\".format(logreg_cv.best_params_))\n",
    "print(\"test-set score: {:.3f}\".format(logreg_cv.score(X_test_scaled2, y_test2)))\n",
    "print(\"best score: {:.3f}\".format(logreg_cv.best_score_))\n"
   ]
  },
  {
   "cell_type": "code",
   "execution_count": 108,
   "metadata": {},
   "outputs": [
    {
     "name": "stdout",
     "output_type": "stream",
     "text": [
      "logreg_scaled.coef_: [[-0.21197303  1.22391767 -0.33211702 -4.2572119   0.7766404   0.80560988\n",
      "  -2.77676398  4.74441375 -0.01493642  0.57542025  1.66202023  0.47207434]]\n",
      "Training set score: 0.995\n",
      "Test set score: 0.994\n",
      "logreg_scaled.predict: [1 0 0 ... 0 0 0]\n"
     ]
    }
   ],
   "source": [
    "logreg_scaled = LogisticRegression(C=0.001,penalty=None).fit(X_train_scaled2, y_train2)\n",
    "\n",
    "print(\"logreg_scaled.coef_: {}\".format(logreg_scaled.coef_))\n",
    "print(\"Training set score: {:.3f}\".format(logreg_scaled.score(X_train_scaled2, y_train2)))\n",
    "print(\"Test set score: {:.3f}\".format(logreg_scaled.score(X_test_scaled2, y_test2)))\n",
    "\n",
    "predicted_vals = logreg_scaled.predict(X_test_scaled2) \n",
    "print(\"logreg_scaled.predict: {}\".format(predicted_vals))\n"
   ]
  },
  {
   "cell_type": "code",
   "execution_count": 109,
   "metadata": {},
   "outputs": [
    {
     "name": "stdout",
     "output_type": "stream",
     "text": [
      "Cross validation Accuracy:0.993\n"
     ]
    }
   ],
   "source": [
    "kfold17 = KFold()\n",
    "print(\"Cross validation Accuracy:{:.3f}\".format(np.mean(\n",
    "    cross_val_score(logreg_scaled, X_train_scaled2, y_train2, cv=kfold17))))\n"
   ]
  },
  {
   "cell_type": "markdown",
   "metadata": {},
   "source": [
    "For logistic regression, after using GridSearchCV to tune the parameter, the cross validation score remains the same (0.993 after scaling and here)."
   ]
  },
  {
   "cell_type": "markdown",
   "metadata": {},
   "source": [
    "### KNN for classification"
   ]
  },
  {
   "cell_type": "code",
   "execution_count": 110,
   "metadata": {},
   "outputs": [
    {
     "name": "stdout",
     "output_type": "stream",
     "text": [
      "best score: 0.994\n",
      "best parameters: {'n_neighbors': 3}\n",
      "test-set score: 0.994\n"
     ]
    }
   ],
   "source": [
    "np.arange(1, 15, 2)\n",
    "\n",
    "param_grid6 = {'n_neighbors': [1,3,5,7,9,10,11,13] }\n",
    "\n",
    "grid = GridSearchCV(KNeighborsClassifier(), param_grid=param_grid6, cv=10)\n",
    "grid.fit(X_train_scaled2, y_train2)\n",
    "\n",
    "print(\"best score: {:.3f}\".format(grid.best_score_))\n",
    "print(\"best parameters: {}\".format(grid.best_params_))\n",
    "print(\"test-set score: {:.3f}\".format(grid.score(X_test_scaled2, y_test2)))\n"
   ]
  },
  {
   "cell_type": "code",
   "execution_count": 111,
   "metadata": {},
   "outputs": [
    {
     "name": "stdout",
     "output_type": "stream",
     "text": [
      "0.9944615384615385\n"
     ]
    }
   ],
   "source": [
    "knn4 = KNeighborsClassifier(n_neighbors=3)\n",
    "knn4.fit(X_train_scaled2, y_train2)\n",
    "\n",
    "print(knn4.score(X_test_scaled2, y_test2))\n"
   ]
  },
  {
   "cell_type": "code",
   "execution_count": 112,
   "metadata": {},
   "outputs": [
    {
     "name": "stdout",
     "output_type": "stream",
     "text": [
      "StratifiedKFold: 0.9930207971357868\n"
     ]
    }
   ],
   "source": [
    "skfold2 = StratifiedKFold()\n",
    "print(\"StratifiedKFold: \"+str(cross_val_score(\n",
    "    KNeighborsClassifier(n_neighbors=3), X_train_scaled2, y_train2, cv=skfold2).mean()))\n"
   ]
  },
  {
   "cell_type": "markdown",
   "metadata": {},
   "source": [
    "For KNN for classfier, after using GridSearchCV to tune the parameter, the cross validation score increases from 0.992 to 0.993. But the influence is very little."
   ]
  },
  {
   "cell_type": "markdown",
   "metadata": {},
   "source": [
    "In conclusion, using GridSearchCV did not lead to significant improvements in the performance of logistic regression, penalized logistic regression, and KNN for classification. After using GridSearchCV to tune the parameter, the results remain the same or do not improve a lot."
   ]
  },
  {
   "cell_type": "markdown",
   "metadata": {},
   "source": [
    "## 2.4 Change the cross-validation strategy in GridSearchCV from ‘stratified k-fold’ to ‘kfold’ with shuffling. Do the parameters for models that can be tuned change? Or if you change the random state of the split into training and test data?"
   ]
  },
  {
   "cell_type": "code",
   "execution_count": 116,
   "metadata": {},
   "outputs": [
    {
     "name": "stdout",
     "output_type": "stream",
     "text": [
      "KFold:\n",
      "[0.99384615 0.98871795 0.99383984 0.98973306 0.99589322]\n",
      "StratifiedKFold:\n",
      "[0.99179487 0.99282051 0.98767967 0.99281314 0.99691992]\n"
     ]
    }
   ],
   "source": [
    "kfold = KFold(n_splits=5, shuffle=True, random_state=42)\n",
    "skfold = StratifiedKFold(n_splits=5, shuffle=True, random_state=42)\n",
    "\n",
    "print(\"KFold:\\n{}\".format(\n",
    "cross_val_score(KNeighborsClassifier(), X_train_scaled2, y_train2, cv=kfold)))\n",
    "\n",
    "print(\"StratifiedKFold:\\n{}\".format(\n",
    "cross_val_score(KNeighborsClassifier(), X_train_scaled2, y_train2, cv=skfold)))\n"
   ]
  },
  {
   "cell_type": "markdown",
   "metadata": {},
   "source": [
    "## When changing from 'stratified k-fold' to 'kfold'"
   ]
  },
  {
   "cell_type": "markdown",
   "metadata": {},
   "source": [
    "### Penalized Logistic Regression"
   ]
  },
  {
   "cell_type": "markdown",
   "metadata": {},
   "source": [
    "#### stratified k-fold:"
   ]
  },
  {
   "cell_type": "code",
   "execution_count": 117,
   "metadata": {},
   "outputs": [
    {
     "name": "stdout",
     "output_type": "stream",
     "text": [
      "best parameters: {'C': 1, 'penalty': 'l1', 'solver': 'liblinear'}\n",
      "test-set score: 0.995\n",
      "best score: 0.993\n"
     ]
    }
   ],
   "source": [
    "grid={'C': [0.001, 0.01, 0.1, 1, 10, 100], 'penalty': ['l1', 'l2'],'solver': ['liblinear']} # l1 lasso l2 ridge\n",
    "logreg=LogisticRegression()\n",
    "logreg_cv=GridSearchCV(logreg,grid,cv=skfold)\n",
    "logreg_cv.fit(X_train_scaled2,y_train2)\n",
    "\n",
    "print(\"best parameters: {}\".format(logreg_cv.best_params_))\n",
    "print(\"test-set score: {:.3f}\".format(logreg_cv.score(X_test_scaled2, y_test2)))\n",
    "print(\"best score: {:.3f}\".format(logreg_cv.best_score_))\n"
   ]
  },
  {
   "cell_type": "markdown",
   "metadata": {},
   "source": [
    "#### kfold:"
   ]
  },
  {
   "cell_type": "code",
   "execution_count": 119,
   "metadata": {},
   "outputs": [
    {
     "name": "stdout",
     "output_type": "stream",
     "text": [
      "best parameters: {'C': 1, 'penalty': 'l1', 'solver': 'liblinear'}\n",
      "test-set score: 0.995\n",
      "best score: 0.993\n"
     ]
    }
   ],
   "source": [
    "grid={'C': [0.001, 0.01, 0.1, 1, 10, 100], 'penalty': ['l1', 'l2'],'solver': ['liblinear']} # l1 lasso l2 ridge\n",
    "logreg=LogisticRegression()\n",
    "logreg_cv=GridSearchCV(logreg,grid,cv=kfold)\n",
    "logreg_cv.fit(X_train_scaled2,y_train2)\n",
    "\n",
    "print(\"best parameters: {}\".format(logreg_cv.best_params_))\n",
    "print(\"test-set score: {:.3f}\".format(logreg_cv.score(X_test_scaled2, y_test2)))\n",
    "print(\"best score: {:.3f}\".format(logreg_cv.best_score_))\n"
   ]
  },
  {
   "cell_type": "markdown",
   "metadata": {},
   "source": [
    "In penalized logistic regression, when changing from ‘stratified k-fold’ to ‘kfold’, the best parameter does not change. "
   ]
  },
  {
   "cell_type": "markdown",
   "metadata": {},
   "source": [
    "### Logistic Regression"
   ]
  },
  {
   "cell_type": "markdown",
   "metadata": {},
   "source": [
    "#### stratified k-fold:"
   ]
  },
  {
   "cell_type": "code",
   "execution_count": 121,
   "metadata": {},
   "outputs": [
    {
     "name": "stdout",
     "output_type": "stream",
     "text": [
      "best parameters: {'C': 0.001, 'penalty': 'none'}\n",
      "test-set score: 0.99446\n",
      "best score: 0.99323\n"
     ]
    }
   ],
   "source": [
    "grid={'C': [0.001, 0.01, 0.1, 1, 10, 100], \"penalty\":[\"none\"]}\n",
    "logreg=LogisticRegression()\n",
    "logreg_cv=GridSearchCV(logreg,grid,cv=skfold)\n",
    "logreg_cv.fit(X_train_scaled2,y_train2)\n",
    "\n",
    "print(\"best parameters: {}\".format(logreg_cv.best_params_))\n",
    "print(\"test-set score: {:.5f}\".format(logreg_cv.score(X_test_scaled2, y_test2)))\n",
    "print(\"best score: {:.5f}\".format(logreg_cv.best_score_))\n"
   ]
  },
  {
   "cell_type": "markdown",
   "metadata": {},
   "source": [
    "#### kfold:"
   ]
  },
  {
   "cell_type": "code",
   "execution_count": 122,
   "metadata": {},
   "outputs": [
    {
     "name": "stdout",
     "output_type": "stream",
     "text": [
      "best parameters: {'C': 0.001, 'penalty': 'none'}\n",
      "test-set score: 0.99446\n",
      "best score: 0.99323\n"
     ]
    }
   ],
   "source": [
    "grid={'C': [0.001, 0.01, 0.1, 1, 10, 100], \"penalty\":[\"none\"]}\n",
    "logreg=LogisticRegression()\n",
    "logreg_cv=GridSearchCV(logreg,grid,cv=kfold)\n",
    "logreg_cv.fit(X_train_scaled2,y_train2)\n",
    "\n",
    "print(\"best parameters: {}\".format(logreg_cv.best_params_))\n",
    "print(\"test-set score: {:.5f}\".format(logreg_cv.score(X_test_scaled2, y_test2)))\n",
    "print(\"best score: {:.5f}\".format(logreg_cv.best_score_))"
   ]
  },
  {
   "cell_type": "markdown",
   "metadata": {},
   "source": [
    "In logistic regression, when changing from ‘stratified k-fold’ to ‘kfold’, the best parameter does not change. "
   ]
  },
  {
   "cell_type": "markdown",
   "metadata": {},
   "source": [
    "### KNN for Classification"
   ]
  },
  {
   "cell_type": "markdown",
   "metadata": {},
   "source": [
    "#### stratified k-fold:"
   ]
  },
  {
   "cell_type": "code",
   "execution_count": 128,
   "metadata": {},
   "outputs": [
    {
     "name": "stdout",
     "output_type": "stream",
     "text": [
      "best score: 0.993\n",
      "best parameters: {'n_neighbors': 7}\n",
      "test-set score: 0.994\n"
     ]
    }
   ],
   "source": [
    "param_grid = {'n_neighbors': [1,3,5,7,9,10,11,13] }\n",
    "\n",
    "grid = GridSearchCV(KNeighborsClassifier(), param_grid=param_grid, cv=skfold)\n",
    "grid.fit(X_train_scaled2, y_train2)\n",
    "\n",
    "print(\"best score: {:.3f}\".format(grid.best_score_))\n",
    "print(\"best parameters: {}\".format(grid.best_params_))\n",
    "print(\"test-set score: {:.3f}\".format(grid.score(X_test_scaled2, y_test2)))\n"
   ]
  },
  {
   "cell_type": "markdown",
   "metadata": {},
   "source": [
    "#### kfold:"
   ]
  },
  {
   "cell_type": "code",
   "execution_count": 129,
   "metadata": {},
   "outputs": [
    {
     "name": "stdout",
     "output_type": "stream",
     "text": [
      "best score: 0.994\n",
      "best parameters: {'n_neighbors': 3}\n",
      "test-set score: 0.994\n"
     ]
    }
   ],
   "source": [
    "param_grid = {'n_neighbors': [1,3,5,7,9,10,11,13] }\n",
    "\n",
    "grid = GridSearchCV(KNeighborsClassifier(), param_grid=param_grid, cv=kfold)\n",
    "grid.fit(X_train_scaled2, y_train2)\n",
    "\n",
    "print(\"best score: {:.3f}\".format(grid.best_score_))\n",
    "print(\"best parameters: {}\".format(grid.best_params_))\n",
    "print(\"test-set score: {:.3f}\".format(grid.score(X_test_scaled2, y_test2)))\n"
   ]
  },
  {
   "cell_type": "markdown",
   "metadata": {},
   "source": [
    "In knn, when changing from ‘stratified k-fold’ to ‘kfold’, the best parameter changes from 7 to 3. "
   ]
  },
  {
   "cell_type": "markdown",
   "metadata": {},
   "source": [
    "## When changing the random state"
   ]
  },
  {
   "cell_type": "code",
   "execution_count": 130,
   "metadata": {},
   "outputs": [
    {
     "name": "stdout",
     "output_type": "stream",
     "text": [
      "KFold:\n",
      "[0.99179487 0.99692308 0.98973306 0.99281314 0.99281314]\n",
      "StratifiedKFold:\n",
      "[0.99487179 0.99589744 0.98870637 0.99486653 0.99281314]\n"
     ]
    }
   ],
   "source": [
    "kfold = KFold(n_splits=5, shuffle=True, random_state=5)\n",
    "skfold = StratifiedKFold(n_splits=5, shuffle=True, random_state=5)\n",
    "\n",
    "print(\"KFold:\\n{}\".format(\n",
    "cross_val_score(KNeighborsClassifier(), X_train_scaled2, y_train2, cv=kfold)))\n",
    "\n",
    "print(\"StratifiedKFold:\\n{}\".format(\n",
    "cross_val_score(KNeighborsClassifier(), X_train_scaled2, y_train2, cv=skfold)))\n"
   ]
  },
  {
   "cell_type": "markdown",
   "metadata": {},
   "source": [
    "### Penalized Logistic Regression"
   ]
  },
  {
   "cell_type": "code",
   "execution_count": 133,
   "metadata": {},
   "outputs": [
    {
     "name": "stdout",
     "output_type": "stream",
     "text": [
      "best parameters: {'C': 10, 'penalty': 'l1', 'solver': 'liblinear'}\n",
      "test-set score: 0.995\n",
      "best score: 0.993\n"
     ]
    }
   ],
   "source": [
    "# skfold for different random state\n",
    "grid={'C': [0.001, 0.01, 0.1, 1, 10, 100], 'penalty': ['l1', 'l2'],'solver': ['liblinear']} \n",
    "logreg=LogisticRegression()\n",
    "logreg_cv=GridSearchCV(logreg,grid,cv=skfold)\n",
    "logreg_cv.fit(X_train_scaled2,y_train2)\n",
    "\n",
    "print(\"best parameters: {}\".format(logreg_cv.best_params_))\n",
    "print(\"test-set score: {:.3f}\".format(logreg_cv.score(X_test_scaled2, y_test2)))\n",
    "print(\"best score: {:.3f}\".format(logreg_cv.best_score_))\n"
   ]
  },
  {
   "cell_type": "code",
   "execution_count": 134,
   "metadata": {},
   "outputs": [
    {
     "name": "stdout",
     "output_type": "stream",
     "text": [
      "best parameters: {'C': 1, 'penalty': 'l1', 'solver': 'liblinear'}\n",
      "test-set score: 0.995\n",
      "best score: 0.993\n"
     ]
    }
   ],
   "source": [
    "# kfold for different random state\n",
    "grid={'C': [0.001, 0.01, 0.1, 1, 10, 100], 'penalty': ['l1', 'l2'],'solver': ['liblinear']} \n",
    "logreg=LogisticRegression()\n",
    "logreg_cv=GridSearchCV(logreg,grid,cv=kfold)\n",
    "logreg_cv.fit(X_train_scaled2,y_train2)\n",
    "\n",
    "print(\"best parameters: {}\".format(logreg_cv.best_params_))\n",
    "print(\"test-set score: {:.3f}\".format(logreg_cv.score(X_test_scaled2, y_test2)))\n",
    "print(\"best score: {:.3f}\".format(logreg_cv.best_score_))\n"
   ]
  },
  {
   "cell_type": "markdown",
   "metadata": {},
   "source": [
    "In penalized logistic regression, compared with the last section of analysis, when changing the random state (from 42 to 5) in stratified kfold, the parameter for C changes from 1 to 10, and the penalty remains the same. When changing the random state in kfold, the parameter is still 1, and the penalty remains the same."
   ]
  },
  {
   "cell_type": "markdown",
   "metadata": {},
   "source": [
    "### Logistic Regression"
   ]
  },
  {
   "cell_type": "code",
   "execution_count": 135,
   "metadata": {},
   "outputs": [
    {
     "name": "stdout",
     "output_type": "stream",
     "text": [
      "best parameters: {'C': 0.001, 'penalty': 'none'}\n",
      "test-set score: 0.994\n",
      "best score: 0.993\n"
     ]
    }
   ],
   "source": [
    "# skfold for different random state\n",
    "grid = {'C': [0.001, 0.01, 0.1, 1, 10, 100], \"penalty\":[\"none\"]}\n",
    "logreg=LogisticRegression()\n",
    "logreg_cv=GridSearchCV(logreg,grid,cv=skfold)\n",
    "logreg_cv.fit(X_train_scaled2,y_train2)\n",
    "\n",
    "print(\"best parameters: {}\".format(logreg_cv.best_params_))\n",
    "print(\"test-set score: {:.3f}\".format(logreg_cv.score(X_test_scaled2, y_test2)))\n",
    "print(\"best score: {:.3f}\".format(logreg_cv.best_score_))\n"
   ]
  },
  {
   "cell_type": "code",
   "execution_count": 136,
   "metadata": {},
   "outputs": [
    {
     "name": "stdout",
     "output_type": "stream",
     "text": [
      "best parameters: {'C': 0.001, 'penalty': 'none'}\n",
      "test-set score: 0.994\n",
      "best score: 0.992\n"
     ]
    }
   ],
   "source": [
    "# kfold for different random state\n",
    "grid = {'C': [0.001, 0.01, 0.1, 1, 10, 100], \"penalty\":[\"none\"]}\n",
    "logreg=LogisticRegression()\n",
    "logreg_cv=GridSearchCV(logreg,grid,cv=kfold)\n",
    "logreg_cv.fit(X_train_scaled2,y_train2)\n",
    "\n",
    "print(\"best parameters: {}\".format(logreg_cv.best_params_))\n",
    "print(\"test-set score: {:.3f}\".format(logreg_cv.score(X_test_scaled2, y_test2)))\n",
    "print(\"best score: {:.3f}\".format(logreg_cv.best_score_))\n"
   ]
  },
  {
   "cell_type": "markdown",
   "metadata": {},
   "source": [
    "In logistic regression, when changing the random state in both stratified kfold and kfold, the parameter remains the same. "
   ]
  },
  {
   "cell_type": "markdown",
   "metadata": {},
   "source": [
    "### KNN for Classification"
   ]
  },
  {
   "cell_type": "code",
   "execution_count": 137,
   "metadata": {},
   "outputs": [
    {
     "name": "stdout",
     "output_type": "stream",
     "text": [
      "best parameters: {'n_neighbors': 1}\n",
      "test-set score: 0.994\n",
      "best score: 0.994\n"
     ]
    }
   ],
   "source": [
    "# skfold for different random state\n",
    "param_grid = {'n_neighbors': np.arange(1, 15, 2)}\n",
    "\n",
    "grid = GridSearchCV(KNeighborsClassifier(), param_grid=param_grid, cv=skfold)\n",
    "grid.fit(X_train_scaled2, y_train2)\n",
    "\n",
    "print(\"best parameters: {}\".format(grid.best_params_))\n",
    "print(\"test-set score: {:.3f}\".format(grid.score(X_test_scaled2, y_test2)))\n",
    "print(\"best score: {:.3f}\".format(grid.best_score_))\n"
   ]
  },
  {
   "cell_type": "code",
   "execution_count": 138,
   "metadata": {},
   "outputs": [
    {
     "name": "stdout",
     "output_type": "stream",
     "text": [
      "best parameters: {'n_neighbors': 1}\n",
      "test-set score: 0.994\n",
      "best score: 0.993\n"
     ]
    }
   ],
   "source": [
    "# kfold for different random state\n",
    "param_grid = {'n_neighbors': np.arange(1, 15, 2)}\n",
    "\n",
    "grid = GridSearchCV(KNeighborsClassifier(), param_grid=param_grid, cv=kfold)\n",
    "grid.fit(X_train_scaled2, y_train2)\n",
    "\n",
    "print(\"best parameters: {}\".format(grid.best_params_))\n",
    "print(\"test-set score: {:.3f}\".format(grid.score(X_test_scaled2, y_test2)))\n",
    "print(\"best score: {:.3f}\".format(grid.best_score_))\n"
   ]
  },
  {
   "cell_type": "markdown",
   "metadata": {},
   "source": [
    "In KNN, when changing the random state (from 42 to 5) in stratified kfold, the parameter changes from 7 to 1. When changing the random state (from 42 to 5) in kfold, the parameter changes from 3 to 1. \n",
    "\n",
    "For random_state=5 in both stratified kfold and kfold, the best parameter are the same. Both are 1. \n"
   ]
  },
  {
   "cell_type": "markdown",
   "metadata": {},
   "source": [
    "## 2.5 Lastly, discuss which final model you would choose to predict new data"
   ]
  },
  {
   "cell_type": "markdown",
   "metadata": {},
   "source": [
    "Based on the previous analysis, the model with relatively better cross validation score are: \n"
   ]
  },
  {
   "cell_type": "code",
   "execution_count": 167,
   "metadata": {},
   "outputs": [
    {
     "name": "stdout",
     "output_type": "stream",
     "text": [
      "Cross validation Accuracy:0.993\n"
     ]
    }
   ],
   "source": [
    "# Penalized logistic regression model with scaled data and tuned paramter, and random_state=42 \n",
    "\n",
    "kfold_p_logreg = KFold(n_splits=5, shuffle=True, random_state=42)\n",
    "\n",
    "print(\"Cross validation Accuracy:{:.3f}\".format(np.mean(\n",
    "    cross_val_score(LogisticRegression(C=1,penalty='l1', solver='liblinear'), X_train_scaled2, y_train2, cv=kfold_p_logreg))))\n",
    "\n"
   ]
  },
  {
   "cell_type": "code",
   "execution_count": 168,
   "metadata": {},
   "outputs": [
    {
     "name": "stdout",
     "output_type": "stream",
     "text": [
      "Cross validation Accuracy:0.993\n",
      "Cross validation Accuracy:0.992\n"
     ]
    }
   ],
   "source": [
    "# Logistic regression model with with scaled data, tuned paramter, and random_state=42 \n",
    "\n",
    "kfold_logreg1 = KFold(n_splits=5, shuffle=True, random_state=42)\n",
    "print(\"Cross validation Accuracy:{:.3f}\".format(np.mean(\n",
    "    cross_val_score(LogisticRegression(C=0.001,penalty=None), X_train_scaled2, y_train2, cv=kfold_logreg1))))\n",
    "\n",
    "kfold_logreg2 = KFold(n_splits=5, shuffle=True, random_state=5)\n",
    "print(\"Cross validation Accuracy:{:.3f}\".format(np.mean(\n",
    "    cross_val_score(LogisticRegression(C=0.001,penalty=None), X_train_scaled2, y_train2, cv=kfold_logreg2))))"
   ]
  },
  {
   "cell_type": "code",
   "execution_count": 169,
   "metadata": {},
   "outputs": [
    {
     "name": "stdout",
     "output_type": "stream",
     "text": [
      "logistic.coef_: [[-0.21197303  1.22391767 -0.33211702 -4.2572119   0.7766404   0.80560988\n",
      "  -2.77676398  4.74441375 -0.01493642  0.57542025  1.66202023  0.47207434]]\n",
      "penalized.coef_: [[ 0.          1.21539468 -0.30859097 -3.67832061  0.76661856  0.63684243\n",
      "  -2.6387897   4.14821968  0.12938699  0.59529607  1.3869101   0.42762883]]\n"
     ]
    }
   ],
   "source": [
    "logreg_best=LogisticRegression(C=0.001,penalty=None).fit(X_train_scaled2, y_train2)\n",
    "logreg_best.fit(X_train_scaled2, y_train2)\n",
    "print(\"logistic.coef_: {}\".format(logreg_best.coef_))\n",
    "\n",
    "p_logreg_best=LogisticRegression(C=1, penalty='l1', solver='liblinear').fit(X_train_scaled2, y_train2)\n",
    "p_logreg_best.fit(X_train_scaled2, y_train2)\n",
    "print(\"penalized.coef_: {}\".format(p_logreg_best.coef_))\n"
   ]
  },
  {
   "cell_type": "code",
   "execution_count": 170,
   "metadata": {},
   "outputs": [
    {
     "data": {
      "text/html": [
       "<div>\n",
       "<style scoped>\n",
       "    .dataframe tbody tr th:only-of-type {\n",
       "        vertical-align: middle;\n",
       "    }\n",
       "\n",
       "    .dataframe tbody tr th {\n",
       "        vertical-align: top;\n",
       "    }\n",
       "\n",
       "    .dataframe thead th {\n",
       "        text-align: right;\n",
       "    }\n",
       "</style>\n",
       "<table border=\"1\" class=\"dataframe\">\n",
       "  <thead>\n",
       "    <tr style=\"text-align: right;\">\n",
       "      <th></th>\n",
       "      <th>Logistic Regression</th>\n",
       "      <th>Penalized Logistic Regression</th>\n",
       "    </tr>\n",
       "  </thead>\n",
       "  <tbody>\n",
       "    <tr>\n",
       "      <th>7</th>\n",
       "      <td>4.744414</td>\n",
       "      <td>4.148220</td>\n",
       "    </tr>\n",
       "    <tr>\n",
       "      <th>10</th>\n",
       "      <td>1.662020</td>\n",
       "      <td>1.386910</td>\n",
       "    </tr>\n",
       "    <tr>\n",
       "      <th>1</th>\n",
       "      <td>1.223918</td>\n",
       "      <td>1.215395</td>\n",
       "    </tr>\n",
       "    <tr>\n",
       "      <th>4</th>\n",
       "      <td>0.776640</td>\n",
       "      <td>0.766619</td>\n",
       "    </tr>\n",
       "    <tr>\n",
       "      <th>5</th>\n",
       "      <td>0.805610</td>\n",
       "      <td>0.636842</td>\n",
       "    </tr>\n",
       "    <tr>\n",
       "      <th>9</th>\n",
       "      <td>0.575420</td>\n",
       "      <td>0.595296</td>\n",
       "    </tr>\n",
       "    <tr>\n",
       "      <th>11</th>\n",
       "      <td>0.472074</td>\n",
       "      <td>0.427629</td>\n",
       "    </tr>\n",
       "    <tr>\n",
       "      <th>8</th>\n",
       "      <td>-0.014936</td>\n",
       "      <td>0.129387</td>\n",
       "    </tr>\n",
       "    <tr>\n",
       "      <th>0</th>\n",
       "      <td>-0.211973</td>\n",
       "      <td>0.000000</td>\n",
       "    </tr>\n",
       "    <tr>\n",
       "      <th>2</th>\n",
       "      <td>-0.332117</td>\n",
       "      <td>-0.308591</td>\n",
       "    </tr>\n",
       "    <tr>\n",
       "      <th>6</th>\n",
       "      <td>-2.776764</td>\n",
       "      <td>-2.638790</td>\n",
       "    </tr>\n",
       "    <tr>\n",
       "      <th>3</th>\n",
       "      <td>-4.257212</td>\n",
       "      <td>-3.678321</td>\n",
       "    </tr>\n",
       "  </tbody>\n",
       "</table>\n",
       "</div>"
      ],
      "text/plain": [
       "    Logistic Regression  Penalized Logistic Regression\n",
       "7              4.744414                       4.148220\n",
       "10             1.662020                       1.386910\n",
       "1              1.223918                       1.215395\n",
       "4              0.776640                       0.766619\n",
       "5              0.805610                       0.636842\n",
       "9              0.575420                       0.595296\n",
       "11             0.472074                       0.427629\n",
       "8             -0.014936                       0.129387\n",
       "0             -0.211973                       0.000000\n",
       "2             -0.332117                      -0.308591\n",
       "6             -2.776764                      -2.638790\n",
       "3             -4.257212                      -3.678321"
      ]
     },
     "execution_count": 170,
     "metadata": {},
     "output_type": "execute_result"
    }
   ],
   "source": [
    "coefficients = pd.DataFrame({'Logistic Regression': logreg_best.coef_.ravel(),\n",
    "                             'Penalized Logistic Regression': p_logreg_best.coef_.ravel()})\n",
    "coefficients.sort_values('Penalized Logistic Regression', ascending = False)\n"
   ]
  },
  {
   "cell_type": "markdown",
   "metadata": {},
   "source": [
    "In this case, both the Logistic Regression and Penalized Logistic Regression models seem to have similar performance in terms of the absolute values of coefficients for the features.\n",
    "\n",
    "For both models:\n",
    "1. Features 7, 10, 1, 4, and 5 have positive coefficients, suggesting a positive impact on the target variable.\n",
    "2. Features 6 and 3 have negative coefficients, suggesting a negative impact on the target variable.\n",
    "3. Features 8 and 0 have very small coefficients, indicating a weaker impact. In the Penalized Logistic Regression, the coefficient for feature 0 is zero, suggesting a potentially less important role.\n",
    "\n",
    "\n",
    "I will choose Penalized Logistic Regression with L1 regularization, because I want a more potentially simpler model. It can help push the coefficients of less important features to exactly zero.\n",
    "\n"
   ]
  },
  {
   "cell_type": "code",
   "execution_count": null,
   "metadata": {},
   "outputs": [],
   "source": []
  }
 ],
 "metadata": {
  "colab": {
   "provenance": []
  },
  "kernelspec": {
   "display_name": "Python 3 (ipykernel)",
   "language": "python",
   "name": "python3"
  },
  "language_info": {
   "codemirror_mode": {
    "name": "ipython",
    "version": 3
   },
   "file_extension": ".py",
   "mimetype": "text/x-python",
   "name": "python",
   "nbconvert_exporter": "python",
   "pygments_lexer": "ipython3",
   "version": "3.11.4"
  }
 },
 "nbformat": 4,
 "nbformat_minor": 1
}
