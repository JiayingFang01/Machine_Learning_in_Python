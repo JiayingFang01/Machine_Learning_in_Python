{
 "cells": [
  {
   "cell_type": "markdown",
   "id": "d7a18876",
   "metadata": {
    "id": "d7a18876"
   },
   "source": [
    "# HW4: Models fit to text data and Neural Networks\n",
    "\n",
    "### Student Name: Fiona Fang"
   ]
  },
  {
   "cell_type": "markdown",
   "id": "c18c8944",
   "metadata": {
    "id": "c18c8944"
   },
   "source": [
    "## Part 1: Build a classification model using text data\n",
    "\n"
   ]
  },
  {
   "cell_type": "markdown",
   "id": "ac05d93a",
   "metadata": {
    "id": "ac05d93a"
   },
   "source": [
    "### 1. Import the text data"
   ]
  },
  {
   "cell_type": "code",
   "execution_count": 1,
   "id": "n2kc940KfZC5",
   "metadata": {
    "id": "n2kc940KfZC5"
   },
   "outputs": [],
   "source": [
    "! pip install -q aimodelshare"
   ]
  },
  {
   "cell_type": "code",
   "execution_count": 2,
   "id": "fcb5e09e",
   "metadata": {
    "id": "fcb5e09e"
   },
   "outputs": [],
   "source": [
    "# Import python libraries\n",
    "import pandas as pd\n",
    "import numpy as np\n",
    "import matplotlib.pyplot as plt\n",
    "from sklearn.model_selection import cross_val_score, train_test_split, GridSearchCV\n",
    "from sklearn.feature_extraction.text import CountVectorizer, TfidfVectorizer\n",
    "from sklearn.linear_model import LogisticRegression\n",
    "from sklearn.metrics import make_scorer, f1_score, accuracy_score, classification_report\n",
    "from sklearn.preprocessing import LabelEncoder, StandardScaler\n",
    "import tensorflow.keras as keras\n",
    "from scikeras.wrappers import KerasClassifier\n",
    "from tensorflow.keras.models import Sequential\n",
    "from tensorflow.keras.layers import Dense, Dropout, Activation\n",
    "from tensorflow.keras.optimizers import SGD"
   ]
  },
  {
   "cell_type": "code",
   "execution_count": 3,
   "id": "64a19ad7",
   "metadata": {
    "id": "64a19ad7"
   },
   "outputs": [],
   "source": [
    "import warnings\n",
    "warnings.filterwarnings('ignore')\n"
   ]
  },
  {
   "cell_type": "code",
   "execution_count": 4,
   "id": "3eb9b770",
   "metadata": {
    "colab": {
     "base_uri": "https://localhost:8080/",
     "height": 206
    },
    "id": "3eb9b770",
    "outputId": "b4efe666-0d71-4f95-d6ee-c43a90e3a0d0"
   },
   "outputs": [
    {
     "data": {
      "text/html": [
       "\n",
       "  <div id=\"df-84b8f965-2df8-4287-a2bd-a7d1e08c1cd5\" class=\"colab-df-container\">\n",
       "    <div>\n",
       "<style scoped>\n",
       "    .dataframe tbody tr th:only-of-type {\n",
       "        vertical-align: middle;\n",
       "    }\n",
       "\n",
       "    .dataframe tbody tr th {\n",
       "        vertical-align: top;\n",
       "    }\n",
       "\n",
       "    .dataframe thead th {\n",
       "        text-align: right;\n",
       "    }\n",
       "</style>\n",
       "<table border=\"1\" class=\"dataframe\">\n",
       "  <thead>\n",
       "    <tr style=\"text-align: right;\">\n",
       "      <th></th>\n",
       "      <th>headline</th>\n",
       "    </tr>\n",
       "  </thead>\n",
       "  <tbody>\n",
       "    <tr>\n",
       "      <th>0</th>\n",
       "      <td>MyBook Disk Drive Handles Lots of Easy Backups</td>\n",
       "    </tr>\n",
       "    <tr>\n",
       "      <th>1</th>\n",
       "      <td>CIT Posts Eighth Loss in a Row</td>\n",
       "    </tr>\n",
       "    <tr>\n",
       "      <th>2</th>\n",
       "      <td>Candy Carson Singing The \"National Anthem\" Is ...</td>\n",
       "    </tr>\n",
       "    <tr>\n",
       "      <th>3</th>\n",
       "      <td>Why You Need To Stop What You're Doing And Dat...</td>\n",
       "    </tr>\n",
       "    <tr>\n",
       "      <th>4</th>\n",
       "      <td>27 Times Adele Proved She's Actually The Reale...</td>\n",
       "    </tr>\n",
       "  </tbody>\n",
       "</table>\n",
       "</div>\n",
       "    <div class=\"colab-df-buttons\">\n",
       "\n",
       "  <div class=\"colab-df-container\">\n",
       "    <button class=\"colab-df-convert\" onclick=\"convertToInteractive('df-84b8f965-2df8-4287-a2bd-a7d1e08c1cd5')\"\n",
       "            title=\"Convert this dataframe to an interactive table.\"\n",
       "            style=\"display:none;\">\n",
       "\n",
       "  <svg xmlns=\"http://www.w3.org/2000/svg\" height=\"24px\" viewBox=\"0 -960 960 960\">\n",
       "    <path d=\"M120-120v-720h720v720H120Zm60-500h600v-160H180v160Zm220 220h160v-160H400v160Zm0 220h160v-160H400v160ZM180-400h160v-160H180v160Zm440 0h160v-160H620v160ZM180-180h160v-160H180v160Zm440 0h160v-160H620v160Z\"/>\n",
       "  </svg>\n",
       "    </button>\n",
       "\n",
       "  <style>\n",
       "    .colab-df-container {\n",
       "      display:flex;\n",
       "      gap: 12px;\n",
       "    }\n",
       "\n",
       "    .colab-df-convert {\n",
       "      background-color: #E8F0FE;\n",
       "      border: none;\n",
       "      border-radius: 50%;\n",
       "      cursor: pointer;\n",
       "      display: none;\n",
       "      fill: #1967D2;\n",
       "      height: 32px;\n",
       "      padding: 0 0 0 0;\n",
       "      width: 32px;\n",
       "    }\n",
       "\n",
       "    .colab-df-convert:hover {\n",
       "      background-color: #E2EBFA;\n",
       "      box-shadow: 0px 1px 2px rgba(60, 64, 67, 0.3), 0px 1px 3px 1px rgba(60, 64, 67, 0.15);\n",
       "      fill: #174EA6;\n",
       "    }\n",
       "\n",
       "    .colab-df-buttons div {\n",
       "      margin-bottom: 4px;\n",
       "    }\n",
       "\n",
       "    [theme=dark] .colab-df-convert {\n",
       "      background-color: #3B4455;\n",
       "      fill: #D2E3FC;\n",
       "    }\n",
       "\n",
       "    [theme=dark] .colab-df-convert:hover {\n",
       "      background-color: #434B5C;\n",
       "      box-shadow: 0px 1px 3px 1px rgba(0, 0, 0, 0.15);\n",
       "      filter: drop-shadow(0px 1px 2px rgba(0, 0, 0, 0.3));\n",
       "      fill: #FFFFFF;\n",
       "    }\n",
       "  </style>\n",
       "\n",
       "    <script>\n",
       "      const buttonEl =\n",
       "        document.querySelector('#df-84b8f965-2df8-4287-a2bd-a7d1e08c1cd5 button.colab-df-convert');\n",
       "      buttonEl.style.display =\n",
       "        google.colab.kernel.accessAllowed ? 'block' : 'none';\n",
       "\n",
       "      async function convertToInteractive(key) {\n",
       "        const element = document.querySelector('#df-84b8f965-2df8-4287-a2bd-a7d1e08c1cd5');\n",
       "        const dataTable =\n",
       "          await google.colab.kernel.invokeFunction('convertToInteractive',\n",
       "                                                    [key], {});\n",
       "        if (!dataTable) return;\n",
       "\n",
       "        const docLinkHtml = 'Like what you see? Visit the ' +\n",
       "          '<a target=\"_blank\" href=https://colab.research.google.com/notebooks/data_table.ipynb>data table notebook</a>'\n",
       "          + ' to learn more about interactive tables.';\n",
       "        element.innerHTML = '';\n",
       "        dataTable['output_type'] = 'display_data';\n",
       "        await google.colab.output.renderOutput(dataTable, element);\n",
       "        const docLink = document.createElement('div');\n",
       "        docLink.innerHTML = docLinkHtml;\n",
       "        element.appendChild(docLink);\n",
       "      }\n",
       "    </script>\n",
       "  </div>\n",
       "\n",
       "\n",
       "<div id=\"df-6cef86ab-2755-4929-b9cc-700ac07c41cc\">\n",
       "  <button class=\"colab-df-quickchart\" onclick=\"quickchart('df-6cef86ab-2755-4929-b9cc-700ac07c41cc')\"\n",
       "            title=\"Suggest charts\"\n",
       "            style=\"display:none;\">\n",
       "\n",
       "<svg xmlns=\"http://www.w3.org/2000/svg\" height=\"24px\"viewBox=\"0 0 24 24\"\n",
       "     width=\"24px\">\n",
       "    <g>\n",
       "        <path d=\"M19 3H5c-1.1 0-2 .9-2 2v14c0 1.1.9 2 2 2h14c1.1 0 2-.9 2-2V5c0-1.1-.9-2-2-2zM9 17H7v-7h2v7zm4 0h-2V7h2v10zm4 0h-2v-4h2v4z\"/>\n",
       "    </g>\n",
       "</svg>\n",
       "  </button>\n",
       "\n",
       "<style>\n",
       "  .colab-df-quickchart {\n",
       "      --bg-color: #E8F0FE;\n",
       "      --fill-color: #1967D2;\n",
       "      --hover-bg-color: #E2EBFA;\n",
       "      --hover-fill-color: #174EA6;\n",
       "      --disabled-fill-color: #AAA;\n",
       "      --disabled-bg-color: #DDD;\n",
       "  }\n",
       "\n",
       "  [theme=dark] .colab-df-quickchart {\n",
       "      --bg-color: #3B4455;\n",
       "      --fill-color: #D2E3FC;\n",
       "      --hover-bg-color: #434B5C;\n",
       "      --hover-fill-color: #FFFFFF;\n",
       "      --disabled-bg-color: #3B4455;\n",
       "      --disabled-fill-color: #666;\n",
       "  }\n",
       "\n",
       "  .colab-df-quickchart {\n",
       "    background-color: var(--bg-color);\n",
       "    border: none;\n",
       "    border-radius: 50%;\n",
       "    cursor: pointer;\n",
       "    display: none;\n",
       "    fill: var(--fill-color);\n",
       "    height: 32px;\n",
       "    padding: 0;\n",
       "    width: 32px;\n",
       "  }\n",
       "\n",
       "  .colab-df-quickchart:hover {\n",
       "    background-color: var(--hover-bg-color);\n",
       "    box-shadow: 0 1px 2px rgba(60, 64, 67, 0.3), 0 1px 3px 1px rgba(60, 64, 67, 0.15);\n",
       "    fill: var(--button-hover-fill-color);\n",
       "  }\n",
       "\n",
       "  .colab-df-quickchart-complete:disabled,\n",
       "  .colab-df-quickchart-complete:disabled:hover {\n",
       "    background-color: var(--disabled-bg-color);\n",
       "    fill: var(--disabled-fill-color);\n",
       "    box-shadow: none;\n",
       "  }\n",
       "\n",
       "  .colab-df-spinner {\n",
       "    border: 2px solid var(--fill-color);\n",
       "    border-color: transparent;\n",
       "    border-bottom-color: var(--fill-color);\n",
       "    animation:\n",
       "      spin 1s steps(1) infinite;\n",
       "  }\n",
       "\n",
       "  @keyframes spin {\n",
       "    0% {\n",
       "      border-color: transparent;\n",
       "      border-bottom-color: var(--fill-color);\n",
       "      border-left-color: var(--fill-color);\n",
       "    }\n",
       "    20% {\n",
       "      border-color: transparent;\n",
       "      border-left-color: var(--fill-color);\n",
       "      border-top-color: var(--fill-color);\n",
       "    }\n",
       "    30% {\n",
       "      border-color: transparent;\n",
       "      border-left-color: var(--fill-color);\n",
       "      border-top-color: var(--fill-color);\n",
       "      border-right-color: var(--fill-color);\n",
       "    }\n",
       "    40% {\n",
       "      border-color: transparent;\n",
       "      border-right-color: var(--fill-color);\n",
       "      border-top-color: var(--fill-color);\n",
       "    }\n",
       "    60% {\n",
       "      border-color: transparent;\n",
       "      border-right-color: var(--fill-color);\n",
       "    }\n",
       "    80% {\n",
       "      border-color: transparent;\n",
       "      border-right-color: var(--fill-color);\n",
       "      border-bottom-color: var(--fill-color);\n",
       "    }\n",
       "    90% {\n",
       "      border-color: transparent;\n",
       "      border-bottom-color: var(--fill-color);\n",
       "    }\n",
       "  }\n",
       "</style>\n",
       "\n",
       "  <script>\n",
       "    async function quickchart(key) {\n",
       "      const quickchartButtonEl =\n",
       "        document.querySelector('#' + key + ' button');\n",
       "      quickchartButtonEl.disabled = true;  // To prevent multiple clicks.\n",
       "      quickchartButtonEl.classList.add('colab-df-spinner');\n",
       "      try {\n",
       "        const charts = await google.colab.kernel.invokeFunction(\n",
       "            'suggestCharts', [key], {});\n",
       "      } catch (error) {\n",
       "        console.error('Error during call to suggestCharts:', error);\n",
       "      }\n",
       "      quickchartButtonEl.classList.remove('colab-df-spinner');\n",
       "      quickchartButtonEl.classList.add('colab-df-quickchart-complete');\n",
       "    }\n",
       "    (() => {\n",
       "      let quickchartButtonEl =\n",
       "        document.querySelector('#df-6cef86ab-2755-4929-b9cc-700ac07c41cc button');\n",
       "      quickchartButtonEl.style.display =\n",
       "        google.colab.kernel.accessAllowed ? 'block' : 'none';\n",
       "    })();\n",
       "  </script>\n",
       "</div>\n",
       "    </div>\n",
       "  </div>\n"
      ],
      "text/plain": [
       "                                            headline\n",
       "0     MyBook Disk Drive Handles Lots of Easy Backups\n",
       "1                     CIT Posts Eighth Loss in a Row\n",
       "2  Candy Carson Singing The \"National Anthem\" Is ...\n",
       "3  Why You Need To Stop What You're Doing And Dat...\n",
       "4  27 Times Adele Proved She's Actually The Reale..."
      ]
     },
     "execution_count": 4,
     "metadata": {},
     "output_type": "execute_result"
    }
   ],
   "source": [
    "# Load data\n",
    "X = pd.read_csv('X_train.csv')\n",
    "X.head(5)\n"
   ]
  },
  {
   "cell_type": "code",
   "execution_count": 5,
   "id": "54b38b44",
   "metadata": {
    "colab": {
     "base_uri": "https://localhost:8080/",
     "height": 206
    },
    "id": "54b38b44",
    "outputId": "357824f8-6064-4ed1-b880-a651999d8f16"
   },
   "outputs": [
    {
     "data": {
      "text/html": [
       "\n",
       "  <div id=\"df-780b5b1f-d4cc-40eb-a76d-5128ca3bc652\" class=\"colab-df-container\">\n",
       "    <div>\n",
       "<style scoped>\n",
       "    .dataframe tbody tr th:only-of-type {\n",
       "        vertical-align: middle;\n",
       "    }\n",
       "\n",
       "    .dataframe tbody tr th {\n",
       "        vertical-align: top;\n",
       "    }\n",
       "\n",
       "    .dataframe thead th {\n",
       "        text-align: right;\n",
       "    }\n",
       "</style>\n",
       "<table border=\"1\" class=\"dataframe\">\n",
       "  <thead>\n",
       "    <tr style=\"text-align: right;\">\n",
       "      <th></th>\n",
       "      <th>label</th>\n",
       "    </tr>\n",
       "  </thead>\n",
       "  <tbody>\n",
       "    <tr>\n",
       "      <th>0</th>\n",
       "      <td>not clickbait</td>\n",
       "    </tr>\n",
       "    <tr>\n",
       "      <th>1</th>\n",
       "      <td>not clickbait</td>\n",
       "    </tr>\n",
       "    <tr>\n",
       "      <th>2</th>\n",
       "      <td>clickbait</td>\n",
       "    </tr>\n",
       "    <tr>\n",
       "      <th>3</th>\n",
       "      <td>clickbait</td>\n",
       "    </tr>\n",
       "    <tr>\n",
       "      <th>4</th>\n",
       "      <td>clickbait</td>\n",
       "    </tr>\n",
       "  </tbody>\n",
       "</table>\n",
       "</div>\n",
       "    <div class=\"colab-df-buttons\">\n",
       "\n",
       "  <div class=\"colab-df-container\">\n",
       "    <button class=\"colab-df-convert\" onclick=\"convertToInteractive('df-780b5b1f-d4cc-40eb-a76d-5128ca3bc652')\"\n",
       "            title=\"Convert this dataframe to an interactive table.\"\n",
       "            style=\"display:none;\">\n",
       "\n",
       "  <svg xmlns=\"http://www.w3.org/2000/svg\" height=\"24px\" viewBox=\"0 -960 960 960\">\n",
       "    <path d=\"M120-120v-720h720v720H120Zm60-500h600v-160H180v160Zm220 220h160v-160H400v160Zm0 220h160v-160H400v160ZM180-400h160v-160H180v160Zm440 0h160v-160H620v160ZM180-180h160v-160H180v160Zm440 0h160v-160H620v160Z\"/>\n",
       "  </svg>\n",
       "    </button>\n",
       "\n",
       "  <style>\n",
       "    .colab-df-container {\n",
       "      display:flex;\n",
       "      gap: 12px;\n",
       "    }\n",
       "\n",
       "    .colab-df-convert {\n",
       "      background-color: #E8F0FE;\n",
       "      border: none;\n",
       "      border-radius: 50%;\n",
       "      cursor: pointer;\n",
       "      display: none;\n",
       "      fill: #1967D2;\n",
       "      height: 32px;\n",
       "      padding: 0 0 0 0;\n",
       "      width: 32px;\n",
       "    }\n",
       "\n",
       "    .colab-df-convert:hover {\n",
       "      background-color: #E2EBFA;\n",
       "      box-shadow: 0px 1px 2px rgba(60, 64, 67, 0.3), 0px 1px 3px 1px rgba(60, 64, 67, 0.15);\n",
       "      fill: #174EA6;\n",
       "    }\n",
       "\n",
       "    .colab-df-buttons div {\n",
       "      margin-bottom: 4px;\n",
       "    }\n",
       "\n",
       "    [theme=dark] .colab-df-convert {\n",
       "      background-color: #3B4455;\n",
       "      fill: #D2E3FC;\n",
       "    }\n",
       "\n",
       "    [theme=dark] .colab-df-convert:hover {\n",
       "      background-color: #434B5C;\n",
       "      box-shadow: 0px 1px 3px 1px rgba(0, 0, 0, 0.15);\n",
       "      filter: drop-shadow(0px 1px 2px rgba(0, 0, 0, 0.3));\n",
       "      fill: #FFFFFF;\n",
       "    }\n",
       "  </style>\n",
       "\n",
       "    <script>\n",
       "      const buttonEl =\n",
       "        document.querySelector('#df-780b5b1f-d4cc-40eb-a76d-5128ca3bc652 button.colab-df-convert');\n",
       "      buttonEl.style.display =\n",
       "        google.colab.kernel.accessAllowed ? 'block' : 'none';\n",
       "\n",
       "      async function convertToInteractive(key) {\n",
       "        const element = document.querySelector('#df-780b5b1f-d4cc-40eb-a76d-5128ca3bc652');\n",
       "        const dataTable =\n",
       "          await google.colab.kernel.invokeFunction('convertToInteractive',\n",
       "                                                    [key], {});\n",
       "        if (!dataTable) return;\n",
       "\n",
       "        const docLinkHtml = 'Like what you see? Visit the ' +\n",
       "          '<a target=\"_blank\" href=https://colab.research.google.com/notebooks/data_table.ipynb>data table notebook</a>'\n",
       "          + ' to learn more about interactive tables.';\n",
       "        element.innerHTML = '';\n",
       "        dataTable['output_type'] = 'display_data';\n",
       "        await google.colab.output.renderOutput(dataTable, element);\n",
       "        const docLink = document.createElement('div');\n",
       "        docLink.innerHTML = docLinkHtml;\n",
       "        element.appendChild(docLink);\n",
       "      }\n",
       "    </script>\n",
       "  </div>\n",
       "\n",
       "\n",
       "<div id=\"df-aa341a0d-55e1-4378-a0c0-0e77f7214d71\">\n",
       "  <button class=\"colab-df-quickchart\" onclick=\"quickchart('df-aa341a0d-55e1-4378-a0c0-0e77f7214d71')\"\n",
       "            title=\"Suggest charts\"\n",
       "            style=\"display:none;\">\n",
       "\n",
       "<svg xmlns=\"http://www.w3.org/2000/svg\" height=\"24px\"viewBox=\"0 0 24 24\"\n",
       "     width=\"24px\">\n",
       "    <g>\n",
       "        <path d=\"M19 3H5c-1.1 0-2 .9-2 2v14c0 1.1.9 2 2 2h14c1.1 0 2-.9 2-2V5c0-1.1-.9-2-2-2zM9 17H7v-7h2v7zm4 0h-2V7h2v10zm4 0h-2v-4h2v4z\"/>\n",
       "    </g>\n",
       "</svg>\n",
       "  </button>\n",
       "\n",
       "<style>\n",
       "  .colab-df-quickchart {\n",
       "      --bg-color: #E8F0FE;\n",
       "      --fill-color: #1967D2;\n",
       "      --hover-bg-color: #E2EBFA;\n",
       "      --hover-fill-color: #174EA6;\n",
       "      --disabled-fill-color: #AAA;\n",
       "      --disabled-bg-color: #DDD;\n",
       "  }\n",
       "\n",
       "  [theme=dark] .colab-df-quickchart {\n",
       "      --bg-color: #3B4455;\n",
       "      --fill-color: #D2E3FC;\n",
       "      --hover-bg-color: #434B5C;\n",
       "      --hover-fill-color: #FFFFFF;\n",
       "      --disabled-bg-color: #3B4455;\n",
       "      --disabled-fill-color: #666;\n",
       "  }\n",
       "\n",
       "  .colab-df-quickchart {\n",
       "    background-color: var(--bg-color);\n",
       "    border: none;\n",
       "    border-radius: 50%;\n",
       "    cursor: pointer;\n",
       "    display: none;\n",
       "    fill: var(--fill-color);\n",
       "    height: 32px;\n",
       "    padding: 0;\n",
       "    width: 32px;\n",
       "  }\n",
       "\n",
       "  .colab-df-quickchart:hover {\n",
       "    background-color: var(--hover-bg-color);\n",
       "    box-shadow: 0 1px 2px rgba(60, 64, 67, 0.3), 0 1px 3px 1px rgba(60, 64, 67, 0.15);\n",
       "    fill: var(--button-hover-fill-color);\n",
       "  }\n",
       "\n",
       "  .colab-df-quickchart-complete:disabled,\n",
       "  .colab-df-quickchart-complete:disabled:hover {\n",
       "    background-color: var(--disabled-bg-color);\n",
       "    fill: var(--disabled-fill-color);\n",
       "    box-shadow: none;\n",
       "  }\n",
       "\n",
       "  .colab-df-spinner {\n",
       "    border: 2px solid var(--fill-color);\n",
       "    border-color: transparent;\n",
       "    border-bottom-color: var(--fill-color);\n",
       "    animation:\n",
       "      spin 1s steps(1) infinite;\n",
       "  }\n",
       "\n",
       "  @keyframes spin {\n",
       "    0% {\n",
       "      border-color: transparent;\n",
       "      border-bottom-color: var(--fill-color);\n",
       "      border-left-color: var(--fill-color);\n",
       "    }\n",
       "    20% {\n",
       "      border-color: transparent;\n",
       "      border-left-color: var(--fill-color);\n",
       "      border-top-color: var(--fill-color);\n",
       "    }\n",
       "    30% {\n",
       "      border-color: transparent;\n",
       "      border-left-color: var(--fill-color);\n",
       "      border-top-color: var(--fill-color);\n",
       "      border-right-color: var(--fill-color);\n",
       "    }\n",
       "    40% {\n",
       "      border-color: transparent;\n",
       "      border-right-color: var(--fill-color);\n",
       "      border-top-color: var(--fill-color);\n",
       "    }\n",
       "    60% {\n",
       "      border-color: transparent;\n",
       "      border-right-color: var(--fill-color);\n",
       "    }\n",
       "    80% {\n",
       "      border-color: transparent;\n",
       "      border-right-color: var(--fill-color);\n",
       "      border-bottom-color: var(--fill-color);\n",
       "    }\n",
       "    90% {\n",
       "      border-color: transparent;\n",
       "      border-bottom-color: var(--fill-color);\n",
       "    }\n",
       "  }\n",
       "</style>\n",
       "\n",
       "  <script>\n",
       "    async function quickchart(key) {\n",
       "      const quickchartButtonEl =\n",
       "        document.querySelector('#' + key + ' button');\n",
       "      quickchartButtonEl.disabled = true;  // To prevent multiple clicks.\n",
       "      quickchartButtonEl.classList.add('colab-df-spinner');\n",
       "      try {\n",
       "        const charts = await google.colab.kernel.invokeFunction(\n",
       "            'suggestCharts', [key], {});\n",
       "      } catch (error) {\n",
       "        console.error('Error during call to suggestCharts:', error);\n",
       "      }\n",
       "      quickchartButtonEl.classList.remove('colab-df-spinner');\n",
       "      quickchartButtonEl.classList.add('colab-df-quickchart-complete');\n",
       "    }\n",
       "    (() => {\n",
       "      let quickchartButtonEl =\n",
       "        document.querySelector('#df-aa341a0d-55e1-4378-a0c0-0e77f7214d71 button');\n",
       "      quickchartButtonEl.style.display =\n",
       "        google.colab.kernel.accessAllowed ? 'block' : 'none';\n",
       "    })();\n",
       "  </script>\n",
       "</div>\n",
       "    </div>\n",
       "  </div>\n"
      ],
      "text/plain": [
       "           label\n",
       "0  not clickbait\n",
       "1  not clickbait\n",
       "2      clickbait\n",
       "3      clickbait\n",
       "4      clickbait"
      ]
     },
     "execution_count": 5,
     "metadata": {},
     "output_type": "execute_result"
    }
   ],
   "source": [
    "y = pd.read_csv('y_train.csv')\n",
    "y.head(5)\n"
   ]
  },
  {
   "cell_type": "code",
   "execution_count": 6,
   "id": "31f4aab1",
   "metadata": {
    "colab": {
     "base_uri": "https://localhost:8080/",
     "height": 206
    },
    "id": "31f4aab1",
    "outputId": "44627418-8e52-4423-d386-abfe48c1d815"
   },
   "outputs": [
    {
     "data": {
      "text/html": [
       "\n",
       "  <div id=\"df-bceb14cd-85c3-442d-88ba-9c73a010a58e\" class=\"colab-df-container\">\n",
       "    <div>\n",
       "<style scoped>\n",
       "    .dataframe tbody tr th:only-of-type {\n",
       "        vertical-align: middle;\n",
       "    }\n",
       "\n",
       "    .dataframe tbody tr th {\n",
       "        vertical-align: top;\n",
       "    }\n",
       "\n",
       "    .dataframe thead th {\n",
       "        text-align: right;\n",
       "    }\n",
       "</style>\n",
       "<table border=\"1\" class=\"dataframe\">\n",
       "  <thead>\n",
       "    <tr style=\"text-align: right;\">\n",
       "      <th></th>\n",
       "      <th>label</th>\n",
       "    </tr>\n",
       "  </thead>\n",
       "  <tbody>\n",
       "    <tr>\n",
       "      <th>0</th>\n",
       "      <td>0</td>\n",
       "    </tr>\n",
       "    <tr>\n",
       "      <th>1</th>\n",
       "      <td>0</td>\n",
       "    </tr>\n",
       "    <tr>\n",
       "      <th>2</th>\n",
       "      <td>1</td>\n",
       "    </tr>\n",
       "    <tr>\n",
       "      <th>3</th>\n",
       "      <td>1</td>\n",
       "    </tr>\n",
       "    <tr>\n",
       "      <th>4</th>\n",
       "      <td>1</td>\n",
       "    </tr>\n",
       "  </tbody>\n",
       "</table>\n",
       "</div>\n",
       "    <div class=\"colab-df-buttons\">\n",
       "\n",
       "  <div class=\"colab-df-container\">\n",
       "    <button class=\"colab-df-convert\" onclick=\"convertToInteractive('df-bceb14cd-85c3-442d-88ba-9c73a010a58e')\"\n",
       "            title=\"Convert this dataframe to an interactive table.\"\n",
       "            style=\"display:none;\">\n",
       "\n",
       "  <svg xmlns=\"http://www.w3.org/2000/svg\" height=\"24px\" viewBox=\"0 -960 960 960\">\n",
       "    <path d=\"M120-120v-720h720v720H120Zm60-500h600v-160H180v160Zm220 220h160v-160H400v160Zm0 220h160v-160H400v160ZM180-400h160v-160H180v160Zm440 0h160v-160H620v160ZM180-180h160v-160H180v160Zm440 0h160v-160H620v160Z\"/>\n",
       "  </svg>\n",
       "    </button>\n",
       "\n",
       "  <style>\n",
       "    .colab-df-container {\n",
       "      display:flex;\n",
       "      gap: 12px;\n",
       "    }\n",
       "\n",
       "    .colab-df-convert {\n",
       "      background-color: #E8F0FE;\n",
       "      border: none;\n",
       "      border-radius: 50%;\n",
       "      cursor: pointer;\n",
       "      display: none;\n",
       "      fill: #1967D2;\n",
       "      height: 32px;\n",
       "      padding: 0 0 0 0;\n",
       "      width: 32px;\n",
       "    }\n",
       "\n",
       "    .colab-df-convert:hover {\n",
       "      background-color: #E2EBFA;\n",
       "      box-shadow: 0px 1px 2px rgba(60, 64, 67, 0.3), 0px 1px 3px 1px rgba(60, 64, 67, 0.15);\n",
       "      fill: #174EA6;\n",
       "    }\n",
       "\n",
       "    .colab-df-buttons div {\n",
       "      margin-bottom: 4px;\n",
       "    }\n",
       "\n",
       "    [theme=dark] .colab-df-convert {\n",
       "      background-color: #3B4455;\n",
       "      fill: #D2E3FC;\n",
       "    }\n",
       "\n",
       "    [theme=dark] .colab-df-convert:hover {\n",
       "      background-color: #434B5C;\n",
       "      box-shadow: 0px 1px 3px 1px rgba(0, 0, 0, 0.15);\n",
       "      filter: drop-shadow(0px 1px 2px rgba(0, 0, 0, 0.3));\n",
       "      fill: #FFFFFF;\n",
       "    }\n",
       "  </style>\n",
       "\n",
       "    <script>\n",
       "      const buttonEl =\n",
       "        document.querySelector('#df-bceb14cd-85c3-442d-88ba-9c73a010a58e button.colab-df-convert');\n",
       "      buttonEl.style.display =\n",
       "        google.colab.kernel.accessAllowed ? 'block' : 'none';\n",
       "\n",
       "      async function convertToInteractive(key) {\n",
       "        const element = document.querySelector('#df-bceb14cd-85c3-442d-88ba-9c73a010a58e');\n",
       "        const dataTable =\n",
       "          await google.colab.kernel.invokeFunction('convertToInteractive',\n",
       "                                                    [key], {});\n",
       "        if (!dataTable) return;\n",
       "\n",
       "        const docLinkHtml = 'Like what you see? Visit the ' +\n",
       "          '<a target=\"_blank\" href=https://colab.research.google.com/notebooks/data_table.ipynb>data table notebook</a>'\n",
       "          + ' to learn more about interactive tables.';\n",
       "        element.innerHTML = '';\n",
       "        dataTable['output_type'] = 'display_data';\n",
       "        await google.colab.output.renderOutput(dataTable, element);\n",
       "        const docLink = document.createElement('div');\n",
       "        docLink.innerHTML = docLinkHtml;\n",
       "        element.appendChild(docLink);\n",
       "      }\n",
       "    </script>\n",
       "  </div>\n",
       "\n",
       "\n",
       "<div id=\"df-1a4602d6-e620-4d6b-9ac5-a721f79217fb\">\n",
       "  <button class=\"colab-df-quickchart\" onclick=\"quickchart('df-1a4602d6-e620-4d6b-9ac5-a721f79217fb')\"\n",
       "            title=\"Suggest charts\"\n",
       "            style=\"display:none;\">\n",
       "\n",
       "<svg xmlns=\"http://www.w3.org/2000/svg\" height=\"24px\"viewBox=\"0 0 24 24\"\n",
       "     width=\"24px\">\n",
       "    <g>\n",
       "        <path d=\"M19 3H5c-1.1 0-2 .9-2 2v14c0 1.1.9 2 2 2h14c1.1 0 2-.9 2-2V5c0-1.1-.9-2-2-2zM9 17H7v-7h2v7zm4 0h-2V7h2v10zm4 0h-2v-4h2v4z\"/>\n",
       "    </g>\n",
       "</svg>\n",
       "  </button>\n",
       "\n",
       "<style>\n",
       "  .colab-df-quickchart {\n",
       "      --bg-color: #E8F0FE;\n",
       "      --fill-color: #1967D2;\n",
       "      --hover-bg-color: #E2EBFA;\n",
       "      --hover-fill-color: #174EA6;\n",
       "      --disabled-fill-color: #AAA;\n",
       "      --disabled-bg-color: #DDD;\n",
       "  }\n",
       "\n",
       "  [theme=dark] .colab-df-quickchart {\n",
       "      --bg-color: #3B4455;\n",
       "      --fill-color: #D2E3FC;\n",
       "      --hover-bg-color: #434B5C;\n",
       "      --hover-fill-color: #FFFFFF;\n",
       "      --disabled-bg-color: #3B4455;\n",
       "      --disabled-fill-color: #666;\n",
       "  }\n",
       "\n",
       "  .colab-df-quickchart {\n",
       "    background-color: var(--bg-color);\n",
       "    border: none;\n",
       "    border-radius: 50%;\n",
       "    cursor: pointer;\n",
       "    display: none;\n",
       "    fill: var(--fill-color);\n",
       "    height: 32px;\n",
       "    padding: 0;\n",
       "    width: 32px;\n",
       "  }\n",
       "\n",
       "  .colab-df-quickchart:hover {\n",
       "    background-color: var(--hover-bg-color);\n",
       "    box-shadow: 0 1px 2px rgba(60, 64, 67, 0.3), 0 1px 3px 1px rgba(60, 64, 67, 0.15);\n",
       "    fill: var(--button-hover-fill-color);\n",
       "  }\n",
       "\n",
       "  .colab-df-quickchart-complete:disabled,\n",
       "  .colab-df-quickchart-complete:disabled:hover {\n",
       "    background-color: var(--disabled-bg-color);\n",
       "    fill: var(--disabled-fill-color);\n",
       "    box-shadow: none;\n",
       "  }\n",
       "\n",
       "  .colab-df-spinner {\n",
       "    border: 2px solid var(--fill-color);\n",
       "    border-color: transparent;\n",
       "    border-bottom-color: var(--fill-color);\n",
       "    animation:\n",
       "      spin 1s steps(1) infinite;\n",
       "  }\n",
       "\n",
       "  @keyframes spin {\n",
       "    0% {\n",
       "      border-color: transparent;\n",
       "      border-bottom-color: var(--fill-color);\n",
       "      border-left-color: var(--fill-color);\n",
       "    }\n",
       "    20% {\n",
       "      border-color: transparent;\n",
       "      border-left-color: var(--fill-color);\n",
       "      border-top-color: var(--fill-color);\n",
       "    }\n",
       "    30% {\n",
       "      border-color: transparent;\n",
       "      border-left-color: var(--fill-color);\n",
       "      border-top-color: var(--fill-color);\n",
       "      border-right-color: var(--fill-color);\n",
       "    }\n",
       "    40% {\n",
       "      border-color: transparent;\n",
       "      border-right-color: var(--fill-color);\n",
       "      border-top-color: var(--fill-color);\n",
       "    }\n",
       "    60% {\n",
       "      border-color: transparent;\n",
       "      border-right-color: var(--fill-color);\n",
       "    }\n",
       "    80% {\n",
       "      border-color: transparent;\n",
       "      border-right-color: var(--fill-color);\n",
       "      border-bottom-color: var(--fill-color);\n",
       "    }\n",
       "    90% {\n",
       "      border-color: transparent;\n",
       "      border-bottom-color: var(--fill-color);\n",
       "    }\n",
       "  }\n",
       "</style>\n",
       "\n",
       "  <script>\n",
       "    async function quickchart(key) {\n",
       "      const quickchartButtonEl =\n",
       "        document.querySelector('#' + key + ' button');\n",
       "      quickchartButtonEl.disabled = true;  // To prevent multiple clicks.\n",
       "      quickchartButtonEl.classList.add('colab-df-spinner');\n",
       "      try {\n",
       "        const charts = await google.colab.kernel.invokeFunction(\n",
       "            'suggestCharts', [key], {});\n",
       "      } catch (error) {\n",
       "        console.error('Error during call to suggestCharts:', error);\n",
       "      }\n",
       "      quickchartButtonEl.classList.remove('colab-df-spinner');\n",
       "      quickchartButtonEl.classList.add('colab-df-quickchart-complete');\n",
       "    }\n",
       "    (() => {\n",
       "      let quickchartButtonEl =\n",
       "        document.querySelector('#df-1a4602d6-e620-4d6b-9ac5-a721f79217fb button');\n",
       "      quickchartButtonEl.style.display =\n",
       "        google.colab.kernel.accessAllowed ? 'block' : 'none';\n",
       "    })();\n",
       "  </script>\n",
       "</div>\n",
       "    </div>\n",
       "  </div>\n"
      ],
      "text/plain": [
       "   label\n",
       "0      0\n",
       "1      0\n",
       "2      1\n",
       "3      1\n",
       "4      1"
      ]
     },
     "execution_count": 6,
     "metadata": {},
     "output_type": "execute_result"
    }
   ],
   "source": [
    "# Replace \"not clickbait\" with 0 and \"clickbait\" with 1\n",
    "y['label'] = y['label'].replace({'not clickbait': 0, 'clickbait': 1})\n",
    "y.head(5)\n"
   ]
  },
  {
   "cell_type": "markdown",
   "id": "9d93a505",
   "metadata": {
    "id": "9d93a505"
   },
   "source": [
    "### 2. Vectorize the clickbait headline column into an X matrix. Run logistic regression at least three times and select a single best model."
   ]
  },
  {
   "cell_type": "code",
   "execution_count": 7,
   "id": "7426bf76",
   "metadata": {
    "colab": {
     "base_uri": "https://localhost:8080/"
    },
    "id": "7426bf76",
    "outputId": "32a45b4a-f830-45dd-ae59-fb55ee113950"
   },
   "outputs": [
    {
     "name": "stdout",
     "output_type": "stream",
     "text": [
      "(19983, 1) (4996, 1) (19983, 1) (4996, 1)\n"
     ]
    }
   ],
   "source": [
    "# Split the data into training and testing sets\n",
    "X_train, X_test, y_train, y_test = train_test_split(X, y, test_size=0.2, random_state=42)\n",
    "\n",
    "print(X_train.shape, X_test.shape, y_train.shape, y_test.shape)\n"
   ]
  },
  {
   "cell_type": "code",
   "execution_count": 8,
   "id": "d61ffb5c",
   "metadata": {
    "colab": {
     "base_uri": "https://localhost:8080/"
    },
    "id": "d61ffb5c",
    "outputId": "11bae41a-383a-4ddf-9345-9e8ae0cfedb2"
   },
   "outputs": [
    {
     "name": "stdout",
     "output_type": "stream",
     "text": [
      "(19983,) (4996,) (19983,) (4996,)\n"
     ]
    }
   ],
   "source": [
    "X_train = X_train['headline'].astype(str)\n",
    "X_test = X_test['headline'].astype(str)\n",
    "y_train = y_train['label'].astype(str)\n",
    "y_test = y_test['label'].astype(str)\n",
    "\n",
    "print(X_train.shape, X_test.shape, y_train.shape, y_test.shape)"
   ]
  },
  {
   "cell_type": "markdown",
   "id": "e68e4055",
   "metadata": {
    "id": "e68e4055"
   },
   "source": [
    "#### Tokenization approach 1: Use CountVectorizer\n"
   ]
  },
  {
   "cell_type": "code",
   "execution_count": 9,
   "id": "3dd426eb",
   "metadata": {
    "colab": {
     "base_uri": "https://localhost:8080/"
    },
    "id": "3dd426eb",
    "outputId": "26aa26af-9741-4195-b15f-4dc6e0ad73f0"
   },
   "outputs": [
    {
     "name": "stdout",
     "output_type": "stream",
     "text": [
      "X_train_vectorized_word:\n",
      "<19983x4479 sparse matrix of type '<class 'numpy.int64'>'\n",
      "\twith 95711 stored elements in Compressed Sparse Row format>\n"
     ]
    }
   ],
   "source": [
    "# Narrow bag of words to words in at least 5 documents\n",
    "# Limit vocabulary to meaningful words by deleting Stop-words\n",
    "vectorizer_word = CountVectorizer(min_df=5, stop_words=\"english\").fit(X_train)\n",
    "X_train_vectorized_word = vectorizer_word.transform(X_train)\n",
    "X_test_vectorized_word = vectorizer_word.transform(X_test)\n",
    "\n",
    "print(\"X_train_vectorized_word:\\n{}\".format(repr(X_train_vectorized_word)))\n"
   ]
  },
  {
   "cell_type": "code",
   "execution_count": 10,
   "id": "7ccb410a",
   "metadata": {
    "colab": {
     "base_uri": "https://localhost:8080/"
    },
    "id": "7ccb410a",
    "outputId": "ce99ac8c-f8bb-4385-f8c5-67513159b6b5"
   },
   "outputs": [
    {
     "name": "stdout",
     "output_type": "stream",
     "text": [
      "Number of features: 4479\n",
      "First 20 features:\n",
      "['000' '00s' '08' '09' '10' '100' '11' '12' '13' '14' '140' '15' '16' '17'\n",
      " '18' '19' '1989' '20' '200' '2000s']\n",
      "Features 210 to 230:\n",
      "['airbus' 'aircraft' 'airline' 'airliner' 'airlines' 'airplane' 'airport'\n",
      " 'airstrikes' 'airways' 'al' 'alabama' 'aladdin' 'alan' 'alarm' 'alaska'\n",
      " 'album' 'albums' 'alcoholic' 'alert' 'alex']\n",
      "Every 200th feature:\n",
      "['000' 'agree' 'awarded' 'breaking' 'chief' 'country' 'dictionary' 'end'\n",
      " 'financial' 'greater' 'houses' 'jump' 'literature' 'minds' 'officials'\n",
      " 'player' 'railway' 'rival' 'shared' 'starting' 'teens' 'tyra' 'wins']\n"
     ]
    }
   ],
   "source": [
    "feature_names = vectorizer_word.get_feature_names_out()\n",
    "print(\"Number of features: {}\".format(len(feature_names)))\n",
    "print(\"First 20 features:\\n{}\".format(feature_names[:20]))\n",
    "print(\"Features 210 to 230:\\n{}\".format(feature_names[210:230]))\n",
    "print(\"Every 200th feature:\\n{}\".format(feature_names[::200]))"
   ]
  },
  {
   "cell_type": "code",
   "execution_count": 11,
   "id": "919bd20a",
   "metadata": {
    "colab": {
     "base_uri": "https://localhost:8080/"
    },
    "id": "919bd20a",
    "outputId": "cdd63af9-c1e4-4df0-9106-c3cae9b92d3e"
   },
   "outputs": [
    {
     "name": "stdout",
     "output_type": "stream",
     "text": [
      "X data shape:  (19983, 4479) (4996, 4479)\n",
      "Y data shape:  (19983,) (4996,)\n"
     ]
    }
   ],
   "source": [
    "print(\"X data shape: \", X_train_vectorized_word.shape, X_test_vectorized_word.shape)\n",
    "print(\"Y data shape: \", y_train.shape, y_test.shape)"
   ]
  },
  {
   "cell_type": "code",
   "execution_count": 12,
   "id": "280e1858",
   "metadata": {
    "colab": {
     "base_uri": "https://localhost:8080/"
    },
    "id": "280e1858",
    "outputId": "e1cfb9f7-95f6-436c-a9fb-6fc5ee12886a"
   },
   "outputs": [
    {
     "name": "stdout",
     "output_type": "stream",
     "text": [
      "Best cross-validation score: 0.95\n",
      "Best parameters:  {'C': 1}\n"
     ]
    }
   ],
   "source": [
    "# Use GridSearchCV to tune the parameter\n",
    "param_grid = {'C': [0.001, 0.01, 0.1, 1, 10]}\n",
    "grid = GridSearchCV(LogisticRegression(), param_grid, cv=5)\n",
    "grid.fit(X_train_vectorized_word, y_train)\n",
    "print(\"Best cross-validation score: {:.2f}\".format(grid.best_score_))\n",
    "print(\"Best parameters: \", grid.best_params_)"
   ]
  },
  {
   "cell_type": "code",
   "execution_count": 13,
   "id": "839eccb1",
   "metadata": {
    "colab": {
     "base_uri": "https://localhost:8080/"
    },
    "id": "839eccb1",
    "outputId": "921d02b4-c595-473c-b813-d1d86ad1c0fa"
   },
   "outputs": [
    {
     "name": "stdout",
     "output_type": "stream",
     "text": [
      "Mean cross-validation accuracy: 0.95\n",
      "Test score: 0.94\n"
     ]
    }
   ],
   "source": [
    "# Use cross-validation to evaluate the results\n",
    "model1 = LogisticRegression(C=1) # With best parameters\n",
    "\n",
    "scores = cross_val_score(model1, X_train_vectorized_word, y_train, cv=5)\n",
    "print(\"Mean cross-validation accuracy: {:.2f}\".format(np.mean(scores)))\n",
    "print(\"Test score: {:.2f}\".format(grid.score(X_test_vectorized_word, y_test)))"
   ]
  },
  {
   "cell_type": "code",
   "execution_count": 14,
   "id": "38a838c5",
   "metadata": {
    "colab": {
     "base_uri": "https://localhost:8080/"
    },
    "id": "38a838c5",
    "outputId": "c75784e4-92ea-4a22-beb7-78cfbb5bf567"
   },
   "outputs": [
    {
     "name": "stdout",
     "output_type": "stream",
     "text": [
      "Accuracy: 0.94\n",
      "\n",
      "Classification Report:\n",
      "               precision    recall  f1-score   support\n",
      "\n",
      "           0       0.94      0.95      0.95      2610\n",
      "           1       0.95      0.93      0.94      2386\n",
      "\n",
      "    accuracy                           0.94      4996\n",
      "   macro avg       0.94      0.94      0.94      4996\n",
      "weighted avg       0.94      0.94      0.94      4996\n",
      "\n"
     ]
    }
   ],
   "source": [
    "#  Use a robust metric for classification\n",
    "model1 = LogisticRegression(C=1)\n",
    "model1.fit(X_train_vectorized_word, y_train)\n",
    "\n",
    "y_pred = model1.predict(X_test_vectorized_word)\n",
    "\n",
    "accuracy = accuracy_score(y_test, y_pred)\n",
    "classification_rep = classification_report(y_test, y_pred)\n",
    "\n",
    "print(f\"Accuracy: {accuracy:.2f}\")\n",
    "print(\"\\nClassification Report:\\n\", classification_rep)"
   ]
  },
  {
   "cell_type": "code",
   "execution_count": 15,
   "id": "10cefda6",
   "metadata": {
    "id": "10cefda6"
   },
   "outputs": [],
   "source": [
    "# helper function to plot top positive and negative coefficients\n",
    "\n",
    "def visualize_coefficients(coefficients, feature_names, n_top_features=25):\n",
    "    \"\"\"Visualize coefficients of a linear model.\n",
    "    Parameters\n",
    "    ----------\n",
    "    coefficients : nd-array, shape (n_features,)\n",
    "        Model coefficients.\n",
    "    feature_names : list or nd-array of strings, shape (n_features,)\n",
    "        Feature names for labeling the coefficients.\n",
    "    n_top_features : int, default=25\n",
    "        How many features to show. The function will show the largest (most\n",
    "        positive) and smallest (most negative)  n_top_features coefficients,\n",
    "        for a total of 2 * n_top_features coefficients.\n",
    "    \"\"\"\n",
    "\n",
    "    coefficients = coefficients.squeeze()\n",
    "    if coefficients.ndim > 1:\n",
    "        # this is not a row or column vector\n",
    "        raise ValueError(\"coeffients must be 1d array or column vector, got\"\n",
    "                         \" shape {}\".format(coefficients.shape))\n",
    "    coefficients = coefficients.ravel()\n",
    "\n",
    "    if len(coefficients) != len(feature_names):\n",
    "        raise ValueError(\"Number of coefficients {} doesn't match number of\"\n",
    "                         \"feature names {}.\".format(len(coefficients),\n",
    "                                                    len(feature_names)))\n",
    "    # get coefficients with large absolute values\n",
    "    coef = coefficients.ravel()\n",
    "    positive_coefficients = np.argsort(coef)[-n_top_features:]\n",
    "    negative_coefficients = np.argsort(coef)[:n_top_features]\n",
    "    interesting_coefficients = np.hstack([negative_coefficients,\n",
    "                                          positive_coefficients])\n",
    "    # plot them\n",
    "    plt.figure(figsize=(15, 5))\n",
    "    colors = ['#ff2020' if c < 0 else '#0000aa'\n",
    "              for c in coef[interesting_coefficients]]\n",
    "    plt.bar(np.arange(2 * n_top_features), coef[interesting_coefficients],\n",
    "            color=colors)\n",
    "    feature_names = np.array(feature_names)\n",
    "    plt.subplots_adjust(bottom=0.3)\n",
    "    plt.xticks(np.arange(1, 1 + 2 * n_top_features),\n",
    "               feature_names[interesting_coefficients], rotation=60,\n",
    "               ha=\"right\")\n",
    "    plt.ylabel(\"Coefficient magnitude\")\n",
    "    plt.xlabel(\"Feature\")\n",
    "\n"
   ]
  },
  {
   "cell_type": "code",
   "execution_count": 16,
   "id": "8b28d7c5",
   "metadata": {
    "colab": {
     "base_uri": "https://localhost:8080/",
     "height": 374
    },
    "id": "8b28d7c5",
    "outputId": "bc8981a7-0498-4ea1-d019-df415321058d"
   },
   "outputs": [
    {
     "data": {
      "image/png": "[encoded data removed]",
      "text/plain": [
       "<Figure size 1500x500 with 1 Axes>"
      ]
     },
     "metadata": {},
     "output_type": "display_data"
    }
   ],
   "source": [
    "# Visualize coefficients\n",
    "coefs = model1.fit(X_train_vectorized_word,y_train).coef_\n",
    "feature_names = vectorizer_word.get_feature_names_out()\n",
    "\n",
    "visualize_coefficients(coefs, feature_names, n_top_features=25)\n",
    "plt.xlabel('Coefficient Value')\n",
    "plt.ylabel('Feature Name')\n",
    "plt.title('CountVectorizer - Logistic Regression Coefficients')\n",
    "plt.show()"
   ]
  },
  {
   "cell_type": "markdown",
   "id": "f8838132",
   "metadata": {
    "id": "f8838132"
   },
   "source": [
    "#### Tokenization approach 2: N-gram Tokenization\n"
   ]
  },
  {
   "cell_type": "code",
   "execution_count": 17,
   "id": "e1077cca",
   "metadata": {
    "colab": {
     "base_uri": "https://localhost:8080/"
    },
    "id": "e1077cca",
    "outputId": "e254a403-8c6a-4b3b-8dc4-fbb34ad2f4cf"
   },
   "outputs": [
    {
     "name": "stdout",
     "output_type": "stream",
     "text": [
      "X_train_ngram:\n",
      "<19983x97760 sparse matrix of type '<class 'numpy.int64'>'\n",
      "\twith 216073 stored elements in Compressed Sparse Row format>\n"
     ]
    }
   ],
   "source": [
    "# N-gram Tokenization\n",
    "ngram_vectorizer = CountVectorizer(ngram_range=(1,2), stop_words=\"english\").fit(X_train)\n",
    "X_train_ngram = ngram_vectorizer.transform(X_train)\n",
    "X_test_ngram = ngram_vectorizer.transform(X_test)\n",
    "\n",
    "print(\"X_train_ngram:\\n{}\".format(repr(X_train_ngram)))\n"
   ]
  },
  {
   "cell_type": "code",
   "execution_count": 18,
   "id": "54f0f10e",
   "metadata": {
    "colab": {
     "base_uri": "https://localhost:8080/"
    },
    "id": "54f0f10e",
    "outputId": "87fc9b5a-3a55-4281-808f-16d97502f3cf"
   },
   "outputs": [
    {
     "name": "stdout",
     "output_type": "stream",
     "text": [
      "Number of features: 97760\n",
      "First 20 features:\n",
      "['00' '00 disney' '000' '000 000' '000 american' '000 animals'\n",
      " '000 backup' '000 birds' '000 bodies' '000 carnations' '000 children'\n",
      " '000 civilians' '000 class' '000 commercial' '000 copy' '000 dangerous'\n",
      " '000 deaths' '000 doctor' '000 ducklings' '000 euros']\n",
      "Features 210 to 230:\n",
      "['100 important' '100 killed' '100 love' '100 madoff' '100 mortgages'\n",
      " '100 need' '100 night' '100 participate' '100 people' '100 point'\n",
      " '100 political' '100 right' '100 season' '100 shiite' '100 strike'\n",
      " '100 sure' '100 thousand' '100 times' '100 tv' '100 year']\n",
      "Every 200th feature:\n",
      "['00' '100 baghdad' '12 celebrity' '13 simple' '15 honest' '16 situations'\n",
      " '17 street' '19 actually' '1989' '2007 says' '2015 neil' '21 secrets'\n",
      " '23 people' '25 insanely' '27 small' '300 darfur' '36 absolute' '46 best'\n",
      " '64 sophomore' '90s food' 'abortion liberalisation' 'accident india'\n",
      " 'acne' 'actresses obviously' 'actually vacation'\n",
      " 'administration endorsed' 'advance final' 'afghan opium' 'age 84'\n",
      " 'ahead abstention' 'airbus military' 'alaska attorney' 'alleged usa'\n",
      " 'amazing video' 'americans finds' 'andy samberg' 'annexing'\n",
      " 'antarctic cruise' 'app lets' 'approved justice' 'ariana'\n",
      " 'arrested connection' 'artist reimagined' 'asos' 'athletes prepare'\n",
      " 'attendant steven' 'australian asbestos' 'autos' 'awesome things'\n",
      " 'backs ethanol' 'baked beans' 'bank chief' 'barnes noble'\n",
      " 'basic questions' 'bbc announces' 'beautiful dior' 'begins colombia'\n",
      " 'benefits division' 'best represents' 'bi invisibility' 'biggest pet'\n",
      " 'birthday party' 'blamed deaths' 'blog shut' 'bod' 'bomber identified'\n",
      " 'books mood' 'bound feet' 'bradfield' 'breakfast bbc' 'brig'\n",
      " 'british oil' 'brothers style' 'bug bites' 'burial site'\n",
      " 'businesses individuals' 'cabin' 'californians' 'cameron salmond'\n",
      " 'canadian rocky' 'cannabis growers' 'car propose' 'carpet' 'cast gender'\n",
      " 'cats shaking' 'celebration wheels' 'cent' 'champions iraq'\n",
      " 'chaplin great' 'charles dickens' 'cheesy' 'chief plays'\n",
      " 'china continues' 'choice household' 'christmas wish' 'city'\n",
      " 'claims violence' 'clearest' 'close home' 'coast colombia'\n",
      " 'collapses construction' 'colour' 'coming british' 'companies object'\n",
      " 'computers italian' 'confessions moving' 'cons living' 'continental'\n",
      " 'convicted' 'cops giving' 'costume star' 'couple official'\n",
      " 'covering return' 'crashes office' 'crew successfully' 'critters'\n",
      " 'cuba follow' 'curse words' 'cycle' 'dame explores' 'date canadian'\n",
      " 'day depression' 'dead hyderabad' 'dear men' 'decided' 'defeat ducks'\n",
      " 'defying gravity' 'delivers apology' 'deny' 'design education'\n",
      " 'detainees freed' 'diamonds' 'diegans understand' 'digital security'\n",
      " 'disabled athletes' 'disguising' 'disrupted rescue' 'dizzy' 'dog self'\n",
      " 'don auto' 'download deal' 'draws crowd' 'driving people' 'dryer'\n",
      " 'dvd train' 'eases public' 'ebay acquire' 'effect soon'\n",
      " 'election message' 'email brings' 'emotional stages' 'ends jamaica'\n",
      " 'entered' 'era hard' 'ethnic' 'evangelist leader' 'exchange merger'\n",
      " 'expected 30' 'explosions reported' 'eyes ruin' 'facing afa'\n",
      " 'fake tanners' 'family halloween' 'far try' 'favor play' 'fears damaging'\n",
      " 'felix makes' 'fiction read' 'fijian biscuits' 'finance' 'fireball'\n",
      " 'flash drive' 'floods chennai' 'foiled nato' 'football american'\n",
      " 'foreign affairs' 'foundation expires' 'fraught' 'french pride'\n",
      " 'froze mid' 'funniest person' 'gain vote' 'gangster' 'gaza despite'\n",
      " 'genius birthday' 'gets married' 'gifts classical' 'girl super'\n",
      " 'glasgow common' 'god says' 'gonzaga wins' 'gorgeous tattoos'\n",
      " 'government reform' 'grandmasters' 'green poop' 'group chats'\n",
      " 'guardian journalist' 'guinea leader' 'gws giants' 'hair wants'\n",
      " 'hamas leaders' 'happen target' 'hardly' 'haunt' 'health 2005' 'heavens'\n",
      " 'help nurses' 'hey hindi' 'hilarious golden' 'history present'\n",
      " 'hold charitable' 'home forever' 'hood texas' 'hostage exchange'\n",
      " 'house permit' 'hula hoop' 'hurts asian' 'icons proud' 'iia rocket'\n",
      " 'immigrants killed' 'inaugurated reelection' 'india dad'\n",
      " 'indonesian president' 'injected' 'insanely awesome'\n",
      " 'instantly understand' 'international red' 'introduces new' 'iowa falls'\n",
      " 'iraq intended' 'islam iberia' 'issued pacific' 'jackson make'\n",
      " 'japanese elections' 'jersey boys' 'jobless rules' 'jokes london'\n",
      " 'judge criticises' 'just gushed' 'kansas city' 'keeping kardashians'\n",
      " 'khaled hero' 'kill dozen' 'killer guilty' 'kind relationship'\n",
      " 'knicks star' 'know mulan' 'korea embroiled' 'la does' 'lame ass'\n",
      " 'largest ice' 'launched measure' 'lawyer publicly' 'leadership role'\n",
      " 'leaves 140' 'lego man' 'level domain' 'life birth' 'like bats'\n",
      " 'liked didn' 'lions losing' 'little room' 'll intense' 'london film'\n",
      " 'looked oddly' 'losing minds' 'love interests' 'lucky charms'\n",
      " 'mable fight' 'mail government' 'make fun' 'makes division'\n",
      " 'malik bleached' 'manchester' 'marijuana ring' 'marshall funniest'\n",
      " 'mastectomy' 'mayors' 'measures protect' 'meets curb' 'memphis uses'\n",
      " 'mess kitchen' 'miami ohio' 'mikkola' 'million needles'\n",
      " 'minister position' 'miss ex' 'miyazawa' 'mom just' 'monoxide protects'\n",
      " 'mortems athens' 'mouthwatering step' 'moxie' 'municipal unit'\n",
      " 'muslim facts' 'named person' 'national disgrace' 'near houston'\n",
      " 'needs play' 'neutral country' 'new ipad' 'new yorkers' 'nicolas cage'\n",
      " 'nominee offers' 'noticed aladdin' 'nursing home' 'obama unveils'\n",
      " 'ode yolanda' 'official position' 'old child' 'onions canadian'\n",
      " 'opinions 2015' 'oreos' 'outdoors home' 'overwhelmed' 'pain send' 'palm'\n",
      " 'parents citizens' 'partner guilty' 'past penguins' 'pay tv'\n",
      " 'pennsylvania father' 'people letting' 'percent awkward' 'perjury trial'\n",
      " 'peter pan' 'phosphorus' 'phuket' 'pieces artwork' 'pirates'\n",
      " 'plan attack' 'plantain' 'pleads' 'point shoot' 'polish exists'\n",
      " 'pop dinners' 'possibilities' 'potter best' 'pratt' 'prequels playing'\n",
      " 'presidents' 'prince bel' 'pro sharif' 'products single'\n",
      " 'proof direction' 'protest school' 'provide early' 'pullout'\n",
      " 'pushes financial' 'queen cersei' 'quiet product' 'racing suits'\n",
      " 'raised south' 'rap fan' 'reach myanmar' 'real 2015' 'really sexist'\n",
      " 'rebel leader' 'recipes impress' 'red bulls' 'refunds' 'rejects plan'\n",
      " 'releases windows' 'remembers' 'replace new' 'represented'\n",
      " 'resignations probe' 'rests' 'returns colorado' 'revisit' 'rid iphone'\n",
      " 'rinks' 'road safety' 'rodeo' 'room pride' 'rowling important'\n",
      " 'run congress' 'russian nightclub' 'sags' 'salvage' 'saskatchewan places'\n",
      " 'say law' 'says won' 'school orders' 'scoreless minutes' 'sea lions'\n",
      " 'second quarter' 'seeing justin' 'self incrimination' 'sends villanova'\n",
      " 'series baseball' 'sets' 'seymour attendees' 'shares rise'\n",
      " 'shift military' 'shop online' 'shows movies' 'sight bigger'\n",
      " 'simple swing' 'siri couldn' 'skill gives' 'slimer' 'smiling baby'\n",
      " 'snub taipei' 'solo sailor' 'sonic hedgehog' 'southern india'\n",
      " 'speak anxiety' 'spent israel' 'sports museum' 'stabilizes' 'stanley'\n",
      " 'starts losing' 'stay optimistic' 'stewart' 'stop slide'\n",
      " 'straightened hair' 'strike protest' 'sts 124' 'stunt disabled'\n",
      " 'sudan obama' 'sultan tightens' 'supercasino plans' 'surprise second'\n",
      " 'suspend uranium' 'swift becky' 'syrian meetings' 'takes tougher'\n",
      " 'talks enter' 'taste like' 'teachers totally' 'teese designed'\n",
      " 'temple hindus' 'terrorism alleged' 'textile foundation' 'therapeutics'\n",
      " 'things kylie' 'thirstiest' 'threats bush' 'tiff' 'times bring'\n",
      " 'times unnecessary' 'toby flenderson' 'took year' 'totally unrelated'\n",
      " 'toys growing' 'trainer' 'travelers rwanda' 'triathletes' 'trips kerry'\n",
      " 'truscott' 'tuberculosis emergency' 'turner broadcasting'\n",
      " 'tweets columbus' 'tying shoes' 'uk forces' 'unbothered widen'\n",
      " 'unfabulous' 'university colorado' 'update iphone' 'use biofuels'\n",
      " 'utter perfection' 've diarrhea' 'verse monster' 'video emirates'\n",
      " 'violated' 'vmas' 'vows record' 'walking' 'war criminal' 'wars star'\n",
      " 'water cannon' 'ways diet' 'web lake' 'weight loss' 'west saint' 'wield'\n",
      " 'willis tower' 'winner jaslene' 'wiretapping limited' 'woman elected'\n",
      " 'women world' 'work force' 'world lingo' 'wow clue' 'xxx return'\n",
      " 'years eve' 'younger wife' 'zelda']\n"
     ]
    }
   ],
   "source": [
    "feature_names = ngram_vectorizer.get_feature_names_out()\n",
    "print(\"Number of features: {}\".format(len(feature_names)))\n",
    "print(\"First 20 features:\\n{}\".format(feature_names[:20]))\n",
    "print(\"Features 210 to 230:\\n{}\".format(feature_names[210:230]))\n",
    "print(\"Every 200th feature:\\n{}\".format(feature_names[::200]))"
   ]
  },
  {
   "cell_type": "code",
   "execution_count": 19,
   "id": "7da02cc5",
   "metadata": {
    "colab": {
     "base_uri": "https://localhost:8080/"
    },
    "id": "7da02cc5",
    "outputId": "352345f6-357d-4495-c484-b942ca28fe17"
   },
   "outputs": [
    {
     "name": "stdout",
     "output_type": "stream",
     "text": [
      "X data shape:  (19983, 97760) (4996, 97760)\n",
      "Y data shape:  (19983,) (4996,)\n"
     ]
    }
   ],
   "source": [
    "print(\"X data shape: \", X_train_ngram.shape, X_test_ngram.shape)\n",
    "print(\"Y data shape: \", y_train.shape, y_test.shape)"
   ]
  },
  {
   "cell_type": "code",
   "execution_count": 20,
   "id": "1ec47cb3",
   "metadata": {
    "colab": {
     "base_uri": "https://localhost:8080/"
    },
    "id": "1ec47cb3",
    "outputId": "12e0d09f-0aa5-452b-8853-634f4a0c680a"
   },
   "outputs": [
    {
     "name": "stdout",
     "output_type": "stream",
     "text": [
      "Best cross-validation score: 0.95\n",
      "Best parameters:  {'C': 10}\n"
     ]
    }
   ],
   "source": [
    "# Use GridSearchCV to tune the parameter\n",
    "param_grid = {'C': [0.001, 0.01, 0.1, 1, 10]}\n",
    "grid = GridSearchCV(LogisticRegression(), param_grid, cv=5)\n",
    "grid.fit(X_train_ngram, y_train)\n",
    "print(\"Best cross-validation score: {:.2f}\".format(grid.best_score_))\n",
    "print(\"Best parameters: \", grid.best_params_)"
   ]
  },
  {
   "cell_type": "code",
   "execution_count": 21,
   "id": "64558a31",
   "metadata": {
    "colab": {
     "base_uri": "https://localhost:8080/"
    },
    "id": "64558a31",
    "outputId": "08f61f40-931b-4535-d767-8632fa9d8669"
   },
   "outputs": [
    {
     "name": "stdout",
     "output_type": "stream",
     "text": [
      "Mean cross-validation accuracy: 0.95\n",
      "Test score: 0.95\n"
     ]
    }
   ],
   "source": [
    "# Use cross-validation to evaluate the results\n",
    "model2 = LogisticRegression(C=10) # With best parameters\n",
    "\n",
    "scores = cross_val_score(model2, X_train_ngram, y_train, cv=5)\n",
    "print(\"Mean cross-validation accuracy: {:.2f}\".format(np.mean(scores)))\n",
    "print(\"Test score: {:.2f}\".format(grid.score(X_test_ngram, y_test)))"
   ]
  },
  {
   "cell_type": "code",
   "execution_count": 22,
   "id": "05fc51ae",
   "metadata": {
    "colab": {
     "base_uri": "https://localhost:8080/"
    },
    "id": "05fc51ae",
    "outputId": "f60003dc-b6ec-43bb-aa0b-41afe1494ebc"
   },
   "outputs": [
    {
     "name": "stdout",
     "output_type": "stream",
     "text": [
      "Accuracy: 0.95\n",
      "\n",
      "Classification Report:\n",
      "               precision    recall  f1-score   support\n",
      "\n",
      "           0       0.96      0.95      0.95      2610\n",
      "           1       0.95      0.95      0.95      2386\n",
      "\n",
      "    accuracy                           0.95      4996\n",
      "   macro avg       0.95      0.95      0.95      4996\n",
      "weighted avg       0.95      0.95      0.95      4996\n",
      "\n"
     ]
    }
   ],
   "source": [
    "#  Use a robust metric for classification\n",
    "model2 = LogisticRegression(C=10)\n",
    "model2.fit(X_train_ngram, y_train)\n",
    "\n",
    "y_pred_ngram = model2.predict(X_test_ngram)\n",
    "\n",
    "accuracy = accuracy_score(y_test, y_pred_ngram)\n",
    "classification_rep = classification_report(y_test, y_pred_ngram)\n",
    "\n",
    "print(f\"Accuracy: {accuracy:.2f}\")\n",
    "print(\"\\nClassification Report:\\n\", classification_rep)"
   ]
  },
  {
   "cell_type": "code",
   "execution_count": 23,
   "id": "14ce100d",
   "metadata": {
    "colab": {
     "base_uri": "https://localhost:8080/",
     "height": 374
    },
    "id": "14ce100d",
    "outputId": "b287a8fe-f76d-4944-cefd-752b2c7750e4"
   },
   "outputs": [
    {
     "data": {
      "image/png": "[encoded data removed]",
      "text/plain": [
       "<Figure size 1500x500 with 1 Axes>"
      ]
     },
     "metadata": {},
     "output_type": "display_data"
    }
   ],
   "source": [
    "# Visualize coefficients\n",
    "coefs = model2.fit(X_train_ngram,y_train).coef_\n",
    "feature_names = ngram_vectorizer.get_feature_names_out()\n",
    "\n",
    "visualize_coefficients(coefs, feature_names, n_top_features=25)\n",
    "plt.xlabel('Coefficient Value')\n",
    "plt.ylabel('Feature Name')\n",
    "plt.title('N-gram Tokenization - Logistic Regression Coefficients')\n",
    "plt.show()"
   ]
  },
  {
   "cell_type": "markdown",
   "id": "42b632a8",
   "metadata": {
    "id": "42b632a8"
   },
   "source": [
    "#### Tokenization approach 3: TF-IDF Tokenizer\n"
   ]
  },
  {
   "cell_type": "code",
   "execution_count": 24,
   "id": "7916f4e3",
   "metadata": {
    "colab": {
     "base_uri": "https://localhost:8080/"
    },
    "id": "7916f4e3",
    "outputId": "698e4449-0ceb-4320-dad1-141b40f32c3a"
   },
   "outputs": [
    {
     "name": "stdout",
     "output_type": "stream",
     "text": [
      "X_train_tfidf:\n",
      "<19983x9238 sparse matrix of type '<class 'numpy.float64'>'\n",
      "\twith 214514 stored elements in Compressed Sparse Row format>\n"
     ]
    }
   ],
   "source": [
    "# TF-IDF Tokenization\n",
    "vectorizer_tfidf = TfidfVectorizer(ngram_range=(1,3) , min_df=5, norm=None).fit(X_train)\n",
    "X_train_tfidf = vectorizer_tfidf.transform(X_train)\n",
    "X_test_tfidf = vectorizer_tfidf.transform(X_test)\n",
    "\n",
    "print(\"X_train_tfidf:\\n{}\".format(repr(X_train_tfidf)))\n"
   ]
  },
  {
   "cell_type": "code",
   "execution_count": 25,
   "id": "5f0e1697",
   "metadata": {
    "colab": {
     "base_uri": "https://localhost:8080/"
    },
    "id": "5f0e1697",
    "outputId": "842ce433-a60a-434c-c1a8-c90f0c8c7b87"
   },
   "outputs": [
    {
     "name": "stdout",
     "output_type": "stream",
     "text": [
      "Number of features: 9238\n",
      "First 20 features:\n",
      "['000' '000 jobs' '000 people' '00s' '08' '09' '10' '10 000' '10 things'\n",
      " '10 things hate' '10 years' '100' '100 000' '100 years' '100 years of'\n",
      " '11' '11 charts' '11 charts that' '11 things' '11 times']\n",
      "Features 210 to 230:\n",
      "['27 things' '27 times' '27 tweets' '28' '29' '29 of' '29 of the'\n",
      " '29 things' '29 times' '2nd' '30' '30 rock' '300' '300 000' '31'\n",
      " '31 tweets' '32' '33' '34' '35']\n",
      "Every 200th feature:\n",
      "['000' '25 things' 'adorable' 'and people are' 'ask' 'be your valentine'\n",
      " 'border' 'candidates' 'cia' 'cook' 'death toll' 'diversity' 'embassies'\n",
      " 'fall' 'foot' 'gave' 'guilty in' 'here the' 'identify' 'in this'\n",
      " 'isolated' 'kills seven' 'libya' 'made in' 'mid' 'national' 'of an'\n",
      " 'once upon time' 'penguins' 'poll' 'qantas' 'related' 'ruby' 'sent'\n",
      " 'slay' 'steel' 'taliban' 'the buzzfeed' 'they are' 'to be in' 'tornadoes'\n",
      " 'unit' 'walking dead' 'what would you' 'with' 'you have in' 'your sign']\n"
     ]
    }
   ],
   "source": [
    "feature_names = vectorizer_tfidf.get_feature_names_out()\n",
    "print(\"Number of features: {}\".format(len(feature_names)))\n",
    "print(\"First 20 features:\\n{}\".format(feature_names[:20]))\n",
    "print(\"Features 210 to 230:\\n{}\".format(feature_names[210:230]))\n",
    "print(\"Every 200th feature:\\n{}\".format(feature_names[::200]))"
   ]
  },
  {
   "cell_type": "code",
   "execution_count": 26,
   "id": "6b276087",
   "metadata": {
    "colab": {
     "base_uri": "https://localhost:8080/"
    },
    "id": "6b276087",
    "outputId": "69a02743-deee-40f6-dc57-81e121021dbb"
   },
   "outputs": [
    {
     "name": "stdout",
     "output_type": "stream",
     "text": [
      "X data shape:  (19983, 9238) (4996, 9238)\n",
      "Y data shape:  (19983,) (4996,)\n"
     ]
    }
   ],
   "source": [
    "print(\"X data shape: \", X_train_tfidf.shape, X_test_tfidf.shape)\n",
    "print(\"Y data shape: \", y_train.shape, y_test.shape)"
   ]
  },
  {
   "cell_type": "code",
   "execution_count": 27,
   "id": "47292f96",
   "metadata": {
    "colab": {
     "base_uri": "https://localhost:8080/"
    },
    "id": "47292f96",
    "outputId": "79c8d71c-ff8e-4e79-e6b4-8e0c82fb4999"
   },
   "outputs": [
    {
     "name": "stdout",
     "output_type": "stream",
     "text": [
      "Best cross-validation score: 0.97\n",
      "Best parameters:  {'C': 0.1}\n"
     ]
    }
   ],
   "source": [
    "# Use GridSearchCV to tune the parameter\n",
    "param_grid = {'C': [0.001, 0.01, 0.1, 1, 10]}\n",
    "grid = GridSearchCV(LogisticRegression(), param_grid, cv=5)\n",
    "grid.fit(X_train_tfidf, y_train)\n",
    "print(\"Best cross-validation score: {:.2f}\".format(grid.best_score_))\n",
    "print(\"Best parameters: \", grid.best_params_)"
   ]
  },
  {
   "cell_type": "code",
   "execution_count": 28,
   "id": "ec0333e2",
   "metadata": {
    "colab": {
     "base_uri": "https://localhost:8080/"
    },
    "id": "ec0333e2",
    "outputId": "4d6d144a-3a15-481e-e0d7-5058e50560c6"
   },
   "outputs": [
    {
     "name": "stdout",
     "output_type": "stream",
     "text": [
      "Mean cross-validation accuracy: 0.97\n",
      "Test score: 0.97\n"
     ]
    }
   ],
   "source": [
    "# Use cross-validation to evaluate the results\n",
    "model3 = LogisticRegression(C=0.1) # With best parameters\n",
    "\n",
    "scores = cross_val_score(model3, X_train_tfidf, y_train, cv=5)\n",
    "print(\"Mean cross-validation accuracy: {:.2f}\".format(np.mean(scores)))\n",
    "print(\"Test score: {:.2f}\".format(grid.score(X_test_tfidf, y_test)))\n"
   ]
  },
  {
   "cell_type": "code",
   "execution_count": 29,
   "id": "74477f91",
   "metadata": {
    "colab": {
     "base_uri": "https://localhost:8080/"
    },
    "id": "74477f91",
    "outputId": "a71d9672-cd0d-4f7b-a731-bf249901f62d"
   },
   "outputs": [
    {
     "name": "stdout",
     "output_type": "stream",
     "text": [
      "Accuracy: 0.97\n",
      "\n",
      "Classification Report:\n",
      "               precision    recall  f1-score   support\n",
      "\n",
      "           0       0.97      0.97      0.97      2610\n",
      "           1       0.97      0.96      0.97      2386\n",
      "\n",
      "    accuracy                           0.97      4996\n",
      "   macro avg       0.97      0.97      0.97      4996\n",
      "weighted avg       0.97      0.97      0.97      4996\n",
      "\n"
     ]
    }
   ],
   "source": [
    "#  Use a robust metric for classification\n",
    "model3 = LogisticRegression(C=1)\n",
    "model3.fit(X_train_tfidf, y_train)\n",
    "\n",
    "y_pred = model3.predict(X_test_tfidf)\n",
    "\n",
    "accuracy = accuracy_score(y_test, y_pred)\n",
    "classification_rep = classification_report(y_test, y_pred)\n",
    "\n",
    "print(f\"Accuracy: {accuracy:.2f}\")\n",
    "print(\"\\nClassification Report:\\n\", classification_rep)"
   ]
  },
  {
   "cell_type": "code",
   "execution_count": 30,
   "id": "c6d1cbe0",
   "metadata": {
    "colab": {
     "base_uri": "https://localhost:8080/",
     "height": 387
    },
    "id": "c6d1cbe0",
    "outputId": "3bfb8e03-bed3-4f96-9c2d-b9d606e018d4"
   },
   "outputs": [
    {
     "data": {
      "image/png": "[encoded data removed]",
      "text/plain": [
       "<Figure size 1500x500 with 1 Axes>"
      ]
     },
     "metadata": {},
     "output_type": "display_data"
    }
   ],
   "source": [
    "# Visualize coefficients\n",
    "coefs = model3.fit(X_train_tfidf,y_train).coef_\n",
    "feature_names = vectorizer_tfidf.get_feature_names_out()\n",
    "\n",
    "visualize_coefficients(coefs, feature_names, n_top_features=25)\n",
    "plt.xlabel('Coefficient Value')\n",
    "plt.ylabel('Feature Name')\n",
    "plt.title('TF-IDF Tokenization - Logistic Regression Coefficients')\n",
    "plt.show()\n"
   ]
  },
  {
   "cell_type": "markdown",
   "id": "f30511bd",
   "metadata": {
    "id": "f30511bd"
   },
   "source": [
    "Model 1:\n",
    "- Cross validation score: 0.95\n",
    "- Test score: 0.94\n",
    "- Accuracy: 0.94\n",
    "- F1 score: 0.94\n",
    "\n",
    "Model 2:\n",
    "- Cross validation score: 0.95\n",
    "- Test score: 0.95\n",
    "- Accuracy: 0.95\n",
    "- F1 score: 0.95\n",
    "\n",
    "Model 3:\n",
    "- Cross validation score: 0.97\n",
    "- Test score: 0.97\n",
    "- Accuracy: 0.97\n",
    "- F1 score: 0.97\n",
    "\n",
    "\n",
    "By comparing these result, we can see that the model 3 is the best model because it has the highest score of cv score, test set score, accuracy and f1 score among all 3 models. Thus, the model 3 is the best model.  "
   ]
  },
  {
   "cell_type": "markdown",
   "id": "84d95fb7",
   "metadata": {
    "id": "84d95fb7"
   },
   "source": [
    "## Part 2: Build a predictive neural network using Keras"
   ]
  },
  {
   "cell_type": "code",
   "execution_count": 31,
   "id": "21860ab0",
   "metadata": {
    "colab": {
     "base_uri": "https://localhost:8080/"
    },
    "id": "21860ab0",
    "outputId": "8cb5c1d6-4f31-4275-ec25-95195a8ae50a"
   },
   "outputs": [
    {
     "data": {
      "text/plain": [
       "(150, 6)"
      ]
     },
     "execution_count": 31,
     "metadata": {},
     "output_type": "execute_result"
    }
   ],
   "source": [
    "# Read csv file\n",
    "iris_data = pd.read_csv(\"http://vincentarelbundock.github.io/Rdatasets/csv/datasets/iris.csv\")\n",
    "iris_data.shape"
   ]
  },
  {
   "cell_type": "code",
   "execution_count": 32,
   "id": "96cc480f",
   "metadata": {
    "id": "96cc480f"
   },
   "outputs": [],
   "source": [
    "# Split the data into features (X) and target variable (y)\n",
    "iris_X = iris_data.drop(\"Species\", axis = 1)\n",
    "iris_y = iris_data['Species']"
   ]
  },
  {
   "cell_type": "code",
   "execution_count": 33,
   "id": "sHZmLDHOtTsT",
   "metadata": {
    "id": "sHZmLDHOtTsT"
   },
   "outputs": [],
   "source": [
    "# Turn my labels into dummy variables\n",
    "iris_y_converted = pd.get_dummies(iris_y)"
   ]
  },
  {
   "cell_type": "code",
   "execution_count": 34,
   "id": "db8bf9c2",
   "metadata": {
    "colab": {
     "base_uri": "https://localhost:8080/",
     "height": 206
    },
    "id": "db8bf9c2",
    "outputId": "91c500d3-55cb-4774-b067-9697ebcbaedb"
   },
   "outputs": [
    {
     "data": {
      "text/html": [
       "\n",
       "  <div id=\"df-8395d2e8-5110-4be2-9161-a416c97555a1\" class=\"colab-df-container\">\n",
       "    <div>\n",
       "<style scoped>\n",
       "    .dataframe tbody tr th:only-of-type {\n",
       "        vertical-align: middle;\n",
       "    }\n",
       "\n",
       "    .dataframe tbody tr th {\n",
       "        vertical-align: top;\n",
       "    }\n",
       "\n",
       "    .dataframe thead th {\n",
       "        text-align: right;\n",
       "    }\n",
       "</style>\n",
       "<table border=\"1\" class=\"dataframe\">\n",
       "  <thead>\n",
       "    <tr style=\"text-align: right;\">\n",
       "      <th></th>\n",
       "      <th>rownames</th>\n",
       "      <th>Sepal.Length</th>\n",
       "      <th>Sepal.Width</th>\n",
       "      <th>Petal.Length</th>\n",
       "      <th>Petal.Width</th>\n",
       "    </tr>\n",
       "  </thead>\n",
       "  <tbody>\n",
       "    <tr>\n",
       "      <th>22</th>\n",
       "      <td>23</td>\n",
       "      <td>4.6</td>\n",
       "      <td>3.6</td>\n",
       "      <td>1.0</td>\n",
       "      <td>0.2</td>\n",
       "    </tr>\n",
       "    <tr>\n",
       "      <th>15</th>\n",
       "      <td>16</td>\n",
       "      <td>5.7</td>\n",
       "      <td>4.4</td>\n",
       "      <td>1.5</td>\n",
       "      <td>0.4</td>\n",
       "    </tr>\n",
       "    <tr>\n",
       "      <th>65</th>\n",
       "      <td>66</td>\n",
       "      <td>6.7</td>\n",
       "      <td>3.1</td>\n",
       "      <td>4.4</td>\n",
       "      <td>1.4</td>\n",
       "    </tr>\n",
       "    <tr>\n",
       "      <th>11</th>\n",
       "      <td>12</td>\n",
       "      <td>4.8</td>\n",
       "      <td>3.4</td>\n",
       "      <td>1.6</td>\n",
       "      <td>0.2</td>\n",
       "    </tr>\n",
       "    <tr>\n",
       "      <th>42</th>\n",
       "      <td>43</td>\n",
       "      <td>4.4</td>\n",
       "      <td>3.2</td>\n",
       "      <td>1.3</td>\n",
       "      <td>0.2</td>\n",
       "    </tr>\n",
       "  </tbody>\n",
       "</table>\n",
       "</div>\n",
       "    <div class=\"colab-df-buttons\">\n",
       "\n",
       "  <div class=\"colab-df-container\">\n",
       "    <button class=\"colab-df-convert\" onclick=\"convertToInteractive('df-8395d2e8-5110-4be2-9161-a416c97555a1')\"\n",
       "            title=\"Convert this dataframe to an interactive table.\"\n",
       "            style=\"display:none;\">\n",
       "\n",
       "  <svg xmlns=\"http://www.w3.org/2000/svg\" height=\"24px\" viewBox=\"0 -960 960 960\">\n",
       "    <path d=\"M120-120v-720h720v720H120Zm60-500h600v-160H180v160Zm220 220h160v-160H400v160Zm0 220h160v-160H400v160ZM180-400h160v-160H180v160Zm440 0h160v-160H620v160ZM180-180h160v-160H180v160Zm440 0h160v-160H620v160Z\"/>\n",
       "  </svg>\n",
       "    </button>\n",
       "\n",
       "  <style>\n",
       "    .colab-df-container {\n",
       "      display:flex;\n",
       "      gap: 12px;\n",
       "    }\n",
       "\n",
       "    .colab-df-convert {\n",
       "      background-color: #E8F0FE;\n",
       "      border: none;\n",
       "      border-radius: 50%;\n",
       "      cursor: pointer;\n",
       "      display: none;\n",
       "      fill: #1967D2;\n",
       "      height: 32px;\n",
       "      padding: 0 0 0 0;\n",
       "      width: 32px;\n",
       "    }\n",
       "\n",
       "    .colab-df-convert:hover {\n",
       "      background-color: #E2EBFA;\n",
       "      box-shadow: 0px 1px 2px rgba(60, 64, 67, 0.3), 0px 1px 3px 1px rgba(60, 64, 67, 0.15);\n",
       "      fill: #174EA6;\n",
       "    }\n",
       "\n",
       "    .colab-df-buttons div {\n",
       "      margin-bottom: 4px;\n",
       "    }\n",
       "\n",
       "    [theme=dark] .colab-df-convert {\n",
       "      background-color: #3B4455;\n",
       "      fill: #D2E3FC;\n",
       "    }\n",
       "\n",
       "    [theme=dark] .colab-df-convert:hover {\n",
       "      background-color: #434B5C;\n",
       "      box-shadow: 0px 1px 3px 1px rgba(0, 0, 0, 0.15);\n",
       "      filter: drop-shadow(0px 1px 2px rgba(0, 0, 0, 0.3));\n",
       "      fill: #FFFFFF;\n",
       "    }\n",
       "  </style>\n",
       "\n",
       "    <script>\n",
       "      const buttonEl =\n",
       "        document.querySelector('#df-8395d2e8-5110-4be2-9161-a416c97555a1 button.colab-df-convert');\n",
       "      buttonEl.style.display =\n",
       "        google.colab.kernel.accessAllowed ? 'block' : 'none';\n",
       "\n",
       "      async function convertToInteractive(key) {\n",
       "        const element = document.querySelector('#df-8395d2e8-5110-4be2-9161-a416c97555a1');\n",
       "        const dataTable =\n",
       "          await google.colab.kernel.invokeFunction('convertToInteractive',\n",
       "                                                    [key], {});\n",
       "        if (!dataTable) return;\n",
       "\n",
       "        const docLinkHtml = 'Like what you see? Visit the ' +\n",
       "          '<a target=\"_blank\" href=https://colab.research.google.com/notebooks/data_table.ipynb>data table notebook</a>'\n",
       "          + ' to learn more about interactive tables.';\n",
       "        element.innerHTML = '';\n",
       "        dataTable['output_type'] = 'display_data';\n",
       "        await google.colab.output.renderOutput(dataTable, element);\n",
       "        const docLink = document.createElement('div');\n",
       "        docLink.innerHTML = docLinkHtml;\n",
       "        element.appendChild(docLink);\n",
       "      }\n",
       "    </script>\n",
       "  </div>\n",
       "\n",
       "\n",
       "<div id=\"df-60eacc5f-7b1c-4a51-928e-9f0d90957b52\">\n",
       "  <button class=\"colab-df-quickchart\" onclick=\"quickchart('df-60eacc5f-7b1c-4a51-928e-9f0d90957b52')\"\n",
       "            title=\"Suggest charts\"\n",
       "            style=\"display:none;\">\n",
       "\n",
       "<svg xmlns=\"http://www.w3.org/2000/svg\" height=\"24px\"viewBox=\"0 0 24 24\"\n",
       "     width=\"24px\">\n",
       "    <g>\n",
       "        <path d=\"M19 3H5c-1.1 0-2 .9-2 2v14c0 1.1.9 2 2 2h14c1.1 0 2-.9 2-2V5c0-1.1-.9-2-2-2zM9 17H7v-7h2v7zm4 0h-2V7h2v10zm4 0h-2v-4h2v4z\"/>\n",
       "    </g>\n",
       "</svg>\n",
       "  </button>\n",
       "\n",
       "<style>\n",
       "  .colab-df-quickchart {\n",
       "      --bg-color: #E8F0FE;\n",
       "      --fill-color: #1967D2;\n",
       "      --hover-bg-color: #E2EBFA;\n",
       "      --hover-fill-color: #174EA6;\n",
       "      --disabled-fill-color: #AAA;\n",
       "      --disabled-bg-color: #DDD;\n",
       "  }\n",
       "\n",
       "  [theme=dark] .colab-df-quickchart {\n",
       "      --bg-color: #3B4455;\n",
       "      --fill-color: #D2E3FC;\n",
       "      --hover-bg-color: #434B5C;\n",
       "      --hover-fill-color: #FFFFFF;\n",
       "      --disabled-bg-color: #3B4455;\n",
       "      --disabled-fill-color: #666;\n",
       "  }\n",
       "\n",
       "  .colab-df-quickchart {\n",
       "    background-color: var(--bg-color);\n",
       "    border: none;\n",
       "    border-radius: 50%;\n",
       "    cursor: pointer;\n",
       "    display: none;\n",
       "    fill: var(--fill-color);\n",
       "    height: 32px;\n",
       "    padding: 0;\n",
       "    width: 32px;\n",
       "  }\n",
       "\n",
       "  .colab-df-quickchart:hover {\n",
       "    background-color: var(--hover-bg-color);\n",
       "    box-shadow: 0 1px 2px rgba(60, 64, 67, 0.3), 0 1px 3px 1px rgba(60, 64, 67, 0.15);\n",
       "    fill: var(--button-hover-fill-color);\n",
       "  }\n",
       "\n",
       "  .colab-df-quickchart-complete:disabled,\n",
       "  .colab-df-quickchart-complete:disabled:hover {\n",
       "    background-color: var(--disabled-bg-color);\n",
       "    fill: var(--disabled-fill-color);\n",
       "    box-shadow: none;\n",
       "  }\n",
       "\n",
       "  .colab-df-spinner {\n",
       "    border: 2px solid var(--fill-color);\n",
       "    border-color: transparent;\n",
       "    border-bottom-color: var(--fill-color);\n",
       "    animation:\n",
       "      spin 1s steps(1) infinite;\n",
       "  }\n",
       "\n",
       "  @keyframes spin {\n",
       "    0% {\n",
       "      border-color: transparent;\n",
       "      border-bottom-color: var(--fill-color);\n",
       "      border-left-color: var(--fill-color);\n",
       "    }\n",
       "    20% {\n",
       "      border-color: transparent;\n",
       "      border-left-color: var(--fill-color);\n",
       "      border-top-color: var(--fill-color);\n",
       "    }\n",
       "    30% {\n",
       "      border-color: transparent;\n",
       "      border-left-color: var(--fill-color);\n",
       "      border-top-color: var(--fill-color);\n",
       "      border-right-color: var(--fill-color);\n",
       "    }\n",
       "    40% {\n",
       "      border-color: transparent;\n",
       "      border-right-color: var(--fill-color);\n",
       "      border-top-color: var(--fill-color);\n",
       "    }\n",
       "    60% {\n",
       "      border-color: transparent;\n",
       "      border-right-color: var(--fill-color);\n",
       "    }\n",
       "    80% {\n",
       "      border-color: transparent;\n",
       "      border-right-color: var(--fill-color);\n",
       "      border-bottom-color: var(--fill-color);\n",
       "    }\n",
       "    90% {\n",
       "      border-color: transparent;\n",
       "      border-bottom-color: var(--fill-color);\n",
       "    }\n",
       "  }\n",
       "</style>\n",
       "\n",
       "  <script>\n",
       "    async function quickchart(key) {\n",
       "      const quickchartButtonEl =\n",
       "        document.querySelector('#' + key + ' button');\n",
       "      quickchartButtonEl.disabled = true;  // To prevent multiple clicks.\n",
       "      quickchartButtonEl.classList.add('colab-df-spinner');\n",
       "      try {\n",
       "        const charts = await google.colab.kernel.invokeFunction(\n",
       "            'suggestCharts', [key], {});\n",
       "      } catch (error) {\n",
       "        console.error('Error during call to suggestCharts:', error);\n",
       "      }\n",
       "      quickchartButtonEl.classList.remove('colab-df-spinner');\n",
       "      quickchartButtonEl.classList.add('colab-df-quickchart-complete');\n",
       "    }\n",
       "    (() => {\n",
       "      let quickchartButtonEl =\n",
       "        document.querySelector('#df-60eacc5f-7b1c-4a51-928e-9f0d90957b52 button');\n",
       "      quickchartButtonEl.style.display =\n",
       "        google.colab.kernel.accessAllowed ? 'block' : 'none';\n",
       "    })();\n",
       "  </script>\n",
       "</div>\n",
       "    </div>\n",
       "  </div>\n"
      ],
      "text/plain": [
       "    rownames  Sepal.Length  Sepal.Width  Petal.Length  Petal.Width\n",
       "22        23           4.6          3.6           1.0          0.2\n",
       "15        16           5.7          4.4           1.5          0.4\n",
       "65        66           6.7          3.1           4.4          1.4\n",
       "11        12           4.8          3.4           1.6          0.2\n",
       "42        43           4.4          3.2           1.3          0.2"
      ]
     },
     "execution_count": 34,
     "metadata": {},
     "output_type": "execute_result"
    }
   ],
   "source": [
    "# Train test split\n",
    "X_train, X_test, y_train, y_test = train_test_split(iris_X, iris_y_converted, test_size=0.2, random_state=42)\n",
    "X_train.head(5)\n"
   ]
  },
  {
   "cell_type": "code",
   "execution_count": 35,
   "id": "d1c1306b",
   "metadata": {
    "colab": {
     "base_uri": "https://localhost:8080/",
     "height": 206
    },
    "id": "d1c1306b",
    "outputId": "0bc94c14-f9f9-4b41-cf5a-7c239c158346"
   },
   "outputs": [
    {
     "data": {
      "text/html": [
       "\n",
       "  <div id=\"df-6a92e4f2-e59c-4990-bf93-22334f85d644\" class=\"colab-df-container\">\n",
       "    <div>\n",
       "<style scoped>\n",
       "    .dataframe tbody tr th:only-of-type {\n",
       "        vertical-align: middle;\n",
       "    }\n",
       "\n",
       "    .dataframe tbody tr th {\n",
       "        vertical-align: top;\n",
       "    }\n",
       "\n",
       "    .dataframe thead th {\n",
       "        text-align: right;\n",
       "    }\n",
       "</style>\n",
       "<table border=\"1\" class=\"dataframe\">\n",
       "  <thead>\n",
       "    <tr style=\"text-align: right;\">\n",
       "      <th></th>\n",
       "      <th>setosa</th>\n",
       "      <th>versicolor</th>\n",
       "      <th>virginica</th>\n",
       "    </tr>\n",
       "  </thead>\n",
       "  <tbody>\n",
       "    <tr>\n",
       "      <th>22</th>\n",
       "      <td>1</td>\n",
       "      <td>0</td>\n",
       "      <td>0</td>\n",
       "    </tr>\n",
       "    <tr>\n",
       "      <th>15</th>\n",
       "      <td>1</td>\n",
       "      <td>0</td>\n",
       "      <td>0</td>\n",
       "    </tr>\n",
       "    <tr>\n",
       "      <th>65</th>\n",
       "      <td>0</td>\n",
       "      <td>1</td>\n",
       "      <td>0</td>\n",
       "    </tr>\n",
       "    <tr>\n",
       "      <th>11</th>\n",
       "      <td>1</td>\n",
       "      <td>0</td>\n",
       "      <td>0</td>\n",
       "    </tr>\n",
       "    <tr>\n",
       "      <th>42</th>\n",
       "      <td>1</td>\n",
       "      <td>0</td>\n",
       "      <td>0</td>\n",
       "    </tr>\n",
       "  </tbody>\n",
       "</table>\n",
       "</div>\n",
       "    <div class=\"colab-df-buttons\">\n",
       "\n",
       "  <div class=\"colab-df-container\">\n",
       "    <button class=\"colab-df-convert\" onclick=\"convertToInteractive('df-6a92e4f2-e59c-4990-bf93-22334f85d644')\"\n",
       "            title=\"Convert this dataframe to an interactive table.\"\n",
       "            style=\"display:none;\">\n",
       "\n",
       "  <svg xmlns=\"http://www.w3.org/2000/svg\" height=\"24px\" viewBox=\"0 -960 960 960\">\n",
       "    <path d=\"M120-120v-720h720v720H120Zm60-500h600v-160H180v160Zm220 220h160v-160H400v160Zm0 220h160v-160H400v160ZM180-400h160v-160H180v160Zm440 0h160v-160H620v160ZM180-180h160v-160H180v160Zm440 0h160v-160H620v160Z\"/>\n",
       "  </svg>\n",
       "    </button>\n",
       "\n",
       "  <style>\n",
       "    .colab-df-container {\n",
       "      display:flex;\n",
       "      gap: 12px;\n",
       "    }\n",
       "\n",
       "    .colab-df-convert {\n",
       "      background-color: #E8F0FE;\n",
       "      border: none;\n",
       "      border-radius: 50%;\n",
       "      cursor: pointer;\n",
       "      display: none;\n",
       "      fill: #1967D2;\n",
       "      height: 32px;\n",
       "      padding: 0 0 0 0;\n",
       "      width: 32px;\n",
       "    }\n",
       "\n",
       "    .colab-df-convert:hover {\n",
       "      background-color: #E2EBFA;\n",
       "      box-shadow: 0px 1px 2px rgba(60, 64, 67, 0.3), 0px 1px 3px 1px rgba(60, 64, 67, 0.15);\n",
       "      fill: #174EA6;\n",
       "    }\n",
       "\n",
       "    .colab-df-buttons div {\n",
       "      margin-bottom: 4px;\n",
       "    }\n",
       "\n",
       "    [theme=dark] .colab-df-convert {\n",
       "      background-color: #3B4455;\n",
       "      fill: #D2E3FC;\n",
       "    }\n",
       "\n",
       "    [theme=dark] .colab-df-convert:hover {\n",
       "      background-color: #434B5C;\n",
       "      box-shadow: 0px 1px 3px 1px rgba(0, 0, 0, 0.15);\n",
       "      filter: drop-shadow(0px 1px 2px rgba(0, 0, 0, 0.3));\n",
       "      fill: #FFFFFF;\n",
       "    }\n",
       "  </style>\n",
       "\n",
       "    <script>\n",
       "      const buttonEl =\n",
       "        document.querySelector('#df-6a92e4f2-e59c-4990-bf93-22334f85d644 button.colab-df-convert');\n",
       "      buttonEl.style.display =\n",
       "        google.colab.kernel.accessAllowed ? 'block' : 'none';\n",
       "\n",
       "      async function convertToInteractive(key) {\n",
       "        const element = document.querySelector('#df-6a92e4f2-e59c-4990-bf93-22334f85d644');\n",
       "        const dataTable =\n",
       "          await google.colab.kernel.invokeFunction('convertToInteractive',\n",
       "                                                    [key], {});\n",
       "        if (!dataTable) return;\n",
       "\n",
       "        const docLinkHtml = 'Like what you see? Visit the ' +\n",
       "          '<a target=\"_blank\" href=https://colab.research.google.com/notebooks/data_table.ipynb>data table notebook</a>'\n",
       "          + ' to learn more about interactive tables.';\n",
       "        element.innerHTML = '';\n",
       "        dataTable['output_type'] = 'display_data';\n",
       "        await google.colab.output.renderOutput(dataTable, element);\n",
       "        const docLink = document.createElement('div');\n",
       "        docLink.innerHTML = docLinkHtml;\n",
       "        element.appendChild(docLink);\n",
       "      }\n",
       "    </script>\n",
       "  </div>\n",
       "\n",
       "\n",
       "<div id=\"df-d475b2c8-9503-473d-9edf-e563d0d3ed96\">\n",
       "  <button class=\"colab-df-quickchart\" onclick=\"quickchart('df-d475b2c8-9503-473d-9edf-e563d0d3ed96')\"\n",
       "            title=\"Suggest charts\"\n",
       "            style=\"display:none;\">\n",
       "\n",
       "<svg xmlns=\"http://www.w3.org/2000/svg\" height=\"24px\"viewBox=\"0 0 24 24\"\n",
       "     width=\"24px\">\n",
       "    <g>\n",
       "        <path d=\"M19 3H5c-1.1 0-2 .9-2 2v14c0 1.1.9 2 2 2h14c1.1 0 2-.9 2-2V5c0-1.1-.9-2-2-2zM9 17H7v-7h2v7zm4 0h-2V7h2v10zm4 0h-2v-4h2v4z\"/>\n",
       "    </g>\n",
       "</svg>\n",
       "  </button>\n",
       "\n",
       "<style>\n",
       "  .colab-df-quickchart {\n",
       "      --bg-color: #E8F0FE;\n",
       "      --fill-color: #1967D2;\n",
       "      --hover-bg-color: #E2EBFA;\n",
       "      --hover-fill-color: #174EA6;\n",
       "      --disabled-fill-color: #AAA;\n",
       "      --disabled-bg-color: #DDD;\n",
       "  }\n",
       "\n",
       "  [theme=dark] .colab-df-quickchart {\n",
       "      --bg-color: #3B4455;\n",
       "      --fill-color: #D2E3FC;\n",
       "      --hover-bg-color: #434B5C;\n",
       "      --hover-fill-color: #FFFFFF;\n",
       "      --disabled-bg-color: #3B4455;\n",
       "      --disabled-fill-color: #666;\n",
       "  }\n",
       "\n",
       "  .colab-df-quickchart {\n",
       "    background-color: var(--bg-color);\n",
       "    border: none;\n",
       "    border-radius: 50%;\n",
       "    cursor: pointer;\n",
       "    display: none;\n",
       "    fill: var(--fill-color);\n",
       "    height: 32px;\n",
       "    padding: 0;\n",
       "    width: 32px;\n",
       "  }\n",
       "\n",
       "  .colab-df-quickchart:hover {\n",
       "    background-color: var(--hover-bg-color);\n",
       "    box-shadow: 0 1px 2px rgba(60, 64, 67, 0.3), 0 1px 3px 1px rgba(60, 64, 67, 0.15);\n",
       "    fill: var(--button-hover-fill-color);\n",
       "  }\n",
       "\n",
       "  .colab-df-quickchart-complete:disabled,\n",
       "  .colab-df-quickchart-complete:disabled:hover {\n",
       "    background-color: var(--disabled-bg-color);\n",
       "    fill: var(--disabled-fill-color);\n",
       "    box-shadow: none;\n",
       "  }\n",
       "\n",
       "  .colab-df-spinner {\n",
       "    border: 2px solid var(--fill-color);\n",
       "    border-color: transparent;\n",
       "    border-bottom-color: var(--fill-color);\n",
       "    animation:\n",
       "      spin 1s steps(1) infinite;\n",
       "  }\n",
       "\n",
       "  @keyframes spin {\n",
       "    0% {\n",
       "      border-color: transparent;\n",
       "      border-bottom-color: var(--fill-color);\n",
       "      border-left-color: var(--fill-color);\n",
       "    }\n",
       "    20% {\n",
       "      border-color: transparent;\n",
       "      border-left-color: var(--fill-color);\n",
       "      border-top-color: var(--fill-color);\n",
       "    }\n",
       "    30% {\n",
       "      border-color: transparent;\n",
       "      border-left-color: var(--fill-color);\n",
       "      border-top-color: var(--fill-color);\n",
       "      border-right-color: var(--fill-color);\n",
       "    }\n",
       "    40% {\n",
       "      border-color: transparent;\n",
       "      border-right-color: var(--fill-color);\n",
       "      border-top-color: var(--fill-color);\n",
       "    }\n",
       "    60% {\n",
       "      border-color: transparent;\n",
       "      border-right-color: var(--fill-color);\n",
       "    }\n",
       "    80% {\n",
       "      border-color: transparent;\n",
       "      border-right-color: var(--fill-color);\n",
       "      border-bottom-color: var(--fill-color);\n",
       "    }\n",
       "    90% {\n",
       "      border-color: transparent;\n",
       "      border-bottom-color: var(--fill-color);\n",
       "    }\n",
       "  }\n",
       "</style>\n",
       "\n",
       "  <script>\n",
       "    async function quickchart(key) {\n",
       "      const quickchartButtonEl =\n",
       "        document.querySelector('#' + key + ' button');\n",
       "      quickchartButtonEl.disabled = true;  // To prevent multiple clicks.\n",
       "      quickchartButtonEl.classList.add('colab-df-spinner');\n",
       "      try {\n",
       "        const charts = await google.colab.kernel.invokeFunction(\n",
       "            'suggestCharts', [key], {});\n",
       "      } catch (error) {\n",
       "        console.error('Error during call to suggestCharts:', error);\n",
       "      }\n",
       "      quickchartButtonEl.classList.remove('colab-df-spinner');\n",
       "      quickchartButtonEl.classList.add('colab-df-quickchart-complete');\n",
       "    }\n",
       "    (() => {\n",
       "      let quickchartButtonEl =\n",
       "        document.querySelector('#df-d475b2c8-9503-473d-9edf-e563d0d3ed96 button');\n",
       "      quickchartButtonEl.style.display =\n",
       "        google.colab.kernel.accessAllowed ? 'block' : 'none';\n",
       "    })();\n",
       "  </script>\n",
       "</div>\n",
       "    </div>\n",
       "  </div>\n"
      ],
      "text/plain": [
       "    setosa  versicolor  virginica\n",
       "22       1           0          0\n",
       "15       1           0          0\n",
       "65       0           1          0\n",
       "11       1           0          0\n",
       "42       1           0          0"
      ]
     },
     "execution_count": 35,
     "metadata": {},
     "output_type": "execute_result"
    }
   ],
   "source": [
    "y_train.head(5)"
   ]
  },
  {
   "cell_type": "code",
   "execution_count": 36,
   "id": "592d3559",
   "metadata": {
    "colab": {
     "base_uri": "https://localhost:8080/"
    },
    "id": "592d3559",
    "outputId": "9fbe71c3-0ca1-4ea0-e118-4571790f129a"
   },
   "outputs": [
    {
     "name": "stdout",
     "output_type": "stream",
     "text": [
      "X train shape:  (120, 5)\n"
     ]
    }
   ],
   "source": [
    "# Scale my X data\n",
    "sc = StandardScaler()\n",
    "sc.fit(X_train)\n",
    "X_test_scaled = sc.transform(X_test)\n",
    "X_train_scaled = sc.transform(X_train)\n",
    "\n",
    "print(\"X train shape: \", X_train_scaled.shape)"
   ]
  },
  {
   "cell_type": "markdown",
   "id": "5dc723f9",
   "metadata": {
    "id": "5dc723f9"
   },
   "source": [
    "### Model 1: two hidden layers"
   ]
  },
  {
   "cell_type": "code",
   "execution_count": 37,
   "id": "VyKIvdmwjD-2",
   "metadata": {
    "colab": {
     "base_uri": "https://localhost:8080/"
    },
    "id": "VyKIvdmwjD-2",
    "outputId": "2979eefc-076d-4fd4-f518-25c41a10843b"
   },
   "outputs": [
    {
     "name": "stdout",
     "output_type": "stream",
     "text": [
      "Epoch 1/20\n",
      "1/1 [==============================] - 1s 769ms/step - loss: 1.1902 - accuracy: 0.2917 - val_loss: 1.2775 - val_accuracy: 0.2500\n",
      "Epoch 2/20\n",
      "1/1 [==============================] - 0s 37ms/step - loss: 1.1901 - accuracy: 0.2917 - val_loss: 1.2774 - val_accuracy: 0.2500\n",
      "Epoch 3/20\n",
      "1/1 [==============================] - 0s 42ms/step - loss: 1.1899 - accuracy: 0.2917 - val_loss: 1.2773 - val_accuracy: 0.2500\n",
      "Epoch 4/20\n",
      "1/1 [==============================] - 0s 38ms/step - loss: 1.1898 - accuracy: 0.2917 - val_loss: 1.2771 - val_accuracy: 0.2500\n",
      "Epoch 5/20\n",
      "1/1 [==============================] - 0s 35ms/step - loss: 1.1896 - accuracy: 0.2917 - val_loss: 1.2770 - val_accuracy: 0.2500\n",
      "Epoch 6/20\n",
      "1/1 [==============================] - 0s 42ms/step - loss: 1.1895 - accuracy: 0.2917 - val_loss: 1.2769 - val_accuracy: 0.2500\n",
      "Epoch 7/20\n",
      "1/1 [==============================] - 0s 45ms/step - loss: 1.1894 - accuracy: 0.2917 - val_loss: 1.2767 - val_accuracy: 0.2500\n",
      "Epoch 8/20\n",
      "1/1 [==============================] - 0s 41ms/step - loss: 1.1892 - accuracy: 0.2917 - val_loss: 1.2766 - val_accuracy: 0.2500\n",
      "Epoch 9/20\n",
      "1/1 [==============================] - 0s 39ms/step - loss: 1.1891 - accuracy: 0.2917 - val_loss: 1.2765 - val_accuracy: 0.2500\n",
      "Epoch 10/20\n",
      "1/1 [==============================] - 0s 37ms/step - loss: 1.1889 - accuracy: 0.2917 - val_loss: 1.2763 - val_accuracy: 0.2500\n",
      "Epoch 11/20\n",
      "1/1 [==============================] - 0s 38ms/step - loss: 1.1888 - accuracy: 0.2917 - val_loss: 1.2762 - val_accuracy: 0.2500\n",
      "Epoch 12/20\n",
      "1/1 [==============================] - 0s 38ms/step - loss: 1.1887 - accuracy: 0.2917 - val_loss: 1.2761 - val_accuracy: 0.2500\n",
      "Epoch 13/20\n",
      "1/1 [==============================] - 0s 38ms/step - loss: 1.1885 - accuracy: 0.2917 - val_loss: 1.2759 - val_accuracy: 0.2500\n",
      "Epoch 14/20\n",
      "1/1 [==============================] - 0s 55ms/step - loss: 1.1884 - accuracy: 0.2917 - val_loss: 1.2758 - val_accuracy: 0.2500\n",
      "Epoch 15/20\n",
      "1/1 [==============================] - 0s 55ms/step - loss: 1.1882 - accuracy: 0.2917 - val_loss: 1.2757 - val_accuracy: 0.2500\n",
      "Epoch 16/20\n",
      "1/1 [==============================] - 0s 36ms/step - loss: 1.1881 - accuracy: 0.2917 - val_loss: 1.2756 - val_accuracy: 0.2500\n",
      "Epoch 17/20\n",
      "1/1 [==============================] - 0s 38ms/step - loss: 1.1880 - accuracy: 0.2917 - val_loss: 1.2754 - val_accuracy: 0.2500\n",
      "Epoch 18/20\n",
      "1/1 [==============================] - 0s 37ms/step - loss: 1.1878 - accuracy: 0.3021 - val_loss: 1.2753 - val_accuracy: 0.2500\n",
      "Epoch 19/20\n",
      "1/1 [==============================] - 0s 54ms/step - loss: 1.1877 - accuracy: 0.3021 - val_loss: 1.2752 - val_accuracy: 0.2500\n",
      "Epoch 20/20\n",
      "1/1 [==============================] - 0s 35ms/step - loss: 1.1876 - accuracy: 0.3021 - val_loss: 1.2750 - val_accuracy: 0.2500\n"
     ]
    },
    {
     "data": {
      "text/plain": [
       "<keras.src.callbacks.History at 0x7a357af58fd0>"
      ]
     },
     "execution_count": 37,
     "metadata": {},
     "output_type": "execute_result"
    }
   ],
   "source": [
    "# Build and train the first model with two hidden layers\n",
    "model_1 = Sequential()\n",
    "model_1.add(Dense(64, input_dim=5, activation='relu'))\n",
    "model_1.add(Dense(64, input_dim=5, activation='relu'))\n",
    "model_1.add(Dense(3, activation='softmax'))\n",
    "\n",
    "sgd = SGD(learning_rate=0.0001)\n",
    "model_1.compile(optimizer=sgd, loss='categorical_crossentropy', metrics=['accuracy'])\n",
    "\n",
    "model_1.fit(X_train_scaled, y_train, epochs=20, batch_size=128, validation_split=0.2)"
   ]
  },
  {
   "cell_type": "code",
   "execution_count": 38,
   "id": "391f3aeb",
   "metadata": {
    "colab": {
     "base_uri": "https://localhost:8080/"
    },
    "id": "391f3aeb",
    "outputId": "7106bc43-8757-4ea8-f818-3a3b5e37d798"
   },
   "outputs": [
    {
     "name": "stdout",
     "output_type": "stream",
     "text": [
      "1/1 [==============================] - 0s 26ms/step - loss: 1.2396 - accuracy: 0.2667\n",
      "[1.2395824193954468, 0.2666666805744171]\n"
     ]
    }
   ],
   "source": [
    "score_1 = model_1.evaluate(X_test_scaled, y_test, batch_size=128)\n",
    "print(score_1)\n"
   ]
  },
  {
   "cell_type": "code",
   "execution_count": 39,
   "id": "5c8378bc",
   "metadata": {
    "colab": {
     "base_uri": "https://localhost:8080/"
    },
    "id": "5c8378bc",
    "outputId": "50ae072e-18c4-428a-800d-c5c40abd3810"
   },
   "outputs": [
    {
     "name": "stdout",
     "output_type": "stream",
     "text": [
      "Model: \"sequential\"\n",
      "_________________________________________________________________\n",
      " Layer (type)                Output Shape              Param #   \n",
      "=================================================================\n",
      " dense (Dense)               (None, 64)                384       \n",
      "                                                                 \n",
      " dense_1 (Dense)             (None, 64)                4160      \n",
      "                                                                 \n",
      " dense_2 (Dense)             (None, 3)                 195       \n",
      "                                                                 \n",
      "=================================================================\n",
      "Total params: 4739 (18.51 KB)\n",
      "Trainable params: 4739 (18.51 KB)\n",
      "Non-trainable params: 0 (0.00 Byte)\n",
      "_________________________________________________________________\n"
     ]
    }
   ],
   "source": [
    "model_1.summary()\n"
   ]
  },
  {
   "cell_type": "markdown",
   "id": "g9I6iKlplfaU",
   "metadata": {
    "id": "g9I6iKlplfaU"
   },
   "source": [
    "### Model 2: Build and train the second model with different hidden layers/neurons\n"
   ]
  },
  {
   "cell_type": "code",
   "execution_count": 40,
   "id": "286f33ad",
   "metadata": {
    "colab": {
     "base_uri": "https://localhost:8080/"
    },
    "id": "286f33ad",
    "outputId": "12f111ba-a718-401b-b86a-ed973582a967"
   },
   "outputs": [
    {
     "name": "stdout",
     "output_type": "stream",
     "text": [
      "Epoch 1/20\n",
      "1/1 [==============================] - 1s 744ms/step - loss: 1.0540 - accuracy: 0.5104 - val_loss: 1.0497 - val_accuracy: 0.5417\n",
      "Epoch 2/20\n",
      "1/1 [==============================] - 0s 44ms/step - loss: 1.0540 - accuracy: 0.5104 - val_loss: 1.0497 - val_accuracy: 0.5417\n",
      "Epoch 3/20\n",
      "1/1 [==============================] - 0s 41ms/step - loss: 1.0539 - accuracy: 0.5104 - val_loss: 1.0497 - val_accuracy: 0.5417\n",
      "Epoch 4/20\n",
      "1/1 [==============================] - 0s 52ms/step - loss: 1.0539 - accuracy: 0.5104 - val_loss: 1.0496 - val_accuracy: 0.5417\n",
      "Epoch 5/20\n",
      "1/1 [==============================] - 0s 37ms/step - loss: 1.0538 - accuracy: 0.5104 - val_loss: 1.0496 - val_accuracy: 0.5417\n",
      "Epoch 6/20\n",
      "1/1 [==============================] - 0s 54ms/step - loss: 1.0538 - accuracy: 0.5104 - val_loss: 1.0495 - val_accuracy: 0.5417\n",
      "Epoch 7/20\n",
      "1/1 [==============================] - 0s 40ms/step - loss: 1.0537 - accuracy: 0.5104 - val_loss: 1.0495 - val_accuracy: 0.5417\n",
      "Epoch 8/20\n",
      "1/1 [==============================] - 0s 35ms/step - loss: 1.0537 - accuracy: 0.5104 - val_loss: 1.0494 - val_accuracy: 0.5417\n",
      "Epoch 9/20\n",
      "1/1 [==============================] - 0s 38ms/step - loss: 1.0536 - accuracy: 0.5104 - val_loss: 1.0494 - val_accuracy: 0.5417\n",
      "Epoch 10/20\n",
      "1/1 [==============================] - 0s 43ms/step - loss: 1.0536 - accuracy: 0.5104 - val_loss: 1.0493 - val_accuracy: 0.5417\n",
      "Epoch 11/20\n",
      "1/1 [==============================] - 0s 37ms/step - loss: 1.0535 - accuracy: 0.5104 - val_loss: 1.0493 - val_accuracy: 0.5417\n",
      "Epoch 12/20\n",
      "1/1 [==============================] - 0s 56ms/step - loss: 1.0535 - accuracy: 0.5208 - val_loss: 1.0492 - val_accuracy: 0.5417\n",
      "Epoch 13/20\n",
      "1/1 [==============================] - 0s 53ms/step - loss: 1.0534 - accuracy: 0.5208 - val_loss: 1.0492 - val_accuracy: 0.5417\n",
      "Epoch 14/20\n",
      "1/1 [==============================] - 0s 57ms/step - loss: 1.0533 - accuracy: 0.5208 - val_loss: 1.0491 - val_accuracy: 0.5417\n",
      "Epoch 15/20\n",
      "1/1 [==============================] - 0s 56ms/step - loss: 1.0533 - accuracy: 0.5208 - val_loss: 1.0491 - val_accuracy: 0.5417\n",
      "Epoch 16/20\n",
      "1/1 [==============================] - 0s 43ms/step - loss: 1.0532 - accuracy: 0.5208 - val_loss: 1.0490 - val_accuracy: 0.5417\n",
      "Epoch 17/20\n",
      "1/1 [==============================] - 0s 60ms/step - loss: 1.0532 - accuracy: 0.5312 - val_loss: 1.0490 - val_accuracy: 0.5417\n",
      "Epoch 18/20\n",
      "1/1 [==============================] - 0s 62ms/step - loss: 1.0531 - accuracy: 0.5312 - val_loss: 1.0489 - val_accuracy: 0.5417\n",
      "Epoch 19/20\n",
      "1/1 [==============================] - 0s 64ms/step - loss: 1.0531 - accuracy: 0.5312 - val_loss: 1.0489 - val_accuracy: 0.5417\n",
      "Epoch 20/20\n",
      "1/1 [==============================] - 0s 44ms/step - loss: 1.0530 - accuracy: 0.5312 - val_loss: 1.0488 - val_accuracy: 0.5417\n"
     ]
    },
    {
     "data": {
      "text/plain": [
       "<keras.src.callbacks.History at 0x7a357c4535b0>"
      ]
     },
     "execution_count": 40,
     "metadata": {},
     "output_type": "execute_result"
    }
   ],
   "source": [
    "# Model 2\n",
    "model_2 = Sequential()\n",
    "model_2.add(Dense(32, input_dim=5, activation='relu'))\n",
    "model_2.add(Dense(32, input_dim=5, activation='relu'))\n",
    "model_2.add(Dense(32, input_dim=5, activation='relu'))\n",
    "model_2.add(Dense(3, activation='softmax'))\n",
    "\n",
    "sgd = SGD(learning_rate=0.0001)\n",
    "model_2.compile(loss='categorical_crossentropy', optimizer=sgd, metrics=['accuracy'])\n",
    "\n",
    "model_2.fit(X_train_scaled, y_train, epochs=20, batch_size=128, validation_split=0.2)\n"
   ]
  },
  {
   "cell_type": "code",
   "execution_count": 41,
   "id": "e-58MZmcmsmz",
   "metadata": {
    "colab": {
     "base_uri": "https://localhost:8080/"
    },
    "id": "e-58MZmcmsmz",
    "outputId": "7e7c28a2-38cf-4623-d19b-6d1361447d66"
   },
   "outputs": [
    {
     "name": "stdout",
     "output_type": "stream",
     "text": [
      "1/1 [==============================] - 0s 30ms/step - loss: 1.0431 - accuracy: 0.5333\n",
      "[1.0431462526321411, 0.5333333611488342]\n"
     ]
    }
   ],
   "source": [
    "score = model_2.evaluate(X_test_scaled, y_test, batch_size=128)\n",
    "print(score)"
   ]
  },
  {
   "cell_type": "code",
   "execution_count": 42,
   "id": "SXi6j-5JmspB",
   "metadata": {
    "colab": {
     "base_uri": "https://localhost:8080/"
    },
    "id": "SXi6j-5JmspB",
    "outputId": "fe6c0e60-aa03-4770-ec34-e6462bd266b9"
   },
   "outputs": [
    {
     "name": "stdout",
     "output_type": "stream",
     "text": [
      "Model: \"sequential_1\"\n",
      "_________________________________________________________________\n",
      " Layer (type)                Output Shape              Param #   \n",
      "=================================================================\n",
      " dense_3 (Dense)             (None, 32)                192       \n",
      "                                                                 \n",
      " dense_4 (Dense)             (None, 32)                1056      \n",
      "                                                                 \n",
      " dense_5 (Dense)             (None, 32)                1056      \n",
      "                                                                 \n",
      " dense_6 (Dense)             (None, 3)                 99        \n",
      "                                                                 \n",
      "=================================================================\n",
      "Total params: 2403 (9.39 KB)\n",
      "Trainable params: 2403 (9.39 KB)\n",
      "Non-trainable params: 0 (0.00 Byte)\n",
      "_________________________________________________________________\n"
     ]
    }
   ],
   "source": [
    "model_2.summary()\n"
   ]
  },
  {
   "cell_type": "code",
   "execution_count": 43,
   "id": "UE6PFp4QuiVE",
   "metadata": {
    "id": "UE6PFp4QuiVE"
   },
   "outputs": [],
   "source": [
    "# transform my y_test into labels\n",
    "y_test_converted = y_test.idxmax(axis=1)\n",
    "y_test_converted = y_test_converted.replace(\"setosa\", 0)\n",
    "y_test_converted = y_test_converted.replace(\"versicolor\", 1)\n",
    "y_test_converted = y_test_converted.replace(\"virginica\", 2)"
   ]
  },
  {
   "cell_type": "code",
   "execution_count": 44,
   "id": "5e169ec6",
   "metadata": {
    "colab": {
     "base_uri": "https://localhost:8080/"
    },
    "id": "5e169ec6",
    "outputId": "57afa5bd-95b1-4329-bb6a-80c4aae01b8d"
   },
   "outputs": [
    {
     "name": "stdout",
     "output_type": "stream",
     "text": [
      "1/1 [==============================] - 0s 105ms/step\n",
      "1/1 [==============================] - 0s 79ms/step\n",
      "Model 1 Accuracy: 0.27\n",
      "Model 2 Accuracy: 0.53\n",
      "Model 1 F1 score: 0.20\n",
      "Model 2 F1 score: 0.42\n"
     ]
    }
   ],
   "source": [
    "# Evaluate models on the test set\n",
    "y_prob1 = model_1.predict(X_test_scaled)\n",
    "y_prob2 = model_2.predict(X_test_scaled)\n",
    "\n",
    "# Convert probabilities to class labels\n",
    "y_pred1 = np.argmax(y_prob1, axis=1)\n",
    "y_pred2 = np.argmax(y_prob2, axis=1)\n",
    "\n",
    "accuracy1 = accuracy_score(y_test_converted, y_pred1)\n",
    "accuracy2 = accuracy_score(y_test_converted, y_pred2)\n",
    "\n",
    "f1_score1 = f1_score(y_test_converted, y_pred1, average=\"macro\")\n",
    "f1_score2 = f1_score(y_test_converted, y_pred2, average=\"macro\")\n",
    "\n",
    "print(\"Model 1 Accuracy: {:.2f}\".format(accuracy1))\n",
    "print(\"Model 2 Accuracy: {:.2f}\".format(accuracy2))\n",
    "print(\"Model 1 F1 score: {:.2f}\".format(f1_score1))\n",
    "print(\"Model 2 F1 score: {:.2f}\".format(f1_score2))"
   ]
  },
  {
   "cell_type": "code",
   "execution_count": 45,
   "id": "9c4c8575",
   "metadata": {
    "colab": {
     "base_uri": "https://localhost:8080/"
    },
    "id": "9c4c8575",
    "outputId": "49537377-0309-4a8d-9b57-d8d739e413a2"
   },
   "outputs": [
    {
     "name": "stdout",
     "output_type": "stream",
     "text": [
      "\n",
      "Classification Report:\n",
      "               precision    recall  f1-score   support\n",
      "\n",
      "           0       0.27      0.70      0.39        10\n",
      "           1       1.00      0.11      0.20         9\n",
      "           2       0.00      0.00      0.00        11\n",
      "\n",
      "    accuracy                           0.27        30\n",
      "   macro avg       0.42      0.27      0.20        30\n",
      "weighted avg       0.39      0.27      0.19        30\n",
      "\n",
      "\n",
      "Classification Report:\n",
      "               precision    recall  f1-score   support\n",
      "\n",
      "           0       0.83      0.50      0.62        10\n",
      "           1       0.00      0.00      0.00         9\n",
      "           2       0.48      1.00      0.65        11\n",
      "\n",
      "    accuracy                           0.53        30\n",
      "   macro avg       0.44      0.50      0.42        30\n",
      "weighted avg       0.45      0.53      0.45        30\n",
      "\n"
     ]
    }
   ],
   "source": [
    "classification_rep1 = classification_report(y_test_converted, y_pred1)\n",
    "classification_rep2 = classification_report(y_test_converted, y_pred2)\n",
    "\n",
    "print(\"\\nClassification Report:\\n\", classification_rep1)\n",
    "print(\"\\nClassification Report:\\n\", classification_rep2)"
   ]
  },
  {
   "cell_type": "markdown",
   "id": "FgoWubCe_7tD",
   "metadata": {
    "id": "FgoWubCe_7tD"
   },
   "source": [
    "Model 1:\n",
    "- Accuracy: 0.27\n",
    "- macro avg/F1 score: 0.2\n",
    "\n",
    "Model 2:\n",
    "- Accuracy: 0.53\n",
    "- macro avg/F1 score: 0.42\n",
    "\n",
    "\n",
    "By comparing the results, the model 2 is better since it has larger accuracy and f1 score."
   ]
  },
  {
   "cell_type": "code",
   "execution_count": 45,
   "id": "0QdFjULK1s20",
   "metadata": {
    "id": "0QdFjULK1s20"
   },
   "outputs": [],
   "source": []
  }
 ],
 "metadata": {
  "colab": {
   "provenance": [],
   "toc_visible": true
  },
  "kernelspec": {
   "display_name": "Python 3 (ipykernel)",
   "language": "python",
   "name": "python3"
  },
  "language_info": {
   "codemirror_mode": {
    "name": "ipython",
    "version": 3
   },
   "file_extension": ".py",
   "mimetype": "text/x-python",
   "name": "python",
   "nbconvert_exporter": "python",
   "pygments_lexer": "ipython3",
   "version": "3.11.4"
  }
 },
 "nbformat": 4,
 "nbformat_minor": 5
}
