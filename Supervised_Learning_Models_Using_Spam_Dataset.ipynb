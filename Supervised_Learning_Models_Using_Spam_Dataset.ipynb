{
 "cells": [
  {
   "cell_type": "markdown",
   "metadata": {
    "id": "dLzkhAJXft1A"
   },
   "source": [
    "# Supervised Learning Models Using Spam Dataset"
   ]
  },
  {
   "cell_type": "markdown",
   "metadata": {
    "id": "fQjsQIZWft1D"
   },
   "source": [
    "### Fiona Fang"
   ]
  },
  {
   "cell_type": "markdown",
   "metadata": {
    "id": "ummDcSEtft1D"
   },
   "source": [
    "## 1.  Import the spam dataset and print the first six rows.  "
   ]
  },
  {
   "cell_type": "code",
   "execution_count": 1,
   "metadata": {
    "id": "c5xyjLfDdABa"
   },
   "outputs": [],
   "source": [
    "# Import python libraries\n",
    "import pandas as pd\n",
    "import os\n",
    "import numpy as np\n",
    "import matplotlib.pyplot as plt\n",
    "import seaborn as sns; sns.set()\n",
    "from sklearn.model_selection import cross_val_score\n",
    "from sklearn.model_selection import KFold\n",
    "from sklearn.model_selection import GridSearchCV\n",
    "from sklearn.metrics import accuracy_score\n"
   ]
  },
  {
   "cell_type": "code",
   "execution_count": 2,
   "metadata": {
    "id": "TiScKZsjVfde"
   },
   "outputs": [],
   "source": [
    "import warnings\n",
    "warnings.filterwarnings('ignore')\n"
   ]
  },
  {
   "cell_type": "code",
   "execution_count": 3,
   "metadata": {
    "id": "YKHJcaM5cije"
   },
   "outputs": [],
   "source": [
    "# Read csv file\n",
    "os.chdir(\"/Users/jiaying/Desktop/GR5073_ML/Midterm_Data_export\")\n",
    "df = pd.read_csv(\"spam_dataset.csv\")\n"
   ]
  },
  {
   "cell_type": "code",
   "execution_count": 4,
   "metadata": {
    "colab": {
     "base_uri": "https://localhost:8080/",
     "height": 287
    },
    "id": "iLEmRTeAdUCj",
    "outputId": "120648ad-fdab-48ff-f5eb-310943d369c0"
   },
   "outputs": [
    {
     "data": {
      "text/html": [
       "<div>\n",
       "<style scoped>\n",
       "    .dataframe tbody tr th:only-of-type {\n",
       "        vertical-align: middle;\n",
       "    }\n",
       "\n",
       "    .dataframe tbody tr th {\n",
       "        vertical-align: top;\n",
       "    }\n",
       "\n",
       "    .dataframe thead th {\n",
       "        text-align: right;\n",
       "    }\n",
       "</style>\n",
       "<table border=\"1\" class=\"dataframe\">\n",
       "  <thead>\n",
       "    <tr style=\"text-align: right;\">\n",
       "      <th></th>\n",
       "      <th>word_freq_make:</th>\n",
       "      <th>word_freq_address:</th>\n",
       "      <th>word_freq_all:</th>\n",
       "      <th>word_freq_3d:</th>\n",
       "      <th>word_freq_our:</th>\n",
       "      <th>word_freq_over:</th>\n",
       "      <th>word_freq_remove:</th>\n",
       "      <th>word_freq_internet:</th>\n",
       "      <th>word_freq_order:</th>\n",
       "      <th>word_freq_mail:</th>\n",
       "      <th>...</th>\n",
       "      <th>char_freq_;:</th>\n",
       "      <th>char_freq_(:</th>\n",
       "      <th>char_freq_[:</th>\n",
       "      <th>char_freq_!:</th>\n",
       "      <th>char_freq_$:</th>\n",
       "      <th>char_freq_#:</th>\n",
       "      <th>capital_run_length_average:</th>\n",
       "      <th>capital_run_length_longest:</th>\n",
       "      <th>capital_run_length_total:</th>\n",
       "      <th>spam</th>\n",
       "    </tr>\n",
       "  </thead>\n",
       "  <tbody>\n",
       "    <tr>\n",
       "      <th>0</th>\n",
       "      <td>0.00</td>\n",
       "      <td>0.64</td>\n",
       "      <td>0.64</td>\n",
       "      <td>0.0</td>\n",
       "      <td>0.32</td>\n",
       "      <td>0.00</td>\n",
       "      <td>0.00</td>\n",
       "      <td>0.00</td>\n",
       "      <td>0.00</td>\n",
       "      <td>0.00</td>\n",
       "      <td>...</td>\n",
       "      <td>0.00</td>\n",
       "      <td>0.000</td>\n",
       "      <td>0.0</td>\n",
       "      <td>0.778</td>\n",
       "      <td>0.000</td>\n",
       "      <td>0.000</td>\n",
       "      <td>3.756</td>\n",
       "      <td>61</td>\n",
       "      <td>278</td>\n",
       "      <td>1</td>\n",
       "    </tr>\n",
       "    <tr>\n",
       "      <th>1</th>\n",
       "      <td>0.21</td>\n",
       "      <td>0.28</td>\n",
       "      <td>0.50</td>\n",
       "      <td>0.0</td>\n",
       "      <td>0.14</td>\n",
       "      <td>0.28</td>\n",
       "      <td>0.21</td>\n",
       "      <td>0.07</td>\n",
       "      <td>0.00</td>\n",
       "      <td>0.94</td>\n",
       "      <td>...</td>\n",
       "      <td>0.00</td>\n",
       "      <td>0.132</td>\n",
       "      <td>0.0</td>\n",
       "      <td>0.372</td>\n",
       "      <td>0.180</td>\n",
       "      <td>0.048</td>\n",
       "      <td>5.114</td>\n",
       "      <td>101</td>\n",
       "      <td>1028</td>\n",
       "      <td>1</td>\n",
       "    </tr>\n",
       "    <tr>\n",
       "      <th>2</th>\n",
       "      <td>0.06</td>\n",
       "      <td>0.00</td>\n",
       "      <td>0.71</td>\n",
       "      <td>0.0</td>\n",
       "      <td>1.23</td>\n",
       "      <td>0.19</td>\n",
       "      <td>0.19</td>\n",
       "      <td>0.12</td>\n",
       "      <td>0.64</td>\n",
       "      <td>0.25</td>\n",
       "      <td>...</td>\n",
       "      <td>0.01</td>\n",
       "      <td>0.143</td>\n",
       "      <td>0.0</td>\n",
       "      <td>0.276</td>\n",
       "      <td>0.184</td>\n",
       "      <td>0.010</td>\n",
       "      <td>9.821</td>\n",
       "      <td>485</td>\n",
       "      <td>2259</td>\n",
       "      <td>1</td>\n",
       "    </tr>\n",
       "    <tr>\n",
       "      <th>3</th>\n",
       "      <td>0.00</td>\n",
       "      <td>0.00</td>\n",
       "      <td>0.00</td>\n",
       "      <td>0.0</td>\n",
       "      <td>0.63</td>\n",
       "      <td>0.00</td>\n",
       "      <td>0.31</td>\n",
       "      <td>0.63</td>\n",
       "      <td>0.31</td>\n",
       "      <td>0.63</td>\n",
       "      <td>...</td>\n",
       "      <td>0.00</td>\n",
       "      <td>0.137</td>\n",
       "      <td>0.0</td>\n",
       "      <td>0.137</td>\n",
       "      <td>0.000</td>\n",
       "      <td>0.000</td>\n",
       "      <td>3.537</td>\n",
       "      <td>40</td>\n",
       "      <td>191</td>\n",
       "      <td>1</td>\n",
       "    </tr>\n",
       "    <tr>\n",
       "      <th>4</th>\n",
       "      <td>0.00</td>\n",
       "      <td>0.00</td>\n",
       "      <td>0.00</td>\n",
       "      <td>0.0</td>\n",
       "      <td>0.63</td>\n",
       "      <td>0.00</td>\n",
       "      <td>0.31</td>\n",
       "      <td>0.63</td>\n",
       "      <td>0.31</td>\n",
       "      <td>0.63</td>\n",
       "      <td>...</td>\n",
       "      <td>0.00</td>\n",
       "      <td>0.135</td>\n",
       "      <td>0.0</td>\n",
       "      <td>0.135</td>\n",
       "      <td>0.000</td>\n",
       "      <td>0.000</td>\n",
       "      <td>3.537</td>\n",
       "      <td>40</td>\n",
       "      <td>191</td>\n",
       "      <td>1</td>\n",
       "    </tr>\n",
       "    <tr>\n",
       "      <th>5</th>\n",
       "      <td>0.00</td>\n",
       "      <td>0.00</td>\n",
       "      <td>0.00</td>\n",
       "      <td>0.0</td>\n",
       "      <td>1.85</td>\n",
       "      <td>0.00</td>\n",
       "      <td>0.00</td>\n",
       "      <td>1.85</td>\n",
       "      <td>0.00</td>\n",
       "      <td>0.00</td>\n",
       "      <td>...</td>\n",
       "      <td>0.00</td>\n",
       "      <td>0.223</td>\n",
       "      <td>0.0</td>\n",
       "      <td>0.000</td>\n",
       "      <td>0.000</td>\n",
       "      <td>0.000</td>\n",
       "      <td>3.000</td>\n",
       "      <td>15</td>\n",
       "      <td>54</td>\n",
       "      <td>1</td>\n",
       "    </tr>\n",
       "  </tbody>\n",
       "</table>\n",
       "<p>6 rows × 58 columns</p>\n",
       "</div>"
      ],
      "text/plain": [
       "   word_freq_make:  word_freq_address:  word_freq_all:  word_freq_3d:  \\\n",
       "0             0.00                0.64            0.64            0.0   \n",
       "1             0.21                0.28            0.50            0.0   \n",
       "2             0.06                0.00            0.71            0.0   \n",
       "3             0.00                0.00            0.00            0.0   \n",
       "4             0.00                0.00            0.00            0.0   \n",
       "5             0.00                0.00            0.00            0.0   \n",
       "\n",
       "   word_freq_our:  word_freq_over:  word_freq_remove:  word_freq_internet:  \\\n",
       "0            0.32             0.00               0.00                 0.00   \n",
       "1            0.14             0.28               0.21                 0.07   \n",
       "2            1.23             0.19               0.19                 0.12   \n",
       "3            0.63             0.00               0.31                 0.63   \n",
       "4            0.63             0.00               0.31                 0.63   \n",
       "5            1.85             0.00               0.00                 1.85   \n",
       "\n",
       "   word_freq_order:  word_freq_mail:  ...  char_freq_;:  char_freq_(:  \\\n",
       "0              0.00             0.00  ...          0.00         0.000   \n",
       "1              0.00             0.94  ...          0.00         0.132   \n",
       "2              0.64             0.25  ...          0.01         0.143   \n",
       "3              0.31             0.63  ...          0.00         0.137   \n",
       "4              0.31             0.63  ...          0.00         0.135   \n",
       "5              0.00             0.00  ...          0.00         0.223   \n",
       "\n",
       "   char_freq_[:  char_freq_!:  char_freq_$:  char_freq_#:  \\\n",
       "0           0.0         0.778         0.000         0.000   \n",
       "1           0.0         0.372         0.180         0.048   \n",
       "2           0.0         0.276         0.184         0.010   \n",
       "3           0.0         0.137         0.000         0.000   \n",
       "4           0.0         0.135         0.000         0.000   \n",
       "5           0.0         0.000         0.000         0.000   \n",
       "\n",
       "   capital_run_length_average:  capital_run_length_longest:  \\\n",
       "0                        3.756                           61   \n",
       "1                        5.114                          101   \n",
       "2                        9.821                          485   \n",
       "3                        3.537                           40   \n",
       "4                        3.537                           40   \n",
       "5                        3.000                           15   \n",
       "\n",
       "   capital_run_length_total:  spam  \n",
       "0                        278     1  \n",
       "1                       1028     1  \n",
       "2                       2259     1  \n",
       "3                        191     1  \n",
       "4                        191     1  \n",
       "5                         54     1  \n",
       "\n",
       "[6 rows x 58 columns]"
      ]
     },
     "execution_count": 4,
     "metadata": {},
     "output_type": "execute_result"
    }
   ],
   "source": [
    "# List first 6 records\n",
    "df.head(6)\n"
   ]
  },
  {
   "cell_type": "markdown",
   "metadata": {
    "id": "XTFRAEtwft1G"
   },
   "source": [
    "## 2. Read through the documentation of the original dataset here.\n",
    "\n",
    "http://archive.ics.uci.edu/ml/machine-learning-databases/spambase/spambase.names\n",
    "\n",
    "The dependent variable is \"spam\" where one indicates that an email is spam and zero otherwise.  Which three variables in the dataset do you think will be important predictors in a model of spam?  Why?"
   ]
  },
  {
   "cell_type": "markdown",
   "metadata": {
    "id": "l7gAhUMl_4c1"
   },
   "source": [
    "### Calculate the difference between the mean for each variable grouped by 'spam'."
   ]
  },
  {
   "cell_type": "code",
   "execution_count": 5,
   "metadata": {
    "colab": {
     "base_uri": "https://localhost:8080/"
    },
    "id": "OLWGVlUOOfft",
    "outputId": "c2cdb5e4-12b2-48e0-f414-7ce9dfd0ea5e"
   },
   "outputs": [
    {
     "name": "stdout",
     "output_type": "stream",
     "text": [
      "Mean for spam = 0 and spam = 1:\n",
      "                        Feature  Mean when spam = 0  Mean when spam = 1\n",
      "0               word_freq_make:            0.073479            0.152339\n",
      "1            word_freq_address:            0.244466            0.164650\n",
      "2                word_freq_all:            0.200581            0.403795\n",
      "3                 word_freq_3d:            0.000886            0.164672\n",
      "4                word_freq_our:            0.181040            0.513955\n",
      "5               word_freq_over:            0.044544            0.174876\n",
      "6             word_freq_remove:            0.009383            0.275405\n",
      "7           word_freq_internet:            0.038415            0.208141\n",
      "8              word_freq_order:            0.038049            0.170061\n",
      "9               word_freq_mail:            0.167170            0.350507\n",
      "10           word_freq_receive:            0.021711            0.118434\n",
      "11              word_freq_will:            0.536324            0.549972\n",
      "12            word_freq_people:            0.061664            0.143547\n",
      "13            word_freq_report:            0.042403            0.083574\n",
      "14         word_freq_addresses:            0.008318            0.112079\n",
      "15              word_freq_free:            0.073587            0.518362\n",
      "16          word_freq_business:            0.048346            0.287507\n",
      "17             word_freq_email:            0.097292            0.319228\n",
      "18               word_freq_you:            1.270341            2.264539\n",
      "19            word_freq_credit:            0.007579            0.205521\n",
      "20              word_freq_your:            0.438702            1.380370\n",
      "21              word_freq_font:            0.045226            0.238036\n",
      "22               word_freq_000:            0.007088            0.247055\n",
      "23             word_freq_money:            0.017138            0.212879\n",
      "24                word_freq_hp:            0.895473            0.017479\n",
      "25               word_freq_hpl:            0.431994            0.009173\n",
      "26            word_freq_george:            1.265265            0.001550\n",
      "27               word_freq_650:            0.193806            0.018798\n",
      "28               word_freq_lab:            0.162794            0.000684\n",
      "29              word_freq_labs:            0.165854            0.005968\n",
      "30            word_freq_telnet:            0.106033            0.001274\n",
      "31               word_freq_857:            0.077306            0.000518\n",
      "32              word_freq_data:            0.150986            0.014562\n",
      "33               word_freq_415:            0.077787            0.001776\n",
      "34                word_freq_85:            0.169455            0.006928\n",
      "35        word_freq_technology:            0.141671            0.029515\n",
      "36              word_freq_1999:            0.197744            0.043469\n",
      "37             word_freq_parts:            0.018723            0.004710\n",
      "38                word_freq_pm:            0.121679            0.012427\n",
      "39            word_freq_direct:            0.083117            0.036718\n",
      "40                word_freq_cs:            0.072027            0.000055\n",
      "41           word_freq_meeting:            0.216808            0.002443\n",
      "42          word_freq_original:            0.070581            0.008450\n",
      "43           word_freq_project:            0.126636            0.006244\n",
      "44                word_freq_re:            0.415760            0.125091\n",
      "45               word_freq_edu:            0.287184            0.014727\n",
      "46             word_freq_table:            0.008192            0.001219\n",
      "47        word_freq_conference:            0.051227            0.002101\n",
      "48                 char_freq_;:            0.050281            0.020573\n",
      "49                 char_freq_(:            0.158578            0.108970\n",
      "50                 char_freq_[:            0.022684            0.008199\n",
      "51                 char_freq_!:            0.109984            0.513713\n",
      "52                 char_freq_$:            0.011648            0.174478\n",
      "53                 char_freq_#:            0.021713            0.078877\n",
      "54  capital_run_length_average:            2.377301            9.519165\n",
      "55  capital_run_length_longest:           18.214491          104.393271\n",
      "56    capital_run_length_total:          161.470947          470.619415\n"
     ]
    }
   ],
   "source": [
    "# Group by the 'spam' variable and calculate the mean for each variable\n",
    "means_by_spam = df.groupby('spam').mean()\n",
    "\n",
    "# Display the mean for spam = 0 and spam = 1 \n",
    "mean_table = pd.DataFrame({\n",
    "    'Feature': df.columns[:-1],  # Exclude the 'spam' column\n",
    "    'Mean when spam = 0': means_by_spam.iloc[0].values,\n",
    "    'Mean when spam = 1': means_by_spam.iloc[1].values\n",
    "})\n",
    "\n",
    "print(\"Mean for spam = 0 and spam = 1:\")\n",
    "print(mean_table)\n"
   ]
  },
  {
   "cell_type": "code",
   "execution_count": 6,
   "metadata": {
    "colab": {
     "base_uri": "https://localhost:8080/"
    },
    "id": "k1szpL12iM7U",
    "outputId": "78fe0f5e-7565-4c02-fa2b-e90abc6b2e2f"
   },
   "outputs": [
    {
     "name": "stdout",
     "output_type": "stream",
     "text": [
      "capital_run_length_total:      309.148468\n",
      "capital_run_length_longest:     86.178780\n",
      "capital_run_length_average:      7.141864\n",
      "word_freq_you:                   0.994199\n",
      "word_freq_your:                  0.941668\n",
      "word_freq_free:                  0.444775\n",
      "char_freq_!:                     0.403729\n",
      "word_freq_our:                   0.332915\n",
      "word_freq_remove:                0.266022\n",
      "word_freq_000:                   0.239967\n",
      "word_freq_business:              0.239160\n",
      "word_freq_email:                 0.221936\n",
      "word_freq_all:                   0.203214\n",
      "word_freq_credit:                0.197942\n",
      "word_freq_money:                 0.195741\n",
      "word_freq_font:                  0.192810\n",
      "word_freq_mail:                  0.183337\n",
      "word_freq_internet:              0.169727\n",
      "word_freq_3d:                    0.163786\n",
      "char_freq_$:                     0.162830\n",
      "word_freq_order:                 0.132012\n",
      "word_freq_over:                  0.130331\n",
      "word_freq_addresses:             0.103762\n",
      "word_freq_receive:               0.096723\n",
      "word_freq_people:                0.081882\n",
      "word_freq_make:                  0.078859\n",
      "char_freq_#:                     0.057164\n",
      "word_freq_report:                0.041171\n",
      "word_freq_will:                  0.013649\n",
      "word_freq_table:                -0.006973\n",
      "word_freq_parts:                -0.014013\n",
      "char_freq_[:                    -0.014485\n",
      "char_freq_;:                    -0.029708\n",
      "word_freq_direct:               -0.046399\n",
      "word_freq_conference:           -0.049125\n",
      "char_freq_(:                    -0.049608\n",
      "word_freq_original:             -0.062131\n",
      "word_freq_cs:                   -0.071971\n",
      "word_freq_415:                  -0.076011\n",
      "word_freq_857:                  -0.076788\n",
      "word_freq_address:              -0.079816\n",
      "word_freq_telnet:               -0.104759\n",
      "word_freq_pm:                   -0.109252\n",
      "word_freq_technology:           -0.112157\n",
      "word_freq_project:              -0.120392\n",
      "word_freq_data:                 -0.136425\n",
      "word_freq_1999:                 -0.154275\n",
      "word_freq_labs:                 -0.159886\n",
      "word_freq_lab:                  -0.162110\n",
      "word_freq_85:                   -0.162527\n",
      "word_freq_650:                  -0.175008\n",
      "word_freq_meeting:              -0.214364\n",
      "word_freq_edu:                  -0.272457\n",
      "word_freq_re:                   -0.290669\n",
      "word_freq_hpl:                  -0.422822\n",
      "word_freq_hp:                   -0.877994\n",
      "word_freq_george:               -1.263716\n",
      "dtype: float64\n"
     ]
    }
   ],
   "source": [
    "# Calculate the difference between the mean\n",
    "difference_of_means = means_by_spam.iloc[1] - means_by_spam.iloc[0]\n",
    "difference_of_means_sorted = difference_of_means.sort_values(ascending=False)\n",
    "print(difference_of_means_sorted)\n"
   ]
  },
  {
   "cell_type": "markdown",
   "metadata": {
    "id": "Ex9_6jIMIPvQ"
   },
   "source": [
    "### Conclusion\n",
    "\n",
    "Three variables in the dataset I think will be important predictors in a model of spam are 'capital_run_length_total', 'char_freq_!', and 'word_freq_free'.\n",
    "\n",
    "1. 'capital_run_length_total': It refers to the sum of the length of uninterrupted sequences of capital letters, or the total number of capital letters in the e-mail. I chose it because, among the variables related to capital letters, it exhibits the most significant difference in mean between spam and non-spam emails. Also, spam emails might use excessive capitalization to attract attention or indicate emphasis in the email. Therefore, the total capital run length could be a feature that helps differentiate spam from non-spam emails.\n",
    "\n",
    "2. 'char_freq_!': It represents the percentage of the character '!' in an email. Among the variables related to character frequency, it exhibits the most significant difference in mean between spam and non-spam emails. Also, the presence of exclamation marks in emails is a common characteristic of spam. Many spam messages use exclamation marks to capture attention or convey a sense of urgency. Therefore, the frequency of exclamation marks in an email (char_freq_!) could be a relevant indicator for distinguishing between spam and non-spam.\n",
    "\n",
    "3. 'word_freq_free':This variable denotes the frequency of the word \"free\" in an email. Although the difference in mean of this variable is not the most notable, the word \"free\" is commonly used in the context of spam emails to attract attention with offers or promotions."
   ]
  },
  {
   "cell_type": "markdown",
   "metadata": {
    "id": "7IJouXN3ft1I"
   },
   "source": [
    "## 3.  Visualize the univariate distribution of each of the variables in the previous question.  "
   ]
  },
  {
   "cell_type": "code",
   "execution_count": 7,
   "metadata": {
    "colab": {
     "base_uri": "https://localhost:8080/",
     "height": 458
    },
    "id": "D5rXekQMft1I",
    "outputId": "fac28643-6e54-481c-9071-292a122763ce"
   },
   "outputs": [
    {
     "data": {
      "image/png": "[encoded data removed]",
      "text/plain": [
       "<Figure size 640x480 with 1 Axes>"
      ]
     },
     "metadata": {},
     "output_type": "display_data"
    }
   ],
   "source": [
    "# Univariate distribution of capital_run_length_total\n",
    "plt.hist(df['capital_run_length_total:'], bins=50, edgecolor='black')\n",
    "plt.xlabel('capital_run_length_total')\n",
    "plt.ylabel('Count')\n",
    "plt.title('Univariate distribution of capital_run_length_total')\n",
    "plt.show()\n"
   ]
  },
  {
   "cell_type": "code",
   "execution_count": 8,
   "metadata": {
    "colab": {
     "base_uri": "https://localhost:8080/",
     "height": 480
    },
    "id": "eUEEZ89yft1I",
    "outputId": "19789a36-4b9b-4089-d55f-dc23d5749ec7"
   },
   "outputs": [
    {
     "data": {
      "image/png": "[encoded data removed]",
      "text/plain": [
       "<Figure size 640x480 with 1 Axes>"
      ]
     },
     "metadata": {},
     "output_type": "display_data"
    }
   ],
   "source": [
    "# Univariate distribution of char_freq_!\n",
    "plt.hist(df['char_freq_!:'], bins=50, edgecolor='black')\n",
    "plt.xlabel('char_freq_!')\n",
    "plt.ylabel('Count')\n",
    "plt.title('Univariate distribution of variable char_freq_!')\n",
    "plt.show()\n"
   ]
  },
  {
   "cell_type": "code",
   "execution_count": 9,
   "metadata": {
    "colab": {
     "base_uri": "https://localhost:8080/",
     "height": 480
    },
    "id": "5jlrLUDvft1I",
    "outputId": "ef0c767a-90f7-4984-c608-e1cd56d6f12c"
   },
   "outputs": [
    {
     "data": {
      "image/png": "[encoded data removed]",
      "text/plain": [
       "<Figure size 640x480 with 1 Axes>"
      ]
     },
     "metadata": {},
     "output_type": "display_data"
    }
   ],
   "source": [
    "# Univariate distribution of word_freq_free\n",
    "plt.hist(df['word_freq_free:'], bins=50, edgecolor='black')\n",
    "plt.xlabel('word_freq_free')\n",
    "plt.ylabel('count')\n",
    "plt.title('Univariate distribution of variable word_freq_free')\n",
    "plt.show()\n"
   ]
  },
  {
   "cell_type": "markdown",
   "metadata": {
    "id": "NSDVsGwcft1I"
   },
   "source": [
    "## 4. Name each of the supervised learning models that we have learned thus far that are used to predict dependent variables like \"spam\".   "
   ]
  },
  {
   "cell_type": "markdown",
   "metadata": {
    "id": "K_h-T3G6ft1J"
   },
   "source": [
    "Spam is a binary target variable, where the values are 0 or 1. We should use\n",
    "classification models.\n",
    "\n",
    "Supervised learning models we have learned so far for the dependent variables \"spam\":\n",
    "*   KNN for classification\n",
    "*   Logistic Regression\n",
    "*   Penalized Logistic Regression: L1\n",
    "*   Penalized Logistic Regression: L2\n",
    "*   Multinomial logistic regression model\n",
    "*   Decision Tree Classification\n",
    "*   Support Vector Classification (SVC)\n",
    "*   Random Forest Classification\n",
    "*   Bagging Classification\n",
    "*   Gradient Boosting Classification"
   ]
  },
  {
   "cell_type": "markdown",
   "metadata": {
    "id": "ncwzIuK5ft1W"
   },
   "source": [
    "## 5. Describe the importance of training and test data.  Why do we separate data into these subsets?\n"
   ]
  },
  {
   "cell_type": "markdown",
   "metadata": {},
   "source": [
    "Training data is a set of examples the model uses to understand patterns, relationships, and features. The primary purpose of training data is to teach the algorithm the patterns and relationships in the data. The algorithm learns from the features and corresponding labels (for supervised learning) in the training set.\n",
    "\n",
    "The test data, on the other hand, is used to evaluate the model's understanding. The test data is used to evaluate how well the trained model generalizes to new, unseen data. It simulates the real-world scenario where the model encounters data it hasn't seen before.\n",
    "\n",
    "Therefore, the importance of training and test data is that training data is the foundation (the model learns from it). Test data is the reality check, ensuring that the model can apply its learning to new situations. We can use training and test data to find the model, reveal how well the model perform, use test data as a reality check to prevent overfitting, and tune parameters of the model."
   ]
  },
  {
   "cell_type": "markdown",
   "metadata": {
    "id": "mBTdhHsTft1W"
   },
   "source": [
    "After we separate data into subsets, during the training phase, the algorithm can store or memorize the training data. The trained model should be capable of making predictions on new, unseen data points based on the patterns it learned from the training set.\n",
    "\n",
    "Then, the model makes predictions on the test data, and the predictions are compared with the actual labels or values in the test set. The performance metrics, such as accuracy or mean squared error, are calculated based on the model's predictions on the test set. These metrics provide an indication of how well the model is likely to perform on new, unseen data.\n",
    "\n",
    "In conclusion, we separate data into these subsets because we want to simulate the real-world scenario. Also, we can have an unbiased evaluation of the model because we can use it on test data to test the model performance. "
   ]
  },
  {
   "cell_type": "markdown",
   "metadata": {
    "id": "qMT3lpFbft1W"
   },
   "source": [
    "## 6. What is k-fold cross validation and what do we use it for?"
   ]
  },
  {
   "cell_type": "markdown",
   "metadata": {
    "id": "-WfaxCA9ft1W"
   },
   "source": [
    "K-fold cross-validation is a technique used in machine learning to assess the performance and generalizability of a model. It wants to use as much data as possible to learn about how well the model does to predict. The basic idea is to divide the dataset into K subsets, or folds. The model is trained and evaluated K times, each time using a different fold as the test set and the remaining folds as the training set. The performance metric (such as accuracy) is measured for each iteration. The performance metrics from all iterations are averaged to provide a robust estimation of the model's performance.\n",
    "\n",
    "We use it for estimating the model's performance, detecting overfitting or underfitting, maximizing the data usage, and reducing variance in the performance metrics. "
   ]
  },
  {
   "cell_type": "markdown",
   "metadata": {
    "id": "Bd0_sBEift1W"
   },
   "source": [
    "## 7. How is k-fold cross validation different from stratified k-fold cross validation?"
   ]
  },
  {
   "cell_type": "markdown",
   "metadata": {},
   "source": [
    "Stratified K-fold cross-validation is a technique used for model evaluation that takes into account the distribution of classes in the dataset. The dataset is divided into K subsets or folds. Unlike standard K-fold cross-validation, the division is done in a way that preserves the proportion of each class in every fold. So for each fold, the distribution of classes is maintained to be similar to the overall dataset. The model is trained and evaluated K times, with each fold serving as the test set exactly once.\n",
    "\n",
    "Both K-fold cross-validation and stratified K-fold cross-validation are techniques used for model evaluation, but they differ in some ways. \n",
    "\n",
    "(1) StratifiedKFold is designed for classification tasks where the target variable is categorical. For regression problems where the target variable is continuous, using KFold or RepeatedKFold would be more appropriate.\n",
    "\n",
    "(2) K-Fold is a cross-validator that divides the dataset into k folds. It does not consider the class distribution. Stratified K-Fold is to ensure that each fold of dataset has the same proportion of observations with a given label. It ensures that each fold maintains a similar class distribution to the overall dataset\n",
    "\n",
    "(3) K-Fold may not be suitable for imbalanced datasets. Stratified K-Fold deals with imbalanced datasets where some classes have significantly fewer samples than others."
   ]
  },
  {
   "cell_type": "markdown",
   "metadata": {
    "id": "h3WucE__ft1X"
   },
   "source": [
    "## 8. Choose one model from question four.  Split the data into training and test subsets.  Build a model with the three variables in the dataset that you think will be good predictors of \"spam\".  Describe why you chose any particular parameters for your model (e.g.- if you used KNN how did you decide to choose a specific value for k).  Run the model and evaluate prediction error in two ways: A) On test data directly and B) using k-fold cross-validation.  "
   ]
  },
  {
   "cell_type": "code",
   "execution_count": 10,
   "metadata": {
    "colab": {
     "base_uri": "https://localhost:8080/",
     "height": 313
    },
    "id": "Q5fXC1Pyft1X",
    "outputId": "e1bf3584-f973-459f-93d7-9f54d9ba2f01"
   },
   "outputs": [
    {
     "name": "stdout",
     "output_type": "stream",
     "text": [
      "0    1\n",
      "1    1\n",
      "2    1\n",
      "3    1\n",
      "4    1\n",
      "Name: spam, dtype: int64\n"
     ]
    },
    {
     "data": {
      "text/html": [
       "<div>\n",
       "<style scoped>\n",
       "    .dataframe tbody tr th:only-of-type {\n",
       "        vertical-align: middle;\n",
       "    }\n",
       "\n",
       "    .dataframe tbody tr th {\n",
       "        vertical-align: top;\n",
       "    }\n",
       "\n",
       "    .dataframe thead th {\n",
       "        text-align: right;\n",
       "    }\n",
       "</style>\n",
       "<table border=\"1\" class=\"dataframe\">\n",
       "  <thead>\n",
       "    <tr style=\"text-align: right;\">\n",
       "      <th></th>\n",
       "      <th>char_freq_!:</th>\n",
       "      <th>capital_run_length_total:</th>\n",
       "      <th>word_freq_free:</th>\n",
       "    </tr>\n",
       "  </thead>\n",
       "  <tbody>\n",
       "    <tr>\n",
       "      <th>0</th>\n",
       "      <td>0.778</td>\n",
       "      <td>278</td>\n",
       "      <td>0.32</td>\n",
       "    </tr>\n",
       "    <tr>\n",
       "      <th>1</th>\n",
       "      <td>0.372</td>\n",
       "      <td>1028</td>\n",
       "      <td>0.14</td>\n",
       "    </tr>\n",
       "    <tr>\n",
       "      <th>2</th>\n",
       "      <td>0.276</td>\n",
       "      <td>2259</td>\n",
       "      <td>0.06</td>\n",
       "    </tr>\n",
       "    <tr>\n",
       "      <th>3</th>\n",
       "      <td>0.137</td>\n",
       "      <td>191</td>\n",
       "      <td>0.31</td>\n",
       "    </tr>\n",
       "    <tr>\n",
       "      <th>4</th>\n",
       "      <td>0.135</td>\n",
       "      <td>191</td>\n",
       "      <td>0.31</td>\n",
       "    </tr>\n",
       "  </tbody>\n",
       "</table>\n",
       "</div>"
      ],
      "text/plain": [
       "   char_freq_!:  capital_run_length_total:  word_freq_free:\n",
       "0         0.778                        278             0.32\n",
       "1         0.372                       1028             0.14\n",
       "2         0.276                       2259             0.06\n",
       "3         0.137                        191             0.31\n",
       "4         0.135                        191             0.31"
      ]
     },
     "execution_count": 10,
     "metadata": {},
     "output_type": "execute_result"
    }
   ],
   "source": [
    "# Change variable names to X, y to create train/test split\n",
    "y = df['spam']\n",
    "X = df[['char_freq_!:', 'capital_run_length_total:', 'word_freq_free:']]\n",
    "\n",
    "print(y[0:5])\n",
    "X.head(5)\n"
   ]
  },
  {
   "cell_type": "code",
   "execution_count": 11,
   "metadata": {
    "colab": {
     "base_uri": "https://localhost:8080/",
     "height": 206
    },
    "id": "ZKMSkgxGft1X",
    "outputId": "b2d21958-5d6f-4967-cb68-c4fe12a8ebfe"
   },
   "outputs": [
    {
     "data": {
      "text/html": [
       "<div>\n",
       "<style scoped>\n",
       "    .dataframe tbody tr th:only-of-type {\n",
       "        vertical-align: middle;\n",
       "    }\n",
       "\n",
       "    .dataframe tbody tr th {\n",
       "        vertical-align: top;\n",
       "    }\n",
       "\n",
       "    .dataframe thead th {\n",
       "        text-align: right;\n",
       "    }\n",
       "</style>\n",
       "<table border=\"1\" class=\"dataframe\">\n",
       "  <thead>\n",
       "    <tr style=\"text-align: right;\">\n",
       "      <th></th>\n",
       "      <th>char_freq_!:</th>\n",
       "      <th>capital_run_length_total:</th>\n",
       "      <th>word_freq_free:</th>\n",
       "    </tr>\n",
       "  </thead>\n",
       "  <tbody>\n",
       "    <tr>\n",
       "      <th>1173</th>\n",
       "      <td>1.939</td>\n",
       "      <td>40</td>\n",
       "      <td>1.23</td>\n",
       "    </tr>\n",
       "    <tr>\n",
       "      <th>1954</th>\n",
       "      <td>0.000</td>\n",
       "      <td>74</td>\n",
       "      <td>0.00</td>\n",
       "    </tr>\n",
       "    <tr>\n",
       "      <th>256</th>\n",
       "      <td>0.931</td>\n",
       "      <td>217</td>\n",
       "      <td>0.00</td>\n",
       "    </tr>\n",
       "    <tr>\n",
       "      <th>3341</th>\n",
       "      <td>0.014</td>\n",
       "      <td>1223</td>\n",
       "      <td>0.14</td>\n",
       "    </tr>\n",
       "    <tr>\n",
       "      <th>4469</th>\n",
       "      <td>0.000</td>\n",
       "      <td>3</td>\n",
       "      <td>0.00</td>\n",
       "    </tr>\n",
       "  </tbody>\n",
       "</table>\n",
       "</div>"
      ],
      "text/plain": [
       "      char_freq_!:  capital_run_length_total:  word_freq_free:\n",
       "1173         1.939                         40             1.23\n",
       "1954         0.000                         74             0.00\n",
       "256          0.931                        217             0.00\n",
       "3341         0.014                       1223             0.14\n",
       "4469         0.000                          3             0.00"
      ]
     },
     "execution_count": 11,
     "metadata": {},
     "output_type": "execute_result"
    }
   ],
   "source": [
    "#Set up training and test data\n",
    "from sklearn.model_selection import train_test_split\n",
    "\n",
    "X_train, X_test, y_train, y_test = train_test_split(X, y, random_state=42)\n",
    "X_train.head(5)\n"
   ]
  },
  {
   "cell_type": "markdown",
   "metadata": {
    "id": "9XktntgtUIOK"
   },
   "source": [
    "### First, I choose the logistic regression model."
   ]
  },
  {
   "cell_type": "code",
   "execution_count": 12,
   "metadata": {
    "colab": {
     "base_uri": "https://localhost:8080/",
     "height": 75
    },
    "id": "7oqyRC_WUXDY",
    "outputId": "1a4f9350-ceb5-4899-e19b-94d1948ce542"
   },
   "outputs": [
    {
     "data": {
      "text/html": [
       "<style>#sk-container-id-1 {color: black;background-color: white;}#sk-container-id-1 pre{padding: 0;}#sk-container-id-1 div.sk-toggleable {background-color: white;}#sk-container-id-1 label.sk-toggleable__label {cursor: pointer;display: block;width: 100%;margin-bottom: 0;padding: 0.3em;box-sizing: border-box;text-align: center;}#sk-container-id-1 label.sk-toggleable__label-arrow:before {content: \"▸\";float: left;margin-right: 0.25em;color: #696969;}#sk-container-id-1 label.sk-toggleable__label-arrow:hover:before {color: black;}#sk-container-id-1 div.sk-estimator:hover label.sk-toggleable__label-arrow:before {color: black;}#sk-container-id-1 div.sk-toggleable__content {max-height: 0;max-width: 0;overflow: hidden;text-align: left;background-color: #f0f8ff;}#sk-container-id-1 div.sk-toggleable__content pre {margin: 0.2em;color: black;border-radius: 0.25em;background-color: #f0f8ff;}#sk-container-id-1 input.sk-toggleable__control:checked~div.sk-toggleable__content {max-height: 200px;max-width: 100%;overflow: auto;}#sk-container-id-1 input.sk-toggleable__control:checked~label.sk-toggleable__label-arrow:before {content: \"▾\";}#sk-container-id-1 div.sk-estimator input.sk-toggleable__control:checked~label.sk-toggleable__label {background-color: #d4ebff;}#sk-container-id-1 div.sk-label input.sk-toggleable__control:checked~label.sk-toggleable__label {background-color: #d4ebff;}#sk-container-id-1 input.sk-hidden--visually {border: 0;clip: rect(1px 1px 1px 1px);clip: rect(1px, 1px, 1px, 1px);height: 1px;margin: -1px;overflow: hidden;padding: 0;position: absolute;width: 1px;}#sk-container-id-1 div.sk-estimator {font-family: monospace;background-color: #f0f8ff;border: 1px dotted black;border-radius: 0.25em;box-sizing: border-box;margin-bottom: 0.5em;}#sk-container-id-1 div.sk-estimator:hover {background-color: #d4ebff;}#sk-container-id-1 div.sk-parallel-item::after {content: \"\";width: 100%;border-bottom: 1px solid gray;flex-grow: 1;}#sk-container-id-1 div.sk-label:hover label.sk-toggleable__label {background-color: #d4ebff;}#sk-container-id-1 div.sk-serial::before {content: \"\";position: absolute;border-left: 1px solid gray;box-sizing: border-box;top: 0;bottom: 0;left: 50%;z-index: 0;}#sk-container-id-1 div.sk-serial {display: flex;flex-direction: column;align-items: center;background-color: white;padding-right: 0.2em;padding-left: 0.2em;position: relative;}#sk-container-id-1 div.sk-item {position: relative;z-index: 1;}#sk-container-id-1 div.sk-parallel {display: flex;align-items: stretch;justify-content: center;background-color: white;position: relative;}#sk-container-id-1 div.sk-item::before, #sk-container-id-1 div.sk-parallel-item::before {content: \"\";position: absolute;border-left: 1px solid gray;box-sizing: border-box;top: 0;bottom: 0;left: 50%;z-index: -1;}#sk-container-id-1 div.sk-parallel-item {display: flex;flex-direction: column;z-index: 1;position: relative;background-color: white;}#sk-container-id-1 div.sk-parallel-item:first-child::after {align-self: flex-end;width: 50%;}#sk-container-id-1 div.sk-parallel-item:last-child::after {align-self: flex-start;width: 50%;}#sk-container-id-1 div.sk-parallel-item:only-child::after {width: 0;}#sk-container-id-1 div.sk-dashed-wrapped {border: 1px dashed gray;margin: 0 0.4em 0.5em 0.4em;box-sizing: border-box;padding-bottom: 0.4em;background-color: white;}#sk-container-id-1 div.sk-label label {font-family: monospace;font-weight: bold;display: inline-block;line-height: 1.2em;}#sk-container-id-1 div.sk-label-container {text-align: center;}#sk-container-id-1 div.sk-container {/* jupyter's `normalize.less` sets `[hidden] { display: none; }` but bootstrap.min.css set `[hidden] { display: none !important; }` so we also need the `!important` here to be able to override the default hidden behavior on the sphinx rendered scikit-learn.org. See: https://github.com/scikit-learn/scikit-learn/issues/21755 */display: inline-block !important;position: relative;}#sk-container-id-1 div.sk-text-repr-fallback {display: none;}</style><div id=\"sk-container-id-1\" class=\"sk-top-container\"><div class=\"sk-text-repr-fallback\"><pre>LogisticRegression(penalty=None)</pre><b>In a Jupyter environment, please rerun this cell to show the HTML representation or trust the notebook. <br />On GitHub, the HTML representation is unable to render, please try loading this page with nbviewer.org.</b></div><div class=\"sk-container\" hidden><div class=\"sk-item\"><div class=\"sk-estimator sk-toggleable\"><input class=\"sk-toggleable__control sk-hidden--visually\" id=\"sk-estimator-id-1\" type=\"checkbox\" checked><label for=\"sk-estimator-id-1\" class=\"sk-toggleable__label sk-toggleable__label-arrow\">LogisticRegression</label><div class=\"sk-toggleable__content\"><pre>LogisticRegression(penalty=None)</pre></div></div></div></div></div>"
      ],
      "text/plain": [
       "LogisticRegression(penalty=None)"
      ]
     },
     "execution_count": 12,
     "metadata": {},
     "output_type": "execute_result"
    }
   ],
   "source": [
    "# Create a logistic regression model\n",
    "from sklearn.linear_model import LogisticRegression\n",
    "\n",
    "logreg = LogisticRegression(penalty=None)\n",
    "logreg.fit(X_train, y_train)\n"
   ]
  },
  {
   "cell_type": "markdown",
   "metadata": {
    "id": "zLYOkqtBkRI-"
   },
   "source": [
    "For this model, no penalty is added. I use GridSearchCV to find the best set of parameters for this model."
   ]
  },
  {
   "cell_type": "code",
   "execution_count": 13,
   "metadata": {
    "colab": {
     "base_uri": "https://localhost:8080/"
    },
    "id": "0Big2bwyVIpg",
    "outputId": "89b88d33-c4dd-40cd-ae59-bfc691a4c741"
   },
   "outputs": [
    {
     "name": "stdout",
     "output_type": "stream",
     "text": [
      "best parameters: {'C': 0.001, 'penalty': 'none'}\n"
     ]
    }
   ],
   "source": [
    "# Tune the paramter\n",
    "param_grid1 = {'C': [0.001, 0.01, 0.1, 1, 10, 100], \"penalty\":[\"none\"]}\n",
    "\n",
    "grid_search = GridSearchCV(estimator=logreg, param_grid=param_grid1)\n",
    "grid_search.fit(X_train, y_train)\n",
    "\n",
    "best_params1 = grid_search.best_params_\n",
    "print(\"best parameters: {}\".format(grid_search.best_params_))"
   ]
  },
  {
   "cell_type": "markdown",
   "metadata": {
    "id": "Ei-F2tmokl5m"
   },
   "source": [
    "Thus, for parameters, I use C=0.001 in the model."
   ]
  },
  {
   "cell_type": "code",
   "execution_count": 14,
   "metadata": {
    "colab": {
     "base_uri": "https://localhost:8080/"
    },
    "id": "9x1O81icUGnw",
    "outputId": "dddbab57-b0d3-4fca-eb87-4acc0176a739"
   },
   "outputs": [
    {
     "name": "stdout",
     "output_type": "stream",
     "text": [
      "Training set score: 0.778\n",
      "Test set score: 0.769\n",
      "logreg.predict: [0 1 0 ... 1 0 0]\n",
      "Test Accuracy: 0.769\n"
     ]
    }
   ],
   "source": [
    "logreg = LogisticRegression(C=0.001, penalty=None).fit(X_train, y_train)\n",
    "\n",
    "# Evaluate prediction error on test data directly\n",
    "print(\"Training set score: {:.3f}\".format(logreg.score(X_train, y_train)))\n",
    "print(\"Test set score: {:.3f}\".format(logreg.score(X_test, y_test)))\n",
    "\n",
    "predicted_vals = logreg.predict(X_test)\n",
    "print(\"logreg.predict: {}\".format(predicted_vals))\n",
    "test_accuracy = accuracy_score(y_test, predicted_vals)\n",
    "print(f\"Test Accuracy: {test_accuracy:.3f}\")\n"
   ]
  },
  {
   "cell_type": "code",
   "execution_count": 15,
   "metadata": {
    "colab": {
     "base_uri": "https://localhost:8080/"
    },
    "id": "Klc7uYUwUGqV",
    "outputId": "e3138c03-f508-4949-ca7c-03cfd50f49e9"
   },
   "outputs": [
    {
     "name": "stdout",
     "output_type": "stream",
     "text": [
      "Cross validation Accuracy:0.776\n"
     ]
    }
   ],
   "source": [
    "# Evaluate prediction error using k-fold cross-validation\n",
    "kfold1 = KFold()\n",
    "print(\"Cross validation Accuracy:{:.3f}\".format(np.mean(\n",
    "    cross_val_score(logreg, X_train, y_train, cv=kfold1))))\n"
   ]
  },
  {
   "cell_type": "markdown",
   "metadata": {
    "id": "Qa2jZiBxft1X"
   },
   "source": [
    "## 9. Choose a second model from question four.  Using the same three variables in the dataset that you think will be good predictors of \"spam\".  Describe why you chose any particular parameters for your model (e.g.- if you used KNN how did you decide to choose a specific value for k).  Run the model and evaluate prediction error in two ways: A) On test data directly and B) using k-fold cross-validation.  Did this model predict test data better than your previous model?"
   ]
  },
  {
   "cell_type": "markdown",
   "metadata": {
    "id": "i6dKqCkhmwPW"
   },
   "source": [
    "### Second, I choose the random forest classification model."
   ]
  },
  {
   "cell_type": "code",
   "execution_count": 16,
   "metadata": {
    "colab": {
     "base_uri": "https://localhost:8080/",
     "height": 75
    },
    "id": "XNQPtU_tft1X",
    "outputId": "2d853956-6c5b-4a5d-b935-2405227f7b93"
   },
   "outputs": [
    {
     "data": {
      "text/html": [
       "<style>#sk-container-id-2 {color: black;background-color: white;}#sk-container-id-2 pre{padding: 0;}#sk-container-id-2 div.sk-toggleable {background-color: white;}#sk-container-id-2 label.sk-toggleable__label {cursor: pointer;display: block;width: 100%;margin-bottom: 0;padding: 0.3em;box-sizing: border-box;text-align: center;}#sk-container-id-2 label.sk-toggleable__label-arrow:before {content: \"▸\";float: left;margin-right: 0.25em;color: #696969;}#sk-container-id-2 label.sk-toggleable__label-arrow:hover:before {color: black;}#sk-container-id-2 div.sk-estimator:hover label.sk-toggleable__label-arrow:before {color: black;}#sk-container-id-2 div.sk-toggleable__content {max-height: 0;max-width: 0;overflow: hidden;text-align: left;background-color: #f0f8ff;}#sk-container-id-2 div.sk-toggleable__content pre {margin: 0.2em;color: black;border-radius: 0.25em;background-color: #f0f8ff;}#sk-container-id-2 input.sk-toggleable__control:checked~div.sk-toggleable__content {max-height: 200px;max-width: 100%;overflow: auto;}#sk-container-id-2 input.sk-toggleable__control:checked~label.sk-toggleable__label-arrow:before {content: \"▾\";}#sk-container-id-2 div.sk-estimator input.sk-toggleable__control:checked~label.sk-toggleable__label {background-color: #d4ebff;}#sk-container-id-2 div.sk-label input.sk-toggleable__control:checked~label.sk-toggleable__label {background-color: #d4ebff;}#sk-container-id-2 input.sk-hidden--visually {border: 0;clip: rect(1px 1px 1px 1px);clip: rect(1px, 1px, 1px, 1px);height: 1px;margin: -1px;overflow: hidden;padding: 0;position: absolute;width: 1px;}#sk-container-id-2 div.sk-estimator {font-family: monospace;background-color: #f0f8ff;border: 1px dotted black;border-radius: 0.25em;box-sizing: border-box;margin-bottom: 0.5em;}#sk-container-id-2 div.sk-estimator:hover {background-color: #d4ebff;}#sk-container-id-2 div.sk-parallel-item::after {content: \"\";width: 100%;border-bottom: 1px solid gray;flex-grow: 1;}#sk-container-id-2 div.sk-label:hover label.sk-toggleable__label {background-color: #d4ebff;}#sk-container-id-2 div.sk-serial::before {content: \"\";position: absolute;border-left: 1px solid gray;box-sizing: border-box;top: 0;bottom: 0;left: 50%;z-index: 0;}#sk-container-id-2 div.sk-serial {display: flex;flex-direction: column;align-items: center;background-color: white;padding-right: 0.2em;padding-left: 0.2em;position: relative;}#sk-container-id-2 div.sk-item {position: relative;z-index: 1;}#sk-container-id-2 div.sk-parallel {display: flex;align-items: stretch;justify-content: center;background-color: white;position: relative;}#sk-container-id-2 div.sk-item::before, #sk-container-id-2 div.sk-parallel-item::before {content: \"\";position: absolute;border-left: 1px solid gray;box-sizing: border-box;top: 0;bottom: 0;left: 50%;z-index: -1;}#sk-container-id-2 div.sk-parallel-item {display: flex;flex-direction: column;z-index: 1;position: relative;background-color: white;}#sk-container-id-2 div.sk-parallel-item:first-child::after {align-self: flex-end;width: 50%;}#sk-container-id-2 div.sk-parallel-item:last-child::after {align-self: flex-start;width: 50%;}#sk-container-id-2 div.sk-parallel-item:only-child::after {width: 0;}#sk-container-id-2 div.sk-dashed-wrapped {border: 1px dashed gray;margin: 0 0.4em 0.5em 0.4em;box-sizing: border-box;padding-bottom: 0.4em;background-color: white;}#sk-container-id-2 div.sk-label label {font-family: monospace;font-weight: bold;display: inline-block;line-height: 1.2em;}#sk-container-id-2 div.sk-label-container {text-align: center;}#sk-container-id-2 div.sk-container {/* jupyter's `normalize.less` sets `[hidden] { display: none; }` but bootstrap.min.css set `[hidden] { display: none !important; }` so we also need the `!important` here to be able to override the default hidden behavior on the sphinx rendered scikit-learn.org. See: https://github.com/scikit-learn/scikit-learn/issues/21755 */display: inline-block !important;position: relative;}#sk-container-id-2 div.sk-text-repr-fallback {display: none;}</style><div id=\"sk-container-id-2\" class=\"sk-top-container\"><div class=\"sk-text-repr-fallback\"><pre>RandomForestClassifier()</pre><b>In a Jupyter environment, please rerun this cell to show the HTML representation or trust the notebook. <br />On GitHub, the HTML representation is unable to render, please try loading this page with nbviewer.org.</b></div><div class=\"sk-container\" hidden><div class=\"sk-item\"><div class=\"sk-estimator sk-toggleable\"><input class=\"sk-toggleable__control sk-hidden--visually\" id=\"sk-estimator-id-2\" type=\"checkbox\" checked><label for=\"sk-estimator-id-2\" class=\"sk-toggleable__label sk-toggleable__label-arrow\">RandomForestClassifier</label><div class=\"sk-toggleable__content\"><pre>RandomForestClassifier()</pre></div></div></div></div></div>"
      ],
      "text/plain": [
       "RandomForestClassifier()"
      ]
     },
     "execution_count": 16,
     "metadata": {},
     "output_type": "execute_result"
    }
   ],
   "source": [
    "# Create a Random Forest model\n",
    "from sklearn.ensemble import RandomForestClassifier\n",
    "\n",
    "rf_model = RandomForestClassifier()\n",
    "rf_model.fit(X_train, y_train)\n"
   ]
  },
  {
   "cell_type": "markdown",
   "metadata": {
    "id": "-5sN3xEttkXs"
   },
   "source": [
    "I use GridSearchCV to find the best set of parameters for this model."
   ]
  },
  {
   "cell_type": "code",
   "execution_count": 17,
   "metadata": {
    "colab": {
     "base_uri": "https://localhost:8080/",
     "height": 232
    },
    "id": "LGwzTxe3Kas4",
    "outputId": "58cc6898-9ea7-41b7-8243-2568883c05eb"
   },
   "outputs": [
    {
     "name": "stdout",
     "output_type": "stream",
     "text": [
      "best parameters: {'max_depth': 20, 'min_samples_leaf': 2, 'min_samples_split': 2, 'n_estimators': 50}\n"
     ]
    }
   ],
   "source": [
    "# Tune the parameter\n",
    "param_grid2 = {\n",
    "    'n_estimators': [50, 100, 200],\n",
    "    'max_depth': [None, 10, 20, 30],\n",
    "    'min_samples_split': [2, 5, 10],\n",
    "    'min_samples_leaf': [1, 2, 4]\n",
    "}\n",
    "\n",
    "grid_search = GridSearchCV(estimator=rf_model, param_grid=param_grid2, scoring='accuracy', cv=5)\n",
    "grid_search.fit(X_train, y_train)\n",
    "\n",
    "best_params2 = grid_search.best_params_\n",
    "print(\"best parameters: {}\".format(grid_search.best_params_))"
   ]
  },
  {
   "cell_type": "markdown",
   "metadata": {
    "id": "54nJyo8TtxID"
   },
   "source": [
    "Thus, I use these best parameters in my random forest classification model."
   ]
  },
  {
   "cell_type": "code",
   "execution_count": 18,
   "metadata": {
    "colab": {
     "base_uri": "https://localhost:8080/"
    },
    "id": "rHv7m-tAsVHm",
    "outputId": "7347ae79-66b5-43da-e4ea-d62401424475"
   },
   "outputs": [
    {
     "name": "stdout",
     "output_type": "stream",
     "text": [
      "Training set score: 0.932\n",
      "Test set score: 0.867\n",
      "rf.predict: [0 0 0 ... 1 0 0]\n",
      "Test Accuracy: 0.867\n"
     ]
    }
   ],
   "source": [
    "rf_model = RandomForestClassifier(**best_params2)\n",
    "rf_model.fit(X_train, y_train)\n",
    "\n",
    "# Evaluate prediction error on test data directly\n",
    "print(\"Training set score: {:.3f}\".format(rf_model.score(X_train, y_train)))\n",
    "print(\"Test set score: {:.3f}\".format(rf_model.score(X_test, y_test)))\n",
    "\n",
    "predicted_vals = rf_model.predict(X_test)\n",
    "print(\"rf.predict: {}\".format(predicted_vals))\n",
    "test_accuracy = accuracy_score(y_test, predicted_vals)\n",
    "print(f\"Test Accuracy: {test_accuracy:.3f}\")\n"
   ]
  },
  {
   "cell_type": "code",
   "execution_count": 19,
   "metadata": {
    "colab": {
     "base_uri": "https://localhost:8080/"
    },
    "id": "yNrWlDGEsj6s",
    "outputId": "e1bb9d79-c149-4294-dd93-258922c22415"
   },
   "outputs": [
    {
     "name": "stdout",
     "output_type": "stream",
     "text": [
      "Cross validation Accuracy:0.863\n"
     ]
    }
   ],
   "source": [
    "# Evaluate prediction error using k-fold cross-validation\n",
    "kfold2 = KFold()\n",
    "print(\"Cross validation Accuracy:{:.3f}\".format(np.mean(\n",
    "    cross_val_score(rf_model, X_train, y_train, cv=kfold2))))\n"
   ]
  },
  {
   "cell_type": "markdown",
   "metadata": {},
   "source": [
    "This model predicts test data better than the logistic regression model. The test score increases from 0.769 to 0.867, and the cross validation accuracy increases from 0.776 to 0.863."
   ]
  },
  {
   "cell_type": "markdown",
   "metadata": {
    "id": "fzO_LOWcft1Y"
   },
   "source": [
    "## 10. Choose a third model from question four.  Using the same three variables in the dataset that you think will be good predictors of \"spam\".  Describe why you chose any particular parameters for your model (e.g.- if you used KNN how did you decide to choose a specific value for k). Run the model and evaluate prediction error in two ways: A) On test data directly and B) using k-fold cross-validation.  Did this model predict test data better than your previous models?\n"
   ]
  },
  {
   "cell_type": "markdown",
   "metadata": {
    "id": "Cnc6hIMovAPi"
   },
   "source": [
    "### Third, I choose KNN for classification."
   ]
  },
  {
   "cell_type": "code",
   "execution_count": 20,
   "metadata": {
    "colab": {
     "base_uri": "https://localhost:8080/",
     "height": 75
    },
    "id": "GSUuQJqGft1Y",
    "outputId": "58f64872-86f0-4239-8a87-88a0440be94a"
   },
   "outputs": [
    {
     "data": {
      "text/html": [
       "<style>#sk-container-id-3 {color: black;background-color: white;}#sk-container-id-3 pre{padding: 0;}#sk-container-id-3 div.sk-toggleable {background-color: white;}#sk-container-id-3 label.sk-toggleable__label {cursor: pointer;display: block;width: 100%;margin-bottom: 0;padding: 0.3em;box-sizing: border-box;text-align: center;}#sk-container-id-3 label.sk-toggleable__label-arrow:before {content: \"▸\";float: left;margin-right: 0.25em;color: #696969;}#sk-container-id-3 label.sk-toggleable__label-arrow:hover:before {color: black;}#sk-container-id-3 div.sk-estimator:hover label.sk-toggleable__label-arrow:before {color: black;}#sk-container-id-3 div.sk-toggleable__content {max-height: 0;max-width: 0;overflow: hidden;text-align: left;background-color: #f0f8ff;}#sk-container-id-3 div.sk-toggleable__content pre {margin: 0.2em;color: black;border-radius: 0.25em;background-color: #f0f8ff;}#sk-container-id-3 input.sk-toggleable__control:checked~div.sk-toggleable__content {max-height: 200px;max-width: 100%;overflow: auto;}#sk-container-id-3 input.sk-toggleable__control:checked~label.sk-toggleable__label-arrow:before {content: \"▾\";}#sk-container-id-3 div.sk-estimator input.sk-toggleable__control:checked~label.sk-toggleable__label {background-color: #d4ebff;}#sk-container-id-3 div.sk-label input.sk-toggleable__control:checked~label.sk-toggleable__label {background-color: #d4ebff;}#sk-container-id-3 input.sk-hidden--visually {border: 0;clip: rect(1px 1px 1px 1px);clip: rect(1px, 1px, 1px, 1px);height: 1px;margin: -1px;overflow: hidden;padding: 0;position: absolute;width: 1px;}#sk-container-id-3 div.sk-estimator {font-family: monospace;background-color: #f0f8ff;border: 1px dotted black;border-radius: 0.25em;box-sizing: border-box;margin-bottom: 0.5em;}#sk-container-id-3 div.sk-estimator:hover {background-color: #d4ebff;}#sk-container-id-3 div.sk-parallel-item::after {content: \"\";width: 100%;border-bottom: 1px solid gray;flex-grow: 1;}#sk-container-id-3 div.sk-label:hover label.sk-toggleable__label {background-color: #d4ebff;}#sk-container-id-3 div.sk-serial::before {content: \"\";position: absolute;border-left: 1px solid gray;box-sizing: border-box;top: 0;bottom: 0;left: 50%;z-index: 0;}#sk-container-id-3 div.sk-serial {display: flex;flex-direction: column;align-items: center;background-color: white;padding-right: 0.2em;padding-left: 0.2em;position: relative;}#sk-container-id-3 div.sk-item {position: relative;z-index: 1;}#sk-container-id-3 div.sk-parallel {display: flex;align-items: stretch;justify-content: center;background-color: white;position: relative;}#sk-container-id-3 div.sk-item::before, #sk-container-id-3 div.sk-parallel-item::before {content: \"\";position: absolute;border-left: 1px solid gray;box-sizing: border-box;top: 0;bottom: 0;left: 50%;z-index: -1;}#sk-container-id-3 div.sk-parallel-item {display: flex;flex-direction: column;z-index: 1;position: relative;background-color: white;}#sk-container-id-3 div.sk-parallel-item:first-child::after {align-self: flex-end;width: 50%;}#sk-container-id-3 div.sk-parallel-item:last-child::after {align-self: flex-start;width: 50%;}#sk-container-id-3 div.sk-parallel-item:only-child::after {width: 0;}#sk-container-id-3 div.sk-dashed-wrapped {border: 1px dashed gray;margin: 0 0.4em 0.5em 0.4em;box-sizing: border-box;padding-bottom: 0.4em;background-color: white;}#sk-container-id-3 div.sk-label label {font-family: monospace;font-weight: bold;display: inline-block;line-height: 1.2em;}#sk-container-id-3 div.sk-label-container {text-align: center;}#sk-container-id-3 div.sk-container {/* jupyter's `normalize.less` sets `[hidden] { display: none; }` but bootstrap.min.css set `[hidden] { display: none !important; }` so we also need the `!important` here to be able to override the default hidden behavior on the sphinx rendered scikit-learn.org. See: https://github.com/scikit-learn/scikit-learn/issues/21755 */display: inline-block !important;position: relative;}#sk-container-id-3 div.sk-text-repr-fallback {display: none;}</style><div id=\"sk-container-id-3\" class=\"sk-top-container\"><div class=\"sk-text-repr-fallback\"><pre>KNeighborsClassifier()</pre><b>In a Jupyter environment, please rerun this cell to show the HTML representation or trust the notebook. <br />On GitHub, the HTML representation is unable to render, please try loading this page with nbviewer.org.</b></div><div class=\"sk-container\" hidden><div class=\"sk-item\"><div class=\"sk-estimator sk-toggleable\"><input class=\"sk-toggleable__control sk-hidden--visually\" id=\"sk-estimator-id-3\" type=\"checkbox\" checked><label for=\"sk-estimator-id-3\" class=\"sk-toggleable__label sk-toggleable__label-arrow\">KNeighborsClassifier</label><div class=\"sk-toggleable__content\"><pre>KNeighborsClassifier()</pre></div></div></div></div></div>"
      ],
      "text/plain": [
       "KNeighborsClassifier()"
      ]
     },
     "execution_count": 20,
     "metadata": {},
     "output_type": "execute_result"
    }
   ],
   "source": [
    "# Create a KNN Classification model\n",
    "from sklearn.neighbors import KNeighborsClassifier\n",
    "\n",
    "knn = KNeighborsClassifier()\n",
    "knn.fit(X_train, y_train)\n"
   ]
  },
  {
   "cell_type": "markdown",
   "metadata": {},
   "source": [
    "I use GridSearchCV to find the best set of parameters for this model."
   ]
  },
  {
   "cell_type": "code",
   "execution_count": 21,
   "metadata": {
    "colab": {
     "base_uri": "https://localhost:8080/"
    },
    "id": "D07cvLMavVYU",
    "outputId": "ed12aec8-7870-491f-f400-89d00d11a8ca"
   },
   "outputs": [
    {
     "name": "stdout",
     "output_type": "stream",
     "text": [
      "best parameters: {'n_neighbors': 3}\n"
     ]
    }
   ],
   "source": [
    "# Tune the parameter\n",
    "np.arange(1, 15, 2)\n",
    "param_grid3 = {'n_neighbors': [1,3,5,7,9,10,11,13] }\n",
    "\n",
    "grid = GridSearchCV(KNeighborsClassifier(), param_grid=param_grid3, cv=10)\n",
    "grid.fit(X_train, y_train)\n",
    "\n",
    "best_params3 = grid_search.best_params_\n",
    "print(\"best parameters: {}\".format(grid.best_params_))\n"
   ]
  },
  {
   "cell_type": "markdown",
   "metadata": {
    "id": "CpddUiyuwkB9"
   },
   "source": [
    "Thus, for parameters of the model, I use n_neighbors = 3 in my model."
   ]
  },
  {
   "cell_type": "code",
   "execution_count": 22,
   "metadata": {
    "colab": {
     "base_uri": "https://localhost:8080/"
    },
    "id": "OzG-ozIowjo_",
    "outputId": "70bd1b19-8016-42cc-d1f9-210270a96aeb"
   },
   "outputs": [
    {
     "name": "stdout",
     "output_type": "stream",
     "text": [
      "Training set score: 0.863\n",
      "Test set score: 0.743\n",
      "best score: 0.760\n",
      "knn.predict: [0 0 0 ... 1 0 1]\n",
      "Test Accuracy: 0.743\n"
     ]
    }
   ],
   "source": [
    "knn = KNeighborsClassifier(n_neighbors=3)\n",
    "knn.fit(X_train, y_train)\n",
    "\n",
    "# Evaluate prediction error on test data directly\n",
    "print(\"Training set score: {:.3f}\".format(knn.score(X_train, y_train)))\n",
    "print(\"Test set score: {:.3f}\".format(knn.score(X_test, y_test)))\n",
    "print(\"best score: {:.3f}\".format(grid.best_score_))\n",
    "\n",
    "predicted_vals = knn.predict(X_test)\n",
    "print(\"knn.predict: {}\".format(predicted_vals))\n",
    "test_accuracy = accuracy_score(y_test, predicted_vals)\n",
    "print(f\"Test Accuracy: {test_accuracy:.3f}\")\n"
   ]
  },
  {
   "cell_type": "code",
   "execution_count": 23,
   "metadata": {
    "colab": {
     "base_uri": "https://localhost:8080/"
    },
    "id": "7dzfN4vFft1Y",
    "outputId": "a30b94f6-e4dc-4748-918b-bf05e9c9d5f3"
   },
   "outputs": [
    {
     "name": "stdout",
     "output_type": "stream",
     "text": [
      "Cross validation Accuracy:0.754\n"
     ]
    }
   ],
   "source": [
    "# Evaluate prediction error using k-fold cross-validation\n",
    "kfold3 = KFold()\n",
    "print(\"Cross validation Accuracy:{:.3f}\".format(np.mean(\n",
    "    cross_val_score(knn, X_train, y_train, cv=kfold3))))\n"
   ]
  },
  {
   "cell_type": "markdown",
   "metadata": {},
   "source": [
    "This model does not predict test data better than the previous models. The test score is 0.743, while the test score of logistic regression model is 0.769 and the test score of random forest classification model is 0.867. The cross validation accuracy is 0.754, while the cross validation accuracy  of logistic regression model is 0.776 and the cross validation accuracy  of random forest classification model is 0.863."
   ]
  },
  {
   "cell_type": "markdown",
   "metadata": {
    "id": "10Ewmle3ft1Y"
   },
   "source": [
    "## 11. Choose a fourth model from question four.  Using the same three variables in the dataset that you think will be good predictors of \"spam\".  Describe why you chose any particular parameters for your model (e.g.- if you used KNN how did you decide to choose a specific value for k). Run the model and evaluate prediction error in two ways: A) On test data directly and B) using k-fold cross-validation. Evaluate prediction error, did this model predict better than your previous models?"
   ]
  },
  {
   "cell_type": "markdown",
   "metadata": {
    "id": "hh6qko_GzTRF"
   },
   "source": [
    "### Finally, I choose decision tree model."
   ]
  },
  {
   "cell_type": "code",
   "execution_count": 24,
   "metadata": {
    "colab": {
     "base_uri": "https://localhost:8080/",
     "height": 75
    },
    "id": "PLF5IXhcft1Y",
    "outputId": "8629d8f7-68f3-43aa-ce28-891eda4fc871"
   },
   "outputs": [
    {
     "data": {
      "text/html": [
       "<style>#sk-container-id-4 {color: black;background-color: white;}#sk-container-id-4 pre{padding: 0;}#sk-container-id-4 div.sk-toggleable {background-color: white;}#sk-container-id-4 label.sk-toggleable__label {cursor: pointer;display: block;width: 100%;margin-bottom: 0;padding: 0.3em;box-sizing: border-box;text-align: center;}#sk-container-id-4 label.sk-toggleable__label-arrow:before {content: \"▸\";float: left;margin-right: 0.25em;color: #696969;}#sk-container-id-4 label.sk-toggleable__label-arrow:hover:before {color: black;}#sk-container-id-4 div.sk-estimator:hover label.sk-toggleable__label-arrow:before {color: black;}#sk-container-id-4 div.sk-toggleable__content {max-height: 0;max-width: 0;overflow: hidden;text-align: left;background-color: #f0f8ff;}#sk-container-id-4 div.sk-toggleable__content pre {margin: 0.2em;color: black;border-radius: 0.25em;background-color: #f0f8ff;}#sk-container-id-4 input.sk-toggleable__control:checked~div.sk-toggleable__content {max-height: 200px;max-width: 100%;overflow: auto;}#sk-container-id-4 input.sk-toggleable__control:checked~label.sk-toggleable__label-arrow:before {content: \"▾\";}#sk-container-id-4 div.sk-estimator input.sk-toggleable__control:checked~label.sk-toggleable__label {background-color: #d4ebff;}#sk-container-id-4 div.sk-label input.sk-toggleable__control:checked~label.sk-toggleable__label {background-color: #d4ebff;}#sk-container-id-4 input.sk-hidden--visually {border: 0;clip: rect(1px 1px 1px 1px);clip: rect(1px, 1px, 1px, 1px);height: 1px;margin: -1px;overflow: hidden;padding: 0;position: absolute;width: 1px;}#sk-container-id-4 div.sk-estimator {font-family: monospace;background-color: #f0f8ff;border: 1px dotted black;border-radius: 0.25em;box-sizing: border-box;margin-bottom: 0.5em;}#sk-container-id-4 div.sk-estimator:hover {background-color: #d4ebff;}#sk-container-id-4 div.sk-parallel-item::after {content: \"\";width: 100%;border-bottom: 1px solid gray;flex-grow: 1;}#sk-container-id-4 div.sk-label:hover label.sk-toggleable__label {background-color: #d4ebff;}#sk-container-id-4 div.sk-serial::before {content: \"\";position: absolute;border-left: 1px solid gray;box-sizing: border-box;top: 0;bottom: 0;left: 50%;z-index: 0;}#sk-container-id-4 div.sk-serial {display: flex;flex-direction: column;align-items: center;background-color: white;padding-right: 0.2em;padding-left: 0.2em;position: relative;}#sk-container-id-4 div.sk-item {position: relative;z-index: 1;}#sk-container-id-4 div.sk-parallel {display: flex;align-items: stretch;justify-content: center;background-color: white;position: relative;}#sk-container-id-4 div.sk-item::before, #sk-container-id-4 div.sk-parallel-item::before {content: \"\";position: absolute;border-left: 1px solid gray;box-sizing: border-box;top: 0;bottom: 0;left: 50%;z-index: -1;}#sk-container-id-4 div.sk-parallel-item {display: flex;flex-direction: column;z-index: 1;position: relative;background-color: white;}#sk-container-id-4 div.sk-parallel-item:first-child::after {align-self: flex-end;width: 50%;}#sk-container-id-4 div.sk-parallel-item:last-child::after {align-self: flex-start;width: 50%;}#sk-container-id-4 div.sk-parallel-item:only-child::after {width: 0;}#sk-container-id-4 div.sk-dashed-wrapped {border: 1px dashed gray;margin: 0 0.4em 0.5em 0.4em;box-sizing: border-box;padding-bottom: 0.4em;background-color: white;}#sk-container-id-4 div.sk-label label {font-family: monospace;font-weight: bold;display: inline-block;line-height: 1.2em;}#sk-container-id-4 div.sk-label-container {text-align: center;}#sk-container-id-4 div.sk-container {/* jupyter's `normalize.less` sets `[hidden] { display: none; }` but bootstrap.min.css set `[hidden] { display: none !important; }` so we also need the `!important` here to be able to override the default hidden behavior on the sphinx rendered scikit-learn.org. See: https://github.com/scikit-learn/scikit-learn/issues/21755 */display: inline-block !important;position: relative;}#sk-container-id-4 div.sk-text-repr-fallback {display: none;}</style><div id=\"sk-container-id-4\" class=\"sk-top-container\"><div class=\"sk-text-repr-fallback\"><pre>DecisionTreeClassifier()</pre><b>In a Jupyter environment, please rerun this cell to show the HTML representation or trust the notebook. <br />On GitHub, the HTML representation is unable to render, please try loading this page with nbviewer.org.</b></div><div class=\"sk-container\" hidden><div class=\"sk-item\"><div class=\"sk-estimator sk-toggleable\"><input class=\"sk-toggleable__control sk-hidden--visually\" id=\"sk-estimator-id-4\" type=\"checkbox\" checked><label for=\"sk-estimator-id-4\" class=\"sk-toggleable__label sk-toggleable__label-arrow\">DecisionTreeClassifier</label><div class=\"sk-toggleable__content\"><pre>DecisionTreeClassifier()</pre></div></div></div></div></div>"
      ],
      "text/plain": [
       "DecisionTreeClassifier()"
      ]
     },
     "execution_count": 24,
     "metadata": {},
     "output_type": "execute_result"
    }
   ],
   "source": [
    "# Create a decision tree model\n",
    "from sklearn.tree import DecisionTreeClassifier\n",
    "\n",
    "tree = DecisionTreeClassifier()\n",
    "tree.fit(X,y)\n"
   ]
  },
  {
   "cell_type": "markdown",
   "metadata": {},
   "source": [
    "I use GridSearchCV to find the best set of parameters for this model."
   ]
  },
  {
   "cell_type": "code",
   "execution_count": 25,
   "metadata": {
    "colab": {
     "base_uri": "https://localhost:8080/"
    },
    "id": "gV7nTJlx8_6_",
    "outputId": "57a55576-ca8e-4b97-c83d-b1d1af85ab6e",
    "scrolled": true
   },
   "outputs": [
    {
     "name": "stdout",
     "output_type": "stream",
     "text": [
      "best parameters: {'criterion': 'entropy', 'max_depth': 10, 'min_samples_leaf': 4, 'min_samples_split': 10}\n"
     ]
    }
   ],
   "source": [
    "# Tune the paramter\n",
    "param_grid4 = {\n",
    "    'criterion': ['gini', 'entropy'],\n",
    "    'max_depth': [None, 10, 20, 30, 40, 50],\n",
    "    'min_samples_split': [2, 5, 10],\n",
    "    'min_samples_leaf': [1, 2, 4]\n",
    "}\n",
    "\n",
    "grid_search = GridSearchCV(estimator=tree, param_grid=param_grid4, cv=5, scoring='accuracy')\n",
    "grid_search.fit(X_train, y_train)\n",
    "\n",
    "best_params4 = grid_search.best_params_\n",
    "print(\"best parameters: {}\".format(grid_search.best_params_))\n"
   ]
  },
  {
   "cell_type": "markdown",
   "metadata": {
    "id": "5-bYAyJn9tyY"
   },
   "source": [
    "Thus, I use these best parameters for my model."
   ]
  },
  {
   "cell_type": "code",
   "execution_count": 26,
   "metadata": {
    "colab": {
     "base_uri": "https://localhost:8080/"
    },
    "id": "U9xYLJ449nbP",
    "outputId": "5b4f3a9e-81fd-4a7c-a1a4-bb8703d09120"
   },
   "outputs": [
    {
     "name": "stdout",
     "output_type": "stream",
     "text": [
      "Training set score: 0.899\n",
      "Test set score: 0.857\n",
      "tree.predict: [0 0 0 ... 1 0 0]\n",
      "Test Accuracy: 0.857\n"
     ]
    }
   ],
   "source": [
    "tree = DecisionTreeClassifier(**best_params4)\n",
    "tree.fit(X_train, y_train)\n",
    "\n",
    "# Evaluate prediction error on test data directly\n",
    "print(\"Training set score: {:.3f}\".format(tree.score(X_train, y_train)))\n",
    "print(\"Test set score: {:.3f}\".format(tree.score(X_test, y_test)))\n",
    "\n",
    "predicted_vals = tree.predict(X_test)\n",
    "print(\"tree.predict: {}\".format(predicted_vals))\n",
    "test_accuracy = accuracy_score(y_test, predicted_vals)\n",
    "print(f\"Test Accuracy: {test_accuracy:.3f}\")\n"
   ]
  },
  {
   "cell_type": "code",
   "execution_count": 27,
   "metadata": {
    "colab": {
     "base_uri": "https://localhost:8080/"
    },
    "id": "S7ycVPGC97oo",
    "outputId": "35cdb534-c4c5-458d-94f7-470389098740"
   },
   "outputs": [
    {
     "name": "stdout",
     "output_type": "stream",
     "text": [
      "Cross validation Accuracy:0.851\n"
     ]
    }
   ],
   "source": [
    "# Evaluate prediction error using k-fold cross-validation\n",
    "kfold4 = KFold()\n",
    "print(\"Cross validation Accuracy:{:.3f}\".format(np.mean(\n",
    "    cross_val_score(tree, X_train, y_train, cv=kfold4))))\n"
   ]
  },
  {
   "cell_type": "markdown",
   "metadata": {},
   "source": [
    "This model performs better than the logistic regression model and the KNN for classification model, but the model does not predict test data better than the random forest classification model. \n",
    "\n",
    "The test score of KNN classification model is 0.743, the test score of logistic regression model is 0.769, and the test score of random forest classification model is 0.867. The test score of decision tree classification model is 0.857, which is bigger than that of KNN classification and logistic regression model, but smaller than that of random forest classification model. \n",
    "\n",
    "The cross validation accuracyof KNN classification model is 0.754, the cross validation accuracy of logistic regression model is 0.776, and the cross validation accuracy of random forest classification model is 0.863. The cross validation accuracy of decision tree classification model is 0.851, which is bigger than that of KNN classification and logistic regression model, but smaller than that of random forest classification model. "
   ]
  },
  {
   "cell_type": "markdown",
   "metadata": {
    "id": "MvyuaGFJft1Y"
   },
   "source": [
    "## 12. Now rerun your best model from questions 8 through 11, but this time add three new variables to the model that you think will increase prediction accuracy.   Did this model predict test data better than your previous models?  "
   ]
  },
  {
   "cell_type": "markdown",
   "metadata": {
    "id": "JBq97VnA-MWv"
   },
   "source": [
    "Based on previous analysis, my best model is the random forest classification model.\n",
    "\n",
    "I add three new variables: 'word_freq_remove', 'char_freq_$', 'word_freq_business:'."
   ]
  },
  {
   "cell_type": "code",
   "execution_count": 28,
   "metadata": {
    "colab": {
     "base_uri": "https://localhost:8080/",
     "height": 313
    },
    "id": "A_cwyp24yKwv",
    "outputId": "6aad206e-a12e-41c5-c19b-9b73db8372bc"
   },
   "outputs": [
    {
     "name": "stdout",
     "output_type": "stream",
     "text": [
      "0    1\n",
      "1    1\n",
      "2    1\n",
      "3    1\n",
      "4    1\n",
      "Name: spam, dtype: int64\n"
     ]
    },
    {
     "data": {
      "text/html": [
       "<div>\n",
       "<style scoped>\n",
       "    .dataframe tbody tr th:only-of-type {\n",
       "        vertical-align: middle;\n",
       "    }\n",
       "\n",
       "    .dataframe tbody tr th {\n",
       "        vertical-align: top;\n",
       "    }\n",
       "\n",
       "    .dataframe thead th {\n",
       "        text-align: right;\n",
       "    }\n",
       "</style>\n",
       "<table border=\"1\" class=\"dataframe\">\n",
       "  <thead>\n",
       "    <tr style=\"text-align: right;\">\n",
       "      <th></th>\n",
       "      <th>char_freq_!:</th>\n",
       "      <th>capital_run_length_total:</th>\n",
       "      <th>word_freq_free:</th>\n",
       "      <th>word_freq_remove:</th>\n",
       "      <th>char_freq_$:</th>\n",
       "      <th>word_freq_business:</th>\n",
       "    </tr>\n",
       "  </thead>\n",
       "  <tbody>\n",
       "    <tr>\n",
       "      <th>0</th>\n",
       "      <td>0.778</td>\n",
       "      <td>278</td>\n",
       "      <td>0.32</td>\n",
       "      <td>0.00</td>\n",
       "      <td>0.000</td>\n",
       "      <td>0.00</td>\n",
       "    </tr>\n",
       "    <tr>\n",
       "      <th>1</th>\n",
       "      <td>0.372</td>\n",
       "      <td>1028</td>\n",
       "      <td>0.14</td>\n",
       "      <td>0.21</td>\n",
       "      <td>0.180</td>\n",
       "      <td>0.07</td>\n",
       "    </tr>\n",
       "    <tr>\n",
       "      <th>2</th>\n",
       "      <td>0.276</td>\n",
       "      <td>2259</td>\n",
       "      <td>0.06</td>\n",
       "      <td>0.19</td>\n",
       "      <td>0.184</td>\n",
       "      <td>0.06</td>\n",
       "    </tr>\n",
       "    <tr>\n",
       "      <th>3</th>\n",
       "      <td>0.137</td>\n",
       "      <td>191</td>\n",
       "      <td>0.31</td>\n",
       "      <td>0.31</td>\n",
       "      <td>0.000</td>\n",
       "      <td>0.00</td>\n",
       "    </tr>\n",
       "    <tr>\n",
       "      <th>4</th>\n",
       "      <td>0.135</td>\n",
       "      <td>191</td>\n",
       "      <td>0.31</td>\n",
       "      <td>0.31</td>\n",
       "      <td>0.000</td>\n",
       "      <td>0.00</td>\n",
       "    </tr>\n",
       "  </tbody>\n",
       "</table>\n",
       "</div>"
      ],
      "text/plain": [
       "   char_freq_!:  capital_run_length_total:  word_freq_free:  \\\n",
       "0         0.778                        278             0.32   \n",
       "1         0.372                       1028             0.14   \n",
       "2         0.276                       2259             0.06   \n",
       "3         0.137                        191             0.31   \n",
       "4         0.135                        191             0.31   \n",
       "\n",
       "   word_freq_remove:  char_freq_$:  word_freq_business:  \n",
       "0               0.00         0.000                 0.00  \n",
       "1               0.21         0.180                 0.07  \n",
       "2               0.19         0.184                 0.06  \n",
       "3               0.31         0.000                 0.00  \n",
       "4               0.31         0.000                 0.00  "
      ]
     },
     "execution_count": 28,
     "metadata": {},
     "output_type": "execute_result"
    }
   ],
   "source": [
    "y2 = df['spam']\n",
    "X2 = df[['char_freq_!:', 'capital_run_length_total:', 'word_freq_free:',\n",
    "        'word_freq_remove:', 'char_freq_$:', 'word_freq_business:']]\n",
    "\n",
    "print(y2[0:5])\n",
    "X2.head(5)\n"
   ]
  },
  {
   "cell_type": "code",
   "execution_count": 29,
   "metadata": {
    "colab": {
     "base_uri": "https://localhost:8080/",
     "height": 206
    },
    "id": "s-FEWVdpft1Y",
    "outputId": "74e2c4a5-d111-4295-ead3-837a8f0becb9"
   },
   "outputs": [
    {
     "data": {
      "text/html": [
       "<div>\n",
       "<style scoped>\n",
       "    .dataframe tbody tr th:only-of-type {\n",
       "        vertical-align: middle;\n",
       "    }\n",
       "\n",
       "    .dataframe tbody tr th {\n",
       "        vertical-align: top;\n",
       "    }\n",
       "\n",
       "    .dataframe thead th {\n",
       "        text-align: right;\n",
       "    }\n",
       "</style>\n",
       "<table border=\"1\" class=\"dataframe\">\n",
       "  <thead>\n",
       "    <tr style=\"text-align: right;\">\n",
       "      <th></th>\n",
       "      <th>char_freq_!:</th>\n",
       "      <th>capital_run_length_total:</th>\n",
       "      <th>word_freq_free:</th>\n",
       "      <th>word_freq_remove:</th>\n",
       "      <th>char_freq_$:</th>\n",
       "      <th>word_freq_business:</th>\n",
       "    </tr>\n",
       "  </thead>\n",
       "  <tbody>\n",
       "    <tr>\n",
       "      <th>1173</th>\n",
       "      <td>1.939</td>\n",
       "      <td>40</td>\n",
       "      <td>1.23</td>\n",
       "      <td>1.23</td>\n",
       "      <td>0.000</td>\n",
       "      <td>0.00</td>\n",
       "    </tr>\n",
       "    <tr>\n",
       "      <th>1954</th>\n",
       "      <td>0.000</td>\n",
       "      <td>74</td>\n",
       "      <td>0.00</td>\n",
       "      <td>0.00</td>\n",
       "      <td>0.000</td>\n",
       "      <td>0.00</td>\n",
       "    </tr>\n",
       "    <tr>\n",
       "      <th>256</th>\n",
       "      <td>0.931</td>\n",
       "      <td>217</td>\n",
       "      <td>0.00</td>\n",
       "      <td>0.00</td>\n",
       "      <td>0.000</td>\n",
       "      <td>2.85</td>\n",
       "    </tr>\n",
       "    <tr>\n",
       "      <th>3341</th>\n",
       "      <td>0.014</td>\n",
       "      <td>1223</td>\n",
       "      <td>0.14</td>\n",
       "      <td>0.00</td>\n",
       "      <td>0.044</td>\n",
       "      <td>0.19</td>\n",
       "    </tr>\n",
       "    <tr>\n",
       "      <th>4469</th>\n",
       "      <td>0.000</td>\n",
       "      <td>3</td>\n",
       "      <td>0.00</td>\n",
       "      <td>0.00</td>\n",
       "      <td>0.000</td>\n",
       "      <td>0.00</td>\n",
       "    </tr>\n",
       "  </tbody>\n",
       "</table>\n",
       "</div>"
      ],
      "text/plain": [
       "      char_freq_!:  capital_run_length_total:  word_freq_free:  \\\n",
       "1173         1.939                         40             1.23   \n",
       "1954         0.000                         74             0.00   \n",
       "256          0.931                        217             0.00   \n",
       "3341         0.014                       1223             0.14   \n",
       "4469         0.000                          3             0.00   \n",
       "\n",
       "      word_freq_remove:  char_freq_$:  word_freq_business:  \n",
       "1173               1.23         0.000                 0.00  \n",
       "1954               0.00         0.000                 0.00  \n",
       "256                0.00         0.000                 2.85  \n",
       "3341               0.00         0.044                 0.19  \n",
       "4469               0.00         0.000                 0.00  "
      ]
     },
     "execution_count": 29,
     "metadata": {},
     "output_type": "execute_result"
    }
   ],
   "source": [
    "X_train2, X_test2, y_train2, y_test2 = train_test_split(X2, y2, random_state=42)\n",
    "X_train2.head(5)\n"
   ]
  },
  {
   "cell_type": "code",
   "execution_count": 30,
   "metadata": {
    "colab": {
     "base_uri": "https://localhost:8080/"
    },
    "id": "OudRcSjgft1Y",
    "outputId": "3b69c6c3-98b3-4e9e-d42b-e1c63a2b0921"
   },
   "outputs": [
    {
     "name": "stdout",
     "output_type": "stream",
     "text": [
      "Training set score: 0.952\n",
      "Test set score: 0.904\n",
      "rf.predict: [0 0 0 ... 1 0 1]\n",
      "Test Accuracy: 0.904\n"
     ]
    }
   ],
   "source": [
    "rf_model_new = RandomForestClassifier(**best_params2)\n",
    "rf_model_new.fit(X_train2, y_train2)\n",
    "\n",
    "# Evaluate prediction error on test data directly\n",
    "print(\"Training set score: {:.3f}\".format(rf_model_new.score(X_train2, y_train2)))\n",
    "print(\"Test set score: {:.3f}\".format(rf_model_new.score(X_test2, y_test2)))\n",
    "\n",
    "predicted_vals = rf_model_new.predict(X_test2)\n",
    "print(\"rf.predict: {}\".format(predicted_vals))\n",
    "test_accuracy = accuracy_score(y_test2, predicted_vals)\n",
    "print(f\"Test Accuracy: {test_accuracy:.3f}\")\n"
   ]
  },
  {
   "cell_type": "code",
   "execution_count": 31,
   "metadata": {
    "colab": {
     "base_uri": "https://localhost:8080/"
    },
    "id": "IGCI-v5sADa6",
    "outputId": "37e0c770-87bc-4293-89ca-4d15f92196f4"
   },
   "outputs": [
    {
     "name": "stdout",
     "output_type": "stream",
     "text": [
      "Cross validation Accuracy:0.913\n"
     ]
    }
   ],
   "source": [
    "# Evaluate prediction error using k-fold cross-validation\n",
    "kfold5 = KFold()\n",
    "print(\"Cross validation Accuracy:{:.3f}\".format(np.mean(\n",
    "    cross_val_score(rf_model_new, X_train2, y_train2, cv=kfold5))))\n"
   ]
  },
  {
   "cell_type": "markdown",
   "metadata": {
    "id": "3-xissIrAIUy"
   },
   "source": [
    "This model performs bettter than all of my previous models. Compared with the random forest classification model using 3 variables, the test score increases from 0.867 to 0.904, and the cross validation accuracy increases from 0.863 to 0.913."
   ]
  },
  {
   "cell_type": "markdown",
   "metadata": {
    "id": "YzbBpSMFft1Y"
   },
   "source": [
    "## 13. Rerun all your other models with this final set of six variables, evaluate prediction error, and choose a final model.  Why did you select this model among all of the models that you ran?  "
   ]
  },
  {
   "cell_type": "markdown",
   "metadata": {
    "id": "vb3f42ekyApt"
   },
   "source": [
    "### Logistic regression model:"
   ]
  },
  {
   "cell_type": "code",
   "execution_count": 32,
   "metadata": {
    "colab": {
     "base_uri": "https://localhost:8080/"
    },
    "id": "xmLeLnQ0yTi6",
    "outputId": "92c272ba-8e58-4338-a373-7ddcba2c13dd"
   },
   "outputs": [
    {
     "name": "stdout",
     "output_type": "stream",
     "text": [
      "Training set score: 0.855\n",
      "Test set score: 0.845\n",
      "logreg.predict: [0 0 0 ... 1 0 1]\n",
      "Test Accuracy: 0.845\n"
     ]
    }
   ],
   "source": [
    "logreg_new = LogisticRegression(**best_params1).fit(X_train2, y_train2)\n",
    "\n",
    "# Evaluate prediction error on test data directly\n",
    "print(\"Training set score: {:.3f}\".format(logreg_new.score(X_train2, y_train2)))\n",
    "print(\"Test set score: {:.3f}\".format(logreg_new.score(X_test2, y_test2)))\n",
    "\n",
    "predicted_vals = logreg_new.predict(X_test2)\n",
    "print(\"logreg.predict: {}\".format(predicted_vals))\n",
    "test_accuracy = accuracy_score(y_test2, predicted_vals)\n",
    "print(f\"Test Accuracy: {test_accuracy:.3f}\")\n"
   ]
  },
  {
   "cell_type": "code",
   "execution_count": 33,
   "metadata": {
    "colab": {
     "base_uri": "https://localhost:8080/"
    },
    "id": "FeoJEjpJAiCK",
    "outputId": "6fc58798-bf46-4d75-d2f3-55fdcce6d820"
   },
   "outputs": [
    {
     "name": "stdout",
     "output_type": "stream",
     "text": [
      "Cross validation Accuracy:0.859\n"
     ]
    }
   ],
   "source": [
    "# Evaluate prediction error using k-fold cross-validation\n",
    "kfold6 = KFold()\n",
    "print(\"Cross validation Accuracy:{:.3f}\".format(np.mean(\n",
    "    cross_val_score(logreg_new, X_train2, y_train2, cv=kfold6))))\n"
   ]
  },
  {
   "cell_type": "markdown",
   "metadata": {
    "id": "sNnQak1syLhA"
   },
   "source": [
    "### KNN for classification:"
   ]
  },
  {
   "cell_type": "code",
   "execution_count": 34,
   "metadata": {
    "colab": {
     "base_uri": "https://localhost:8080/"
    },
    "id": "lRjW208bft1Y",
    "outputId": "37888ec5-fa70-4135-98b3-cb8612ba7a90"
   },
   "outputs": [
    {
     "name": "stdout",
     "output_type": "stream",
     "text": [
      "Training set score: 0.880\n",
      "Test set score: 0.759\n",
      "best score: 0.760\n",
      "knn.predict: [0 1 0 ... 1 0 1]\n",
      "Test Accuracy: 0.759\n"
     ]
    }
   ],
   "source": [
    "knn_new = KNeighborsClassifier(n_neighbors=3)\n",
    "knn_new.fit(X_train2, y_train2)\n",
    "\n",
    "# Evaluate prediction error on test data directly\n",
    "print(\"Training set score: {:.3f}\".format(knn_new.score(X_train2, y_train2)))\n",
    "print(\"Test set score: {:.3f}\".format(knn_new.score(X_test2, y_test2)))\n",
    "print(\"best score: {:.3f}\".format(grid.best_score_))\n",
    "\n",
    "predicted_vals = knn_new.predict(X_test2)\n",
    "print(\"knn.predict: {}\".format(predicted_vals))\n",
    "test_accuracy = accuracy_score(y_test2, predicted_vals)\n",
    "print(f\"Test Accuracy: {test_accuracy:.3f}\")\n"
   ]
  },
  {
   "cell_type": "code",
   "execution_count": 35,
   "metadata": {},
   "outputs": [
    {
     "name": "stdout",
     "output_type": "stream",
     "text": [
      "Cross validation Accuracy:0.772\n"
     ]
    }
   ],
   "source": [
    "# Evaluate prediction error using k-fold cross-validation\n",
    "kfold7 = KFold()\n",
    "print(\"Cross validation Accuracy:{:.3f}\".format(np.mean(\n",
    "    cross_val_score(knn_new, X_train2, y_train2, cv=kfold7))))\n"
   ]
  },
  {
   "cell_type": "markdown",
   "metadata": {
    "id": "-1I6DWjAyQph"
   },
   "source": [
    "### Decision tree classification:"
   ]
  },
  {
   "cell_type": "code",
   "execution_count": 36,
   "metadata": {
    "colab": {
     "base_uri": "https://localhost:8080/"
    },
    "id": "0xB511Kift1Y",
    "outputId": "5205a041-f074-45bc-bddd-ed4b1edcee95"
   },
   "outputs": [
    {
     "name": "stdout",
     "output_type": "stream",
     "text": [
      "Training set score: 0.931\n",
      "Test set score: 0.879\n",
      "tree.predict: [0 0 0 ... 1 0 1]\n",
      "Test Accuracy: 0.879\n"
     ]
    }
   ],
   "source": [
    "tree_new = DecisionTreeClassifier(**best_params4)\n",
    "tree_new.fit(X_train2, y_train2)\n",
    "\n",
    "# Evaluate prediction error on test data directly\n",
    "print(\"Training set score: {:.3f}\".format(tree_new.score(X_train2, y_train2)))\n",
    "print(\"Test set score: {:.3f}\".format(tree_new.score(X_test2, y_test2)))\n",
    "\n",
    "predicted_vals = tree_new.predict(X_test2)\n",
    "print(\"tree.predict: {}\".format(predicted_vals))\n",
    "test_accuracy = accuracy_score(y_test2, predicted_vals)\n",
    "print(f\"Test Accuracy: {test_accuracy:.3f}\")\n"
   ]
  },
  {
   "cell_type": "code",
   "execution_count": 37,
   "metadata": {
    "colab": {
     "base_uri": "https://localhost:8080/"
    },
    "id": "T9dF7XXaB4hW",
    "outputId": "0913dc7d-4208-4673-cfbf-e53b597f0c61"
   },
   "outputs": [
    {
     "name": "stdout",
     "output_type": "stream",
     "text": [
      "Cross validation Accuracy:0.898\n"
     ]
    }
   ],
   "source": [
    "# Evaluate prediction error using k-fold cross-validation\n",
    "kfold8 = KFold()\n",
    "print(\"Cross validation Accuracy:{:.3f}\".format(np.mean(\n",
    "    cross_val_score(tree_new, X_train2, y_train2, cv=kfold8))))\n"
   ]
  },
  {
   "cell_type": "markdown",
   "metadata": {
    "id": "LqrWAhUeB--Y"
   },
   "source": [
    "I will choose random forest classification model. When using 6 variables, this model performs the best in terms of the test score and cross validation accuracy. The test score is 0.904, and the cross validation accuracy is 0.913. When using the 3 variables, it also performs the best. "
   ]
  },
  {
   "cell_type": "markdown",
   "metadata": {
    "id": "JR-S_c18ft1Y"
   },
   "source": [
    "## 14. What variable that currently is not in your model, if included, would be likely to increase your final model's predictive power?  For this answer try to speculate about a variable outside the variables available in the data that would improve your model."
   ]
  },
  {
   "cell_type": "markdown",
   "metadata": {
    "id": "DTZtSIFxBEQe"
   },
   "source": [
    "Variable: The sender's email address\n",
    "\n",
    "The sender's email address may be a key identifier. Legitimate emails often come from known and verified sources, such as known businesses or contacts. In contrast, spam emails may use fake or suspicious email addresses.\n",
    "\n",
    "By including sender information, the model can learn to distinguish between trusted sources and potential spammers. For example, if an email address is associated with previous emails of spam, it might be indicative of future spam."
   ]
  },
  {
   "cell_type": "markdown",
   "metadata": {
    "id": "vq5fu9ejft1Y"
   },
   "source": [
    "## 15. Lastly, you have listed each of the models that we have learned to use to predict dependent variables like spam.  List each model we have focused on in class thus far that you could use to evaluate data with a continuous dependent variable."
   ]
  },
  {
   "cell_type": "markdown",
   "metadata": {
    "id": "U07y7oT2ft1Y"
   },
   "source": [
    "*   Linear Regression\n",
    "*   Decision Trees for Regression\n",
    "*   Random Forest for Regression\n",
    "*   Support Vector Machines (SVM) for Regression\n",
    "*   K-Nearest Neighbors (KNN) for Regression\n",
    "*   Gradient Boosting Models for Regression \n",
    "*   Bagging (Regression)\n",
    "*   Lasso Regression\n",
    "*   Ridge Regression"
   ]
  },
  {
   "cell_type": "code",
   "execution_count": null,
   "metadata": {},
   "outputs": [],
   "source": []
  }
 ],
 "metadata": {
  "colab": {
   "provenance": [],
   "toc_visible": true
  },
  "kernelspec": {
   "display_name": "Python 3 (ipykernel)",
   "language": "python",
   "name": "python3"
  },
  "language_info": {
   "codemirror_mode": {
    "name": "ipython",
    "version": 3
   },
   "file_extension": ".py",
   "mimetype": "text/x-python",
   "name": "python",
   "nbconvert_exporter": "python",
   "pygments_lexer": "ipython3",
   "version": "3.11.4"
  }
 },
 "nbformat": 4,
 "nbformat_minor": 1
}
